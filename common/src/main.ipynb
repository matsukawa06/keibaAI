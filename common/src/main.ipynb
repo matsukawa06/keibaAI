{
 "cells": [
  {
   "cell_type": "code",
   "execution_count": 5,
   "metadata": {},
   "outputs": [],
   "source": [
    "import scraping\n",
    "import pickle\n",
    "import create_rawdf\n",
    "%load_ext autoreload"
   ]
  },
  {
   "cell_type": "code",
   "execution_count": 26,
   "metadata": {},
   "outputs": [],
   "source": [
    "%autoreload"
   ]
  },
  {
   "cell_type": "markdown",
   "metadata": {},
   "source": [
    "# データ取得"
   ]
  },
  {
   "cell_type": "markdown",
   "metadata": {},
   "source": [
    "## 開催日一覧を取得"
   ]
  },
  {
   "cell_type": "code",
   "execution_count": 3,
   "metadata": {},
   "outputs": [
    {
     "data": {
      "application/vnd.jupyter.widget-view+json": {
       "model_id": "8eac5a136ae64a9d9b71fa61efd2e72c",
       "version_major": 2,
       "version_minor": 0
      },
      "text/plain": [
       "  0%|          | 0/12 [00:00<?, ?it/s]"
      ]
     },
     "metadata": {},
     "output_type": "display_data"
    }
   ],
   "source": [
    "kaisai_date_list = scraping.scrape_kaisai_date(from_=\"2024-01\", to_=\"2024-12\")"
   ]
  },
  {
   "cell_type": "code",
   "execution_count": 4,
   "metadata": {},
   "outputs": [
    {
     "data": {
      "application/vnd.jupyter.widget-view+json": {
       "model_id": "9184fced27ed4afd9af2b41186865bcf",
       "version_major": 2,
       "version_minor": 0
      },
      "text/plain": [
       "  0%|          | 0/106 [00:00<?, ?it/s]"
      ]
     },
     "metadata": {},
     "output_type": "display_data"
    },
    {
     "name": "stdout",
     "output_type": "stream",
     "text": [
      "stopped at https://race.netkeiba.com/top/race_list.html?kaisai_date=20240106\n",
      "Traceback (most recent call last):\n",
      "  File \"/Users/matsukawanaoya/develop/python/keibaAI/common/src/scraping.py\", line 77, in scrape_race_id_list\n",
      "    driver.get(url)\n",
      "  File \"/Users/matsukawanaoya/develop/python/keibaAI/keibavenv/lib/python3.9/site-packages/selenium/webdriver/remote/webdriver.py\", line 454, in get\n",
      "    self.execute(Command.GET, {\"url\": url})\n",
      "  File \"/Users/matsukawanaoya/develop/python/keibaAI/keibavenv/lib/python3.9/site-packages/selenium/webdriver/remote/webdriver.py\", line 427, in execute\n",
      "    response = self.command_executor.execute(driver_command, params)\n",
      "  File \"/Users/matsukawanaoya/develop/python/keibaAI/keibavenv/lib/python3.9/site-packages/selenium/webdriver/remote/remote_connection.py\", line 404, in execute\n",
      "    return self._request(command_info[0], url, body=data)\n",
      "  File \"/Users/matsukawanaoya/develop/python/keibaAI/keibavenv/lib/python3.9/site-packages/selenium/webdriver/remote/remote_connection.py\", line 428, in _request\n",
      "    response = self._conn.request(method, url, body=body, headers=headers, timeout=self._client_config.timeout)\n",
      "  File \"/Users/matsukawanaoya/develop/python/keibaAI/keibavenv/lib/python3.9/site-packages/urllib3/request.py\", line 78, in request\n",
      "    return self.request_encode_body(\n",
      "  File \"/Users/matsukawanaoya/develop/python/keibaAI/keibavenv/lib/python3.9/site-packages/urllib3/request.py\", line 170, in request_encode_body\n",
      "    return self.urlopen(method, url, **extra_kw)\n",
      "  File \"/Users/matsukawanaoya/develop/python/keibaAI/keibavenv/lib/python3.9/site-packages/urllib3/poolmanager.py\", line 375, in urlopen\n",
      "    response = conn.urlopen(method, u.request_uri, **kw)\n",
      "  File \"/Users/matsukawanaoya/develop/python/keibaAI/keibavenv/lib/python3.9/site-packages/urllib3/connectionpool.py\", line 699, in urlopen\n",
      "    httplib_response = self._make_request(\n",
      "  File \"/Users/matsukawanaoya/develop/python/keibaAI/keibavenv/lib/python3.9/site-packages/urllib3/connectionpool.py\", line 445, in _make_request\n",
      "    six.raise_from(e, None)\n",
      "  File \"<string>\", line 3, in raise_from\n",
      "  File \"/Users/matsukawanaoya/develop/python/keibaAI/keibavenv/lib/python3.9/site-packages/urllib3/connectionpool.py\", line 440, in _make_request\n",
      "    httplib_response = conn.getresponse()\n",
      "  File \"/Applications/Xcode.app/Contents/Developer/Library/Frameworks/Python3.framework/Versions/3.9/lib/python3.9/http/client.py\", line 1349, in getresponse\n",
      "    response.begin()\n",
      "  File \"/Applications/Xcode.app/Contents/Developer/Library/Frameworks/Python3.framework/Versions/3.9/lib/python3.9/http/client.py\", line 316, in begin\n",
      "    version, status, reason = self._read_status()\n",
      "  File \"/Applications/Xcode.app/Contents/Developer/Library/Frameworks/Python3.framework/Versions/3.9/lib/python3.9/http/client.py\", line 277, in _read_status\n",
      "    line = str(self.fp.readline(_MAXLINE + 1), \"iso-8859-1\")\n",
      "  File \"/Applications/Xcode.app/Contents/Developer/Library/Frameworks/Python3.framework/Versions/3.9/lib/python3.9/socket.py\", line 704, in readinto\n",
      "    return self._sock.recv_into(b)\n",
      "KeyboardInterrupt\n",
      "\n"
     ]
    }
   ],
   "source": [
    "race_id_list = scraping.scrape_race_id_list(kaisai_date_list)"
   ]
  },
  {
   "cell_type": "markdown",
   "metadata": {},
   "source": [
    "レースidリストの読み込みにすごく時間がかかったので<br>\n",
    "ファイルに保存しておく"
   ]
  },
  {
   "cell_type": "code",
   "execution_count": 9,
   "metadata": {},
   "outputs": [],
   "source": [
    "# wbはwrite bynariの略\n",
    "with open(\"race_id_list.pickle\", \"wb\") as f:\n",
    "    pickle.dump(race_id_list, f)"
   ]
  },
  {
   "cell_type": "markdown",
   "metadata": {},
   "source": [
    "## raceページの取得"
   ]
  },
  {
   "cell_type": "code",
   "execution_count": 3,
   "metadata": {},
   "outputs": [],
   "source": [
    "with open(\"race_id_list.pickle\", \"rb\") as f:\n",
    "    race_id_list = pickle.load(f)"
   ]
  },
  {
   "cell_type": "code",
   "execution_count": null,
   "metadata": {},
   "outputs": [],
   "source": [
    "html_paths_race = scraping.scrape_html_race(race_id_list=race_id_list)"
   ]
  },
  {
   "cell_type": "code",
   "execution_count": 10,
   "metadata": {},
   "outputs": [],
   "source": [
    "# html_paths_raceが失われた場合はファイルから読み込む\n",
    "if \"html_paths_race\" not in locals():\n",
    "    html_paths_race = list(scraping.HTML_RACE_DIR.glob(\"*.bin\"))"
   ]
  },
  {
   "cell_type": "code",
   "execution_count": 11,
   "metadata": {},
   "outputs": [
    {
     "data": {
      "application/vnd.jupyter.widget-view+json": {
       "model_id": "e0d27c861f564e7c8958f02b48fc728b",
       "version_major": 2,
       "version_minor": 0
      },
      "text/plain": [
       "0it [00:00, ?it/s]"
      ]
     },
     "metadata": {},
     "output_type": "display_data"
    },
    {
     "ename": "ValueError",
     "evalue": "No objects to concatenate",
     "output_type": "error",
     "traceback": [
      "\u001b[0;31m---------------------------------------------------------------------------\u001b[0m",
      "\u001b[0;31mValueError\u001b[0m                                Traceback (most recent call last)",
      "Cell \u001b[0;32mIn[11], line 1\u001b[0m\n\u001b[0;32m----> 1\u001b[0m results \u001b[38;5;241m=\u001b[39m \u001b[43mcreate_rawdf\u001b[49m\u001b[38;5;241;43m.\u001b[39;49m\u001b[43mcreate_results\u001b[49m\u001b[43m(\u001b[49m\u001b[43mhtml_path_list\u001b[49m\u001b[38;5;241;43m=\u001b[39;49m\u001b[43mhtml_paths_race\u001b[49m\u001b[43m)\u001b[49m\n",
      "File \u001b[0;32m~/develop/python/keibaAI/common/src/create_rawdf.py:72\u001b[0m, in \u001b[0;36mcreate_results\u001b[0;34m(html_path_list, save_dir, save_filename)\u001b[0m\n\u001b[1;32m     70\u001b[0m             \u001b[38;5;28mprint\u001b[39m(\u001b[38;5;124mf\u001b[39m\u001b[38;5;124m\"\u001b[39m\u001b[38;5;124mtable not found at \u001b[39m\u001b[38;5;132;01m{\u001b[39;00mrace_id\u001b[38;5;132;01m}\u001b[39;00m\u001b[38;5;124m\"\u001b[39m)\n\u001b[1;32m     71\u001b[0m             \u001b[38;5;28;01mcontinue\u001b[39;00m\n\u001b[0;32m---> 72\u001b[0m concat_df \u001b[38;5;241m=\u001b[39m \u001b[43mpd\u001b[49m\u001b[38;5;241;43m.\u001b[39;49m\u001b[43mconcat\u001b[49m\u001b[43m(\u001b[49m\u001b[43mdfs\u001b[49m\u001b[38;5;241;43m.\u001b[39;49m\u001b[43mvalues\u001b[49m\u001b[43m(\u001b[49m\u001b[43m)\u001b[49m\u001b[43m)\u001b[49m\n\u001b[1;32m     73\u001b[0m concat_df\u001b[38;5;241m.\u001b[39mindex\u001b[38;5;241m.\u001b[39mname \u001b[38;5;241m=\u001b[39m \u001b[38;5;124m\"\u001b[39m\u001b[38;5;124mrace_id\u001b[39m\u001b[38;5;124m\"\u001b[39m\n\u001b[1;32m     74\u001b[0m concat_df\u001b[38;5;241m.\u001b[39mcolumns \u001b[38;5;241m=\u001b[39m concat_df\u001b[38;5;241m.\u001b[39mcolumns\u001b[38;5;241m.\u001b[39mstr\u001b[38;5;241m.\u001b[39mreplace(\u001b[38;5;124m\"\u001b[39m\u001b[38;5;124m \u001b[39m\u001b[38;5;124m\"\u001b[39m, \u001b[38;5;124m\"\u001b[39m\u001b[38;5;124m\"\u001b[39m)\n",
      "File \u001b[0;32m~/develop/python/keibaAI/keibavenv/lib/python3.9/site-packages/pandas/core/reshape/concat.py:382\u001b[0m, in \u001b[0;36mconcat\u001b[0;34m(objs, axis, join, ignore_index, keys, levels, names, verify_integrity, sort, copy)\u001b[0m\n\u001b[1;32m    379\u001b[0m \u001b[38;5;28;01melif\u001b[39;00m copy \u001b[38;5;129;01mand\u001b[39;00m using_copy_on_write():\n\u001b[1;32m    380\u001b[0m     copy \u001b[38;5;241m=\u001b[39m \u001b[38;5;28;01mFalse\u001b[39;00m\n\u001b[0;32m--> 382\u001b[0m op \u001b[38;5;241m=\u001b[39m \u001b[43m_Concatenator\u001b[49m\u001b[43m(\u001b[49m\n\u001b[1;32m    383\u001b[0m \u001b[43m    \u001b[49m\u001b[43mobjs\u001b[49m\u001b[43m,\u001b[49m\n\u001b[1;32m    384\u001b[0m \u001b[43m    \u001b[49m\u001b[43maxis\u001b[49m\u001b[38;5;241;43m=\u001b[39;49m\u001b[43maxis\u001b[49m\u001b[43m,\u001b[49m\n\u001b[1;32m    385\u001b[0m \u001b[43m    \u001b[49m\u001b[43mignore_index\u001b[49m\u001b[38;5;241;43m=\u001b[39;49m\u001b[43mignore_index\u001b[49m\u001b[43m,\u001b[49m\n\u001b[1;32m    386\u001b[0m \u001b[43m    \u001b[49m\u001b[43mjoin\u001b[49m\u001b[38;5;241;43m=\u001b[39;49m\u001b[43mjoin\u001b[49m\u001b[43m,\u001b[49m\n\u001b[1;32m    387\u001b[0m \u001b[43m    \u001b[49m\u001b[43mkeys\u001b[49m\u001b[38;5;241;43m=\u001b[39;49m\u001b[43mkeys\u001b[49m\u001b[43m,\u001b[49m\n\u001b[1;32m    388\u001b[0m \u001b[43m    \u001b[49m\u001b[43mlevels\u001b[49m\u001b[38;5;241;43m=\u001b[39;49m\u001b[43mlevels\u001b[49m\u001b[43m,\u001b[49m\n\u001b[1;32m    389\u001b[0m \u001b[43m    \u001b[49m\u001b[43mnames\u001b[49m\u001b[38;5;241;43m=\u001b[39;49m\u001b[43mnames\u001b[49m\u001b[43m,\u001b[49m\n\u001b[1;32m    390\u001b[0m \u001b[43m    \u001b[49m\u001b[43mverify_integrity\u001b[49m\u001b[38;5;241;43m=\u001b[39;49m\u001b[43mverify_integrity\u001b[49m\u001b[43m,\u001b[49m\n\u001b[1;32m    391\u001b[0m \u001b[43m    \u001b[49m\u001b[43mcopy\u001b[49m\u001b[38;5;241;43m=\u001b[39;49m\u001b[43mcopy\u001b[49m\u001b[43m,\u001b[49m\n\u001b[1;32m    392\u001b[0m \u001b[43m    \u001b[49m\u001b[43msort\u001b[49m\u001b[38;5;241;43m=\u001b[39;49m\u001b[43msort\u001b[49m\u001b[43m,\u001b[49m\n\u001b[1;32m    393\u001b[0m \u001b[43m\u001b[49m\u001b[43m)\u001b[49m\n\u001b[1;32m    395\u001b[0m \u001b[38;5;28;01mreturn\u001b[39;00m op\u001b[38;5;241m.\u001b[39mget_result()\n",
      "File \u001b[0;32m~/develop/python/keibaAI/keibavenv/lib/python3.9/site-packages/pandas/core/reshape/concat.py:445\u001b[0m, in \u001b[0;36m_Concatenator.__init__\u001b[0;34m(self, objs, axis, join, keys, levels, names, ignore_index, verify_integrity, copy, sort)\u001b[0m\n\u001b[1;32m    442\u001b[0m \u001b[38;5;28mself\u001b[39m\u001b[38;5;241m.\u001b[39mverify_integrity \u001b[38;5;241m=\u001b[39m verify_integrity\n\u001b[1;32m    443\u001b[0m \u001b[38;5;28mself\u001b[39m\u001b[38;5;241m.\u001b[39mcopy \u001b[38;5;241m=\u001b[39m copy\n\u001b[0;32m--> 445\u001b[0m objs, keys \u001b[38;5;241m=\u001b[39m \u001b[38;5;28;43mself\u001b[39;49m\u001b[38;5;241;43m.\u001b[39;49m\u001b[43m_clean_keys_and_objs\u001b[49m\u001b[43m(\u001b[49m\u001b[43mobjs\u001b[49m\u001b[43m,\u001b[49m\u001b[43m \u001b[49m\u001b[43mkeys\u001b[49m\u001b[43m)\u001b[49m\n\u001b[1;32m    447\u001b[0m \u001b[38;5;66;03m# figure out what our result ndim is going to be\u001b[39;00m\n\u001b[1;32m    448\u001b[0m ndims \u001b[38;5;241m=\u001b[39m \u001b[38;5;28mself\u001b[39m\u001b[38;5;241m.\u001b[39m_get_ndims(objs)\n",
      "File \u001b[0;32m~/develop/python/keibaAI/keibavenv/lib/python3.9/site-packages/pandas/core/reshape/concat.py:507\u001b[0m, in \u001b[0;36m_Concatenator._clean_keys_and_objs\u001b[0;34m(self, objs, keys)\u001b[0m\n\u001b[1;32m    504\u001b[0m     objs_list \u001b[38;5;241m=\u001b[39m \u001b[38;5;28mlist\u001b[39m(objs)\n\u001b[1;32m    506\u001b[0m \u001b[38;5;28;01mif\u001b[39;00m \u001b[38;5;28mlen\u001b[39m(objs_list) \u001b[38;5;241m==\u001b[39m \u001b[38;5;241m0\u001b[39m:\n\u001b[0;32m--> 507\u001b[0m     \u001b[38;5;28;01mraise\u001b[39;00m \u001b[38;5;167;01mValueError\u001b[39;00m(\u001b[38;5;124m\"\u001b[39m\u001b[38;5;124mNo objects to concatenate\u001b[39m\u001b[38;5;124m\"\u001b[39m)\n\u001b[1;32m    509\u001b[0m \u001b[38;5;28;01mif\u001b[39;00m keys \u001b[38;5;129;01mis\u001b[39;00m \u001b[38;5;28;01mNone\u001b[39;00m:\n\u001b[1;32m    510\u001b[0m     objs_list \u001b[38;5;241m=\u001b[39m \u001b[38;5;28mlist\u001b[39m(com\u001b[38;5;241m.\u001b[39mnot_none(\u001b[38;5;241m*\u001b[39mobjs_list))\n",
      "\u001b[0;31mValueError\u001b[0m: No objects to concatenate"
     ]
    }
   ],
   "source": [
    "results = create_rawdf.create_results(html_path_list=html_paths_race)"
   ]
  },
  {
   "cell_type": "code",
   "execution_count": 6,
   "metadata": {},
   "outputs": [
    {
     "data": {
      "text/plain": [
       "着順               0\n",
       "枠番               0\n",
       "馬番               0\n",
       "馬名               0\n",
       "性齢               0\n",
       "斤量               0\n",
       "騎手               0\n",
       "タイム            422\n",
       "着差            3825\n",
       "単勝               0\n",
       "人気             186\n",
       "馬体重              0\n",
       "調教師              0\n",
       "horse_id         0\n",
       "jockey_id        0\n",
       "trainer_id       0\n",
       "owner_id         0\n",
       "dtype: int64"
      ]
     },
     "execution_count": 6,
     "metadata": {},
     "output_type": "execute_result"
    }
   ],
   "source": [
    "# 欠損チェック\n",
    "results.isnull().sum()"
   ]
  },
  {
   "cell_type": "code",
   "execution_count": 7,
   "metadata": {},
   "outputs": [
    {
     "data": {
      "text/plain": [
       "np.int64(0)"
      ]
     },
     "execution_count": 7,
     "metadata": {},
     "output_type": "execute_result"
    }
   ],
   "source": [
    "# 重複チェック\n",
    "# race_idとhorse_idが同じ行が存在する場合Trueになるのでその件数を確認\n",
    "results.reset_index()[[\"race_id\", \"horse_id\"]].duplicated().sum()"
   ]
  },
  {
   "cell_type": "markdown",
   "metadata": {},
   "source": [
    "## horseページからのデータ取得"
   ]
  },
  {
   "cell_type": "code",
   "execution_count": 14,
   "metadata": {},
   "outputs": [
    {
     "ename": "NameError",
     "evalue": "name 'results' is not defined",
     "output_type": "error",
     "traceback": [
      "\u001b[0;31m---------------------------------------------------------------------------\u001b[0m",
      "\u001b[0;31mNameError\u001b[0m                                 Traceback (most recent call last)",
      "Cell \u001b[0;32mIn[14], line 1\u001b[0m\n\u001b[0;32m----> 1\u001b[0m horse_id_list \u001b[38;5;241m=\u001b[39m \u001b[43mresults\u001b[49m[\u001b[38;5;124m\"\u001b[39m\u001b[38;5;124mhorse_id\u001b[39m\u001b[38;5;124m\"\u001b[39m]\u001b[38;5;241m.\u001b[39munique()\n\u001b[1;32m      2\u001b[0m \u001b[38;5;28mlen\u001b[39m(horse_id_list)\n",
      "\u001b[0;31mNameError\u001b[0m: name 'results' is not defined"
     ]
    }
   ],
   "source": [
    "horse_id_list = results[\"horse_id\"].unique()\n",
    "len(horse_id_list)"
   ]
  },
  {
   "cell_type": "code",
   "execution_count": 13,
   "metadata": {},
   "outputs": [
    {
     "ename": "NameError",
     "evalue": "name 'horse_id_list' is not defined",
     "output_type": "error",
     "traceback": [
      "\u001b[0;31m---------------------------------------------------------------------------\u001b[0m",
      "\u001b[0;31mNameError\u001b[0m                                 Traceback (most recent call last)",
      "Cell \u001b[0;32mIn[13], line 2\u001b[0m\n\u001b[1;32m      1\u001b[0m html_paths_horse \u001b[38;5;241m=\u001b[39m scraping\u001b[38;5;241m.\u001b[39mscrape_html_horse(\n\u001b[0;32m----> 2\u001b[0m     horse_id_list\u001b[38;5;241m=\u001b[39m\u001b[43mhorse_id_list\u001b[49m, skip\u001b[38;5;241m=\u001b[39m\u001b[38;5;28;01mTrue\u001b[39;00m)\n",
      "\u001b[0;31mNameError\u001b[0m: name 'horse_id_list' is not defined"
     ]
    }
   ],
   "source": [
    "html_paths_horse = scraping.scrape_html_horse(\n",
    "    horse_id_list=horse_id_list, skip=True)"
   ]
  },
  {
   "cell_type": "code",
   "execution_count": 12,
   "metadata": {},
   "outputs": [],
   "source": [
    "# 一旦、変数をリセット\n",
    "del html_paths_horse"
   ]
  },
  {
   "cell_type": "code",
   "execution_count": 13,
   "metadata": {},
   "outputs": [],
   "source": [
    "# html_paths_horseが失われた場合はファイルから読み込む\n",
    "if \"html_paths_horse\" not in locals():\n",
    "    html_paths_horse = list(scraping.HTML_HORSE_DIR.glob(\"*.bin\"))"
   ]
  },
  {
   "cell_type": "code",
   "execution_count": 14,
   "metadata": {},
   "outputs": [
    {
     "data": {
      "application/vnd.jupyter.widget-view+json": {
       "model_id": "fe1084acb9f142b1b102009a5e324ec6",
       "version_major": 2,
       "version_minor": 0
      },
      "text/plain": [
       "  0%|          | 0/11730 [00:00<?, ?it/s]"
      ]
     },
     "metadata": {},
     "output_type": "display_data"
    }
   ],
   "source": [
    "# 馬の過去成績テーブルの作成\n",
    "horse_results = create_rawdf.create_horse_results(html_paths_horse)"
   ]
  },
  {
   "cell_type": "code",
   "execution_count": 15,
   "metadata": {},
   "outputs": [
    {
     "data": {
      "text/plain": [
       "11730"
      ]
     },
     "execution_count": 15,
     "metadata": {},
     "output_type": "execute_result"
    }
   ],
   "source": [
    "# horse_results.head()\n",
    "horse_results.index.nunique()"
   ]
  },
  {
   "cell_type": "code",
   "execution_count": 26,
   "metadata": {},
   "outputs": [
    {
     "data": {
      "application/vnd.jupyter.widget-view+json": {
       "model_id": "8b81885f68f24200a0e506eca75d4d2b",
       "version_major": 2,
       "version_minor": 0
      },
      "text/plain": [
       "  0%|          | 0/3454 [00:00<?, ?it/s]"
      ]
     },
     "metadata": {},
     "output_type": "display_data"
    }
   ],
   "source": [
    "# レース情報テーブル取得\n",
    "\n",
    "#htmlを読み込み\n",
    "if \"html_paths_race\" not in locals():\n",
    "    html_paths_race = list(scraping.HTML_RACE_DIR.glob(\"*.bin\"))\n",
    "# レース情報テーブルの作成\n",
    "race_info = create_rawdf.create_race_info(html_paths_race)"
   ]
  },
  {
   "cell_type": "code",
   "execution_count": null,
   "metadata": {},
   "outputs": [],
   "source": [
    "html_paths_race = list(scraping.HTML_RACE_DIR.glob(\"*.bin\"))\n",
    "html_paths_race"
   ]
  },
  {
   "cell_type": "code",
   "execution_count": 1,
   "metadata": {},
   "outputs": [
    {
     "name": "stdout",
     "output_type": "stream",
     "text": [
      "scraping race_id_list...\n"
     ]
    },
    {
     "data": {
      "application/vnd.jupyter.widget-view+json": {
       "model_id": "7f4388dc5ada4447b0db4b06c675622d",
       "version_major": 2,
       "version_minor": 0
      },
      "text/plain": [
       "  0%|          | 0/1 [00:00<?, ?it/s]"
      ]
     },
     "metadata": {},
     "output_type": "display_data"
    },
    {
     "name": "stdout",
     "output_type": "stream",
     "text": [
      "scraping horse_id_list...\n"
     ]
    },
    {
     "data": {
      "application/vnd.jupyter.widget-view+json": {
       "model_id": "4a0a3147ea2d46a6ae3139b3ce4d2955",
       "version_major": 2,
       "version_minor": 0
      },
      "text/plain": [
       "  0%|          | 0/36 [00:00<?, ?it/s]"
      ]
     },
     "metadata": {},
     "output_type": "display_data"
    }
   ],
   "source": [
    "import create_prediction_population\n",
    "\n",
    "prediction_population = create_prediction_population.create(kaisai_date=\"20250525\")"
   ]
  },
  {
   "cell_type": "code",
   "execution_count": 2,
   "metadata": {},
   "outputs": [
    {
     "data": {
      "text/html": [
       "<div>\n",
       "<style scoped>\n",
       "    .dataframe tbody tr th:only-of-type {\n",
       "        vertical-align: middle;\n",
       "    }\n",
       "\n",
       "    .dataframe tbody tr th {\n",
       "        vertical-align: top;\n",
       "    }\n",
       "\n",
       "    .dataframe thead th {\n",
       "        text-align: right;\n",
       "    }\n",
       "</style>\n",
       "<table border=\"1\" class=\"dataframe\">\n",
       "  <thead>\n",
       "    <tr style=\"text-align: right;\">\n",
       "      <th></th>\n",
       "      <th>date</th>\n",
       "      <th>race_id</th>\n",
       "      <th>horse_id</th>\n",
       "    </tr>\n",
       "  </thead>\n",
       "  <tbody>\n",
       "    <tr>\n",
       "      <th>0</th>\n",
       "      <td>2025-05-25</td>\n",
       "      <td>202505021001</td>\n",
       "      <td>2022101754</td>\n",
       "    </tr>\n",
       "    <tr>\n",
       "      <th>1</th>\n",
       "      <td>2025-05-25</td>\n",
       "      <td>202505021001</td>\n",
       "      <td>2022103932</td>\n",
       "    </tr>\n",
       "    <tr>\n",
       "      <th>2</th>\n",
       "      <td>2025-05-25</td>\n",
       "      <td>202505021001</td>\n",
       "      <td>2022104122</td>\n",
       "    </tr>\n",
       "    <tr>\n",
       "      <th>3</th>\n",
       "      <td>2025-05-25</td>\n",
       "      <td>202505021001</td>\n",
       "      <td>2022101386</td>\n",
       "    </tr>\n",
       "    <tr>\n",
       "      <th>4</th>\n",
       "      <td>2025-05-25</td>\n",
       "      <td>202505021001</td>\n",
       "      <td>2022104303</td>\n",
       "    </tr>\n",
       "    <tr>\n",
       "      <th>...</th>\n",
       "      <td>...</td>\n",
       "      <td>...</td>\n",
       "      <td>...</td>\n",
       "    </tr>\n",
       "    <tr>\n",
       "      <th>10</th>\n",
       "      <td>2025-05-25</td>\n",
       "      <td>202504010812</td>\n",
       "      <td>2020103921</td>\n",
       "    </tr>\n",
       "    <tr>\n",
       "      <th>11</th>\n",
       "      <td>2025-05-25</td>\n",
       "      <td>202504010812</td>\n",
       "      <td>2021102595</td>\n",
       "    </tr>\n",
       "    <tr>\n",
       "      <th>12</th>\n",
       "      <td>2025-05-25</td>\n",
       "      <td>202504010812</td>\n",
       "      <td>2021101153</td>\n",
       "    </tr>\n",
       "    <tr>\n",
       "      <th>13</th>\n",
       "      <td>2025-05-25</td>\n",
       "      <td>202504010812</td>\n",
       "      <td>2021101305</td>\n",
       "    </tr>\n",
       "    <tr>\n",
       "      <th>14</th>\n",
       "      <td>2025-05-25</td>\n",
       "      <td>202504010812</td>\n",
       "      <td>2020103378</td>\n",
       "    </tr>\n",
       "  </tbody>\n",
       "</table>\n",
       "<p>527 rows × 3 columns</p>\n",
       "</div>"
      ],
      "text/plain": [
       "         date       race_id    horse_id\n",
       "0  2025-05-25  202505021001  2022101754\n",
       "1  2025-05-25  202505021001  2022103932\n",
       "2  2025-05-25  202505021001  2022104122\n",
       "3  2025-05-25  202505021001  2022101386\n",
       "4  2025-05-25  202505021001  2022104303\n",
       "..        ...           ...         ...\n",
       "10 2025-05-25  202504010812  2020103921\n",
       "11 2025-05-25  202504010812  2021102595\n",
       "12 2025-05-25  202504010812  2021101153\n",
       "13 2025-05-25  202504010812  2021101305\n",
       "14 2025-05-25  202504010812  2020103378\n",
       "\n",
       "[527 rows x 3 columns]"
      ]
     },
     "execution_count": 2,
     "metadata": {},
     "output_type": "execute_result"
    }
   ],
   "source": [
    "prediction_population"
   ]
  },
  {
   "cell_type": "code",
   "execution_count": 3,
   "metadata": {},
   "outputs": [],
   "source": [
    "# 当日出走馬の過去成績テーブル作成\n",
    "\n",
    "# 当日出走馬のhorse_idリスト\n",
    "horse_id_list = prediction_population[\"horse_id\"].unique()"
   ]
  },
  {
   "cell_type": "code",
   "execution_count": 6,
   "metadata": {},
   "outputs": [
    {
     "data": {
      "application/vnd.jupyter.widget-view+json": {
       "model_id": "b442bf2eb0ad41a6addaa89ffe8ffb81",
       "version_major": 2,
       "version_minor": 0
      },
      "text/plain": [
       "  0%|          | 0/527 [00:00<?, ?it/s]"
      ]
     },
     "metadata": {},
     "output_type": "display_data"
    }
   ],
   "source": [
    "# 当日出走馬の過去成績をスクレイピングして更新\n",
    "html_paths_horse = scraping.scrape_html_horse(horse_id_list=horse_id_list, skip=False)"
   ]
  },
  {
   "cell_type": "code",
   "execution_count": null,
   "metadata": {},
   "outputs": [
    {
     "data": {
      "text/plain": [
       "PosixPath('../data/html/horse/2022103932.bin')"
      ]
     },
     "execution_count": 10,
     "metadata": {},
     "output_type": "execute_result"
    }
   ],
   "source": [
    "# けんしょう用\n",
    "html_paths_horse[1]"
   ]
  },
  {
   "cell_type": "code",
   "execution_count": 25,
   "metadata": {},
   "outputs": [
    {
     "data": {
      "text/html": [
       "<div>\n",
       "<style scoped>\n",
       "    .dataframe tbody tr th:only-of-type {\n",
       "        vertical-align: middle;\n",
       "    }\n",
       "\n",
       "    .dataframe tbody tr th {\n",
       "        vertical-align: top;\n",
       "    }\n",
       "\n",
       "    .dataframe thead th {\n",
       "        text-align: right;\n",
       "    }\n",
       "</style>\n",
       "<table border=\"1\" class=\"dataframe\">\n",
       "  <thead>\n",
       "    <tr style=\"text-align: right;\">\n",
       "      <th></th>\n",
       "      <th>日付</th>\n",
       "      <th>開催</th>\n",
       "      <th>天 気</th>\n",
       "      <th>R</th>\n",
       "      <th>レース名</th>\n",
       "      <th>映 像</th>\n",
       "      <th>頭 数</th>\n",
       "      <th>枠 番</th>\n",
       "      <th>馬 番</th>\n",
       "      <th>オ ッ ズ</th>\n",
       "      <th>...</th>\n",
       "      <th>着差</th>\n",
       "      <th>ﾀｲﾑ 指数</th>\n",
       "      <th>通過</th>\n",
       "      <th>ペース</th>\n",
       "      <th>上り</th>\n",
       "      <th>馬体重</th>\n",
       "      <th>厩舎 ｺﾒﾝﾄ</th>\n",
       "      <th>備考</th>\n",
       "      <th>勝ち馬 (2着馬)</th>\n",
       "      <th>賞金</th>\n",
       "    </tr>\n",
       "  </thead>\n",
       "  <tbody>\n",
       "    <tr>\n",
       "      <th>0</th>\n",
       "      <td>2025/02/15</td>\n",
       "      <td>1東京5</td>\n",
       "      <td>晴</td>\n",
       "      <td>1</td>\n",
       "      <td>3歳未勝利</td>\n",
       "      <td>NaN</td>\n",
       "      <td>16</td>\n",
       "      <td>5</td>\n",
       "      <td>9</td>\n",
       "      <td>52.9</td>\n",
       "      <td>...</td>\n",
       "      <td>2.1</td>\n",
       "      <td>**</td>\n",
       "      <td>14-14</td>\n",
       "      <td>36.0-38.5</td>\n",
       "      <td>39.2</td>\n",
       "      <td>418(-8)</td>\n",
       "      <td>NaN</td>\n",
       "      <td>NaN</td>\n",
       "      <td>マイネルブリオン</td>\n",
       "      <td>NaN</td>\n",
       "    </tr>\n",
       "    <tr>\n",
       "      <th>1</th>\n",
       "      <td>2024/11/24</td>\n",
       "      <td>5東京8</td>\n",
       "      <td>晴</td>\n",
       "      <td>5</td>\n",
       "      <td>2歳新馬</td>\n",
       "      <td>NaN</td>\n",
       "      <td>16</td>\n",
       "      <td>2</td>\n",
       "      <td>4</td>\n",
       "      <td>74.3</td>\n",
       "      <td>...</td>\n",
       "      <td>2.6</td>\n",
       "      <td>**</td>\n",
       "      <td>10-3</td>\n",
       "      <td>35.3-37.5</td>\n",
       "      <td>39.4</td>\n",
       "      <td>426(0)</td>\n",
       "      <td>NaN</td>\n",
       "      <td>NaN</td>\n",
       "      <td>リアライズカミオン</td>\n",
       "      <td>NaN</td>\n",
       "    </tr>\n",
       "  </tbody>\n",
       "</table>\n",
       "<p>2 rows × 28 columns</p>\n",
       "</div>"
      ],
      "text/plain": [
       "           日付    開催 天 気  R   レース名  映 像  頭 数  枠 番  馬 番  オ ッ ズ  ...   着差  \\\n",
       "0  2025/02/15  1東京5   晴  1  3歳未勝利  NaN   16    5    9   52.9  ...  2.1   \n",
       "1  2024/11/24  5東京8   晴  5   2歳新馬  NaN   16    2    4   74.3  ...  2.6   \n",
       "\n",
       "   ﾀｲﾑ 指数     通過        ペース    上り      馬体重 厩舎 ｺﾒﾝﾄ  備考  勝ち馬 (2着馬)  賞金  \n",
       "0      **  14-14  36.0-38.5  39.2  418(-8)     NaN NaN   マイネルブリオン NaN  \n",
       "1      **   10-3  35.3-37.5  39.4   426(0)     NaN NaN  リアライズカミオン NaN  \n",
       "\n",
       "[2 rows x 28 columns]"
      ]
     },
     "execution_count": 25,
     "metadata": {},
     "output_type": "execute_result"
    }
   ],
   "source": [
    "import pandas as pd\n",
    "\n",
    "# けんしょう用\n",
    "f = open(html_paths_horse[1], \"rb\")\n",
    "html = f.read()\n",
    "df = pd.read_html(html)[2]\n",
    "df"
   ]
  },
  {
   "cell_type": "code",
   "execution_count": 27,
   "metadata": {},
   "outputs": [
    {
     "data": {
      "application/vnd.jupyter.widget-view+json": {
       "model_id": "fd04ffa6508e495fad6507287ec6e073",
       "version_major": 2,
       "version_minor": 0
      },
      "text/plain": [
       "  0%|          | 0/527 [00:00<?, ?it/s]"
      ]
     },
     "metadata": {},
     "output_type": "display_data"
    },
    {
     "name": "stdout",
     "output_type": "stream",
     "text": [
      "table not found at 2022105079\n",
      "table not found at 2022101897\n",
      "table not found at 2022101688\n",
      "table not found at 2022105181\n",
      "table not found at 2022101291\n",
      "table not found at 2022102974\n",
      "table not found at 2022104388\n",
      "table not found at 2022102949\n",
      "table not found at 2022103869\n",
      "table not found at 2022110026\n",
      "table not found at 2022102838\n"
     ]
    }
   ],
   "source": [
    "# 当日出走馬の過去成績テーブル作成\n",
    "horse_results_prediction = create_rawdf.create_horse_results(\n",
    "    html_path_list=html_paths_horse,\n",
    "    save_filename=\"horse_results_prediction.csv\",\n",
    ")"
   ]
  }
 ],
 "metadata": {
  "kernelspec": {
   "display_name": "keibavenv",
   "language": "python",
   "name": "python3"
  },
  "language_info": {
   "codemirror_mode": {
    "name": "ipython",
    "version": 3
   },
   "file_extension": ".py",
   "mimetype": "text/x-python",
   "name": "python",
   "nbconvert_exporter": "python",
   "pygments_lexer": "ipython3",
   "version": "3.9.6"
  }
 },
 "nbformat": 4,
 "nbformat_minor": 2
}
