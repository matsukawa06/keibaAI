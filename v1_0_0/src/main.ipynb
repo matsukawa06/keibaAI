{
 "cells": [
  {
   "cell_type": "markdown",
   "metadata": {},
   "source": [
    "# インポート"
   ]
  },
  {
   "cell_type": "code",
   "execution_count": 4,
   "metadata": {},
   "outputs": [
    {
     "name": "stdout",
     "output_type": "stream",
     "text": [
      "The autoreload extension is already loaded. To reload it, use:\n",
      "  %reload_ext autoreload\n"
     ]
    }
   ],
   "source": [
    "import preprocessing\n",
    "from train import Trainer\n",
    "from feature_engineering import FeatureCreator\n",
    "import preprocessing\n",
    "from feature_engineering_prediction import PredictionFeatureCreator\n",
    "import prediction\n",
    "%load_ext autoreload"
   ]
  },
  {
   "cell_type": "code",
   "execution_count": 14,
   "metadata": {},
   "outputs": [],
   "source": [
    "%autoreload"
   ]
  },
  {
   "cell_type": "markdown",
   "metadata": {},
   "source": [
    "# データ加工"
   ]
  },
  {
   "cell_type": "code",
   "execution_count": 4,
   "metadata": {},
   "outputs": [],
   "source": [
    "# レース結果テーブルの前処理\n",
    "results_preprocessed = preprocessing.process_results()\n",
    "# 馬の過去成績テーブルの前処理\n",
    "horse_results_preprocessed = preprocessing.process_horse_results()\n",
    "# レース情報テーブルの前処理\n",
    "race_info_preprocessed = preprocessing.process_race_info()"
   ]
  },
  {
   "cell_type": "markdown",
   "metadata": {},
   "source": [
    "# 特徴量作成"
   ]
  },
  {
   "cell_type": "code",
   "execution_count": null,
   "metadata": {},
   "outputs": [],
   "source": [
    "fc = FeatureCreator()\n",
    "features = fc.create_features()"
   ]
  },
  {
   "cell_type": "code",
   "execution_count": 15,
   "metadata": {},
   "outputs": [
    {
     "name": "stdout",
     "output_type": "stream",
     "text": [
      "[100]\ttraining's binary_logloss: 0.149886\tvalid_1's binary_logloss: 0.207065\n"
     ]
    }
   ],
   "source": [
    "trainer = Trainer()\n",
    "evaluation_df = trainer.run(test_start_date=\"2024-10-01\")"
   ]
  },
  {
   "cell_type": "code",
   "execution_count": null,
   "metadata": {},
   "outputs": [],
   "source": [
    "# 当日出走馬の過去成績テーブルの前処理\n",
    "horse_results_preprocessed = preprocessing.process_horse_results(\n",
    "    save_filename=\"horse_results_prediction.csv\"\n",
    ")"
   ]
  },
  {
   "cell_type": "code",
   "execution_count": null,
   "metadata": {},
   "outputs": [],
   "source": [
    "# 特徴量作成\n",
    "pfc = PredictionFeatureCreator()\n",
    "# 馬の過去成績集計は事前に行うことができる\n",
    "pfc.agg_horse_n_races()"
   ]
  },
  {
   "cell_type": "code",
   "execution_count": 2,
   "metadata": {},
   "outputs": [
    {
     "name": "stderr",
     "output_type": "stream",
     "text": [
      "/Users/matsukawanaoya/develop/python/keibaAI/v1_0_0/src/feature_engineering_prediction.py:122: FutureWarning: Passing literal html to 'read_html' is deprecated and will be removed in a future version. To read from a literal string, wrap it in a 'StringIO' object.\n",
      "  df = pd.read_html(html)[0]\n"
     ]
    }
   ],
   "source": [
    "# 特徴量の更新\n",
    "features = pfc.create_features(\n",
    "    race_id=\"202505021001\", # 予測するレースidを指定\n",
    "    skip_agg_horse=True # 事前に集計した場合はスキップできる\n",
    ")"
   ]
  },
  {
   "cell_type": "code",
   "execution_count": 5,
   "metadata": {},
   "outputs": [
    {
     "data": {
      "text/html": [
       "<div>\n",
       "<style scoped>\n",
       "    .dataframe tbody tr th:only-of-type {\n",
       "        vertical-align: middle;\n",
       "    }\n",
       "\n",
       "    .dataframe tbody tr th {\n",
       "        vertical-align: top;\n",
       "    }\n",
       "\n",
       "    .dataframe thead th {\n",
       "        text-align: right;\n",
       "    }\n",
       "</style>\n",
       "<table border=\"1\" class=\"dataframe\">\n",
       "  <thead>\n",
       "    <tr style=\"text-align: right;\">\n",
       "      <th></th>\n",
       "      <th>race_id</th>\n",
       "      <th>umaban</th>\n",
       "      <th>tansho_odds</th>\n",
       "      <th>popularity</th>\n",
       "      <th>pred</th>\n",
       "    </tr>\n",
       "  </thead>\n",
       "  <tbody>\n",
       "    <tr>\n",
       "      <th>15</th>\n",
       "      <td>202505021001</td>\n",
       "      <td>16</td>\n",
       "      <td>2.8</td>\n",
       "      <td>2</td>\n",
       "      <td>0.250818</td>\n",
       "    </tr>\n",
       "    <tr>\n",
       "      <th>4</th>\n",
       "      <td>202505021001</td>\n",
       "      <td>5</td>\n",
       "      <td>2.6</td>\n",
       "      <td>1</td>\n",
       "      <td>0.192258</td>\n",
       "    </tr>\n",
       "    <tr>\n",
       "      <th>3</th>\n",
       "      <td>202505021001</td>\n",
       "      <td>4</td>\n",
       "      <td>7.6</td>\n",
       "      <td>4</td>\n",
       "      <td>0.120682</td>\n",
       "    </tr>\n",
       "    <tr>\n",
       "      <th>8</th>\n",
       "      <td>202505021001</td>\n",
       "      <td>9</td>\n",
       "      <td>7.6</td>\n",
       "      <td>3</td>\n",
       "      <td>0.086192</td>\n",
       "    </tr>\n",
       "    <tr>\n",
       "      <th>12</th>\n",
       "      <td>202505021001</td>\n",
       "      <td>13</td>\n",
       "      <td>11.2</td>\n",
       "      <td>5</td>\n",
       "      <td>0.062330</td>\n",
       "    </tr>\n",
       "    <tr>\n",
       "      <th>13</th>\n",
       "      <td>202505021001</td>\n",
       "      <td>14</td>\n",
       "      <td>19.6</td>\n",
       "      <td>6</td>\n",
       "      <td>0.025818</td>\n",
       "    </tr>\n",
       "    <tr>\n",
       "      <th>0</th>\n",
       "      <td>202505021001</td>\n",
       "      <td>1</td>\n",
       "      <td>29.3</td>\n",
       "      <td>8</td>\n",
       "      <td>0.014410</td>\n",
       "    </tr>\n",
       "    <tr>\n",
       "      <th>9</th>\n",
       "      <td>202505021001</td>\n",
       "      <td>10</td>\n",
       "      <td>27.7</td>\n",
       "      <td>7</td>\n",
       "      <td>0.014002</td>\n",
       "    </tr>\n",
       "    <tr>\n",
       "      <th>10</th>\n",
       "      <td>202505021001</td>\n",
       "      <td>11</td>\n",
       "      <td>85.7</td>\n",
       "      <td>10</td>\n",
       "      <td>0.005888</td>\n",
       "    </tr>\n",
       "    <tr>\n",
       "      <th>7</th>\n",
       "      <td>202505021001</td>\n",
       "      <td>8</td>\n",
       "      <td>71.6</td>\n",
       "      <td>9</td>\n",
       "      <td>0.005758</td>\n",
       "    </tr>\n",
       "    <tr>\n",
       "      <th>14</th>\n",
       "      <td>202505021001</td>\n",
       "      <td>15</td>\n",
       "      <td>124.3</td>\n",
       "      <td>11</td>\n",
       "      <td>0.003611</td>\n",
       "    </tr>\n",
       "    <tr>\n",
       "      <th>1</th>\n",
       "      <td>202505021001</td>\n",
       "      <td>2</td>\n",
       "      <td>175.7</td>\n",
       "      <td>12</td>\n",
       "      <td>0.002438</td>\n",
       "    </tr>\n",
       "    <tr>\n",
       "      <th>11</th>\n",
       "      <td>202505021001</td>\n",
       "      <td>12</td>\n",
       "      <td>199.9</td>\n",
       "      <td>13</td>\n",
       "      <td>0.002205</td>\n",
       "    </tr>\n",
       "    <tr>\n",
       "      <th>2</th>\n",
       "      <td>202505021001</td>\n",
       "      <td>3</td>\n",
       "      <td>240.6</td>\n",
       "      <td>14</td>\n",
       "      <td>0.001034</td>\n",
       "    </tr>\n",
       "    <tr>\n",
       "      <th>6</th>\n",
       "      <td>202505021001</td>\n",
       "      <td>7</td>\n",
       "      <td>439.7</td>\n",
       "      <td>16</td>\n",
       "      <td>0.000759</td>\n",
       "    </tr>\n",
       "    <tr>\n",
       "      <th>5</th>\n",
       "      <td>202505021001</td>\n",
       "      <td>6</td>\n",
       "      <td>407.2</td>\n",
       "      <td>15</td>\n",
       "      <td>0.000398</td>\n",
       "    </tr>\n",
       "  </tbody>\n",
       "</table>\n",
       "</div>"
      ],
      "text/plain": [
       "         race_id  umaban  tansho_odds  popularity      pred\n",
       "15  202505021001      16          2.8           2  0.250818\n",
       "4   202505021001       5          2.6           1  0.192258\n",
       "3   202505021001       4          7.6           4  0.120682\n",
       "8   202505021001       9          7.6           3  0.086192\n",
       "12  202505021001      13         11.2           5  0.062330\n",
       "13  202505021001      14         19.6           6  0.025818\n",
       "0   202505021001       1         29.3           8  0.014410\n",
       "9   202505021001      10         27.7           7  0.014002\n",
       "10  202505021001      11         85.7          10  0.005888\n",
       "7   202505021001       8         71.6           9  0.005758\n",
       "14  202505021001      15        124.3          11  0.003611\n",
       "1   202505021001       2        175.7          12  0.002438\n",
       "11  202505021001      12        199.9          13  0.002205\n",
       "2   202505021001       3        240.6          14  0.001034\n",
       "6   202505021001       7        439.7          16  0.000759\n",
       "5   202505021001       6        407.2          15  0.000398"
      ]
     },
     "execution_count": 5,
     "metadata": {},
     "output_type": "execute_result"
    }
   ],
   "source": [
    "# 予測\n",
    "prediction.predict(features)"
   ]
  }
 ],
 "metadata": {
  "kernelspec": {
   "display_name": "keibavenv",
   "language": "python",
   "name": "python3"
  },
  "language_info": {
   "codemirror_mode": {
    "name": "ipython",
    "version": 3
   },
   "file_extension": ".py",
   "mimetype": "text/x-python",
   "name": "python",
   "nbconvert_exporter": "python",
   "pygments_lexer": "ipython3",
   "version": "3.9.6"
  }
 },
 "nbformat": 4,
 "nbformat_minor": 2
}
