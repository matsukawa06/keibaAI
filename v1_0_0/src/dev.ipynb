{
 "cells": [
  {
   "cell_type": "markdown",
   "metadata": {},
   "source": [
    "# インポート"
   ]
  },
  {
   "cell_type": "code",
   "execution_count": 3,
   "metadata": {},
   "outputs": [],
   "source": [
    "import pandas as pd\n",
    "from pathlib import Path\n",
    "\n",
    "COMMON_DATA_DIR = Path(\"..\", \"..\", \"common\", \"data\")\n",
    "RAWDF_DIR = COMMON_DATA_DIR / \"rawdf\""
   ]
  },
  {
   "cell_type": "markdown",
   "metadata": {},
   "source": [
    "# データ加工"
   ]
  },
  {
   "cell_type": "markdown",
   "metadata": {},
   "source": [
    "## レース結果テーブルの加工"
   ]
  },
  {
   "cell_type": "code",
   "execution_count": 4,
   "metadata": {},
   "outputs": [],
   "source": [
    "# レース結果のCSVを読み込み\n",
    "df = pd.read_csv(RAWDF_DIR / \"results.csv\", sep=\"\\t\")"
   ]
  },
  {
   "cell_type": "code",
   "execution_count": 34,
   "metadata": {},
   "outputs": [
    {
     "data": {
      "text/html": [
       "<div>\n",
       "<style scoped>\n",
       "    .dataframe tbody tr th:only-of-type {\n",
       "        vertical-align: middle;\n",
       "    }\n",
       "\n",
       "    .dataframe tbody tr th {\n",
       "        vertical-align: top;\n",
       "    }\n",
       "\n",
       "    .dataframe thead th {\n",
       "        text-align: right;\n",
       "    }\n",
       "</style>\n",
       "<table border=\"1\" class=\"dataframe\">\n",
       "  <thead>\n",
       "    <tr style=\"text-align: right;\">\n",
       "      <th></th>\n",
       "      <th>race_id</th>\n",
       "      <th>着順</th>\n",
       "      <th>枠番</th>\n",
       "      <th>馬番</th>\n",
       "      <th>馬名</th>\n",
       "      <th>性齢</th>\n",
       "      <th>斤量</th>\n",
       "      <th>騎手</th>\n",
       "      <th>タイム</th>\n",
       "      <th>着差</th>\n",
       "    </tr>\n",
       "  </thead>\n",
       "  <tbody>\n",
       "    <tr>\n",
       "      <th>0</th>\n",
       "      <td>202408060405</td>\n",
       "      <td>1</td>\n",
       "      <td>8</td>\n",
       "      <td>10</td>\n",
       "      <td>エコロディノス</td>\n",
       "      <td>牡2</td>\n",
       "      <td>56.0</td>\n",
       "      <td>ムーア</td>\n",
       "      <td>2:00.9</td>\n",
       "      <td>NaN</td>\n",
       "    </tr>\n",
       "    <tr>\n",
       "      <th>1</th>\n",
       "      <td>202408060405</td>\n",
       "      <td>2</td>\n",
       "      <td>5</td>\n",
       "      <td>5</td>\n",
       "      <td>トロワヴァレー</td>\n",
       "      <td>牡2</td>\n",
       "      <td>56.0</td>\n",
       "      <td>Ｃ．デム</td>\n",
       "      <td>2:01.5</td>\n",
       "      <td>3.1/2</td>\n",
       "    </tr>\n",
       "    <tr>\n",
       "      <th>2</th>\n",
       "      <td>202408060405</td>\n",
       "      <td>3</td>\n",
       "      <td>1</td>\n",
       "      <td>1</td>\n",
       "      <td>コジオスコ</td>\n",
       "      <td>牡2</td>\n",
       "      <td>56.0</td>\n",
       "      <td>ルメール</td>\n",
       "      <td>2:01.9</td>\n",
       "      <td>2.1/2</td>\n",
       "    </tr>\n",
       "    <tr>\n",
       "      <th>3</th>\n",
       "      <td>202408060405</td>\n",
       "      <td>4</td>\n",
       "      <td>7</td>\n",
       "      <td>8</td>\n",
       "      <td>アロマフェリス</td>\n",
       "      <td>牝2</td>\n",
       "      <td>55.0</td>\n",
       "      <td>鮫島克駿</td>\n",
       "      <td>2:02.4</td>\n",
       "      <td>3</td>\n",
       "    </tr>\n",
       "    <tr>\n",
       "      <th>4</th>\n",
       "      <td>202408060405</td>\n",
       "      <td>5</td>\n",
       "      <td>8</td>\n",
       "      <td>9</td>\n",
       "      <td>サウスオブロンドン</td>\n",
       "      <td>牡2</td>\n",
       "      <td>55.0</td>\n",
       "      <td>泉谷楓真</td>\n",
       "      <td>2:02.7</td>\n",
       "      <td>2</td>\n",
       "    </tr>\n",
       "    <tr>\n",
       "      <th>...</th>\n",
       "      <td>...</td>\n",
       "      <td>...</td>\n",
       "      <td>...</td>\n",
       "      <td>...</td>\n",
       "      <td>...</td>\n",
       "      <td>...</td>\n",
       "      <td>...</td>\n",
       "      <td>...</td>\n",
       "      <td>...</td>\n",
       "      <td>...</td>\n",
       "    </tr>\n",
       "    <tr>\n",
       "      <th>46544</th>\n",
       "      <td>202405010107</td>\n",
       "      <td>12</td>\n",
       "      <td>3</td>\n",
       "      <td>5</td>\n",
       "      <td>グランヒマラヤ</td>\n",
       "      <td>牡4</td>\n",
       "      <td>57.0</td>\n",
       "      <td>石橋脩</td>\n",
       "      <td>1:29.1</td>\n",
       "      <td>2.1/2</td>\n",
       "    </tr>\n",
       "    <tr>\n",
       "      <th>46545</th>\n",
       "      <td>202405010107</td>\n",
       "      <td>13</td>\n",
       "      <td>4</td>\n",
       "      <td>8</td>\n",
       "      <td>フエキ</td>\n",
       "      <td>牝5</td>\n",
       "      <td>56.0</td>\n",
       "      <td>嶋田純次</td>\n",
       "      <td>1:29.2</td>\n",
       "      <td>クビ</td>\n",
       "    </tr>\n",
       "    <tr>\n",
       "      <th>46546</th>\n",
       "      <td>202405010107</td>\n",
       "      <td>14</td>\n",
       "      <td>6</td>\n",
       "      <td>12</td>\n",
       "      <td>ジャーニーメモリー</td>\n",
       "      <td>牡4</td>\n",
       "      <td>56.0</td>\n",
       "      <td>原優介</td>\n",
       "      <td>1:29.2</td>\n",
       "      <td>クビ</td>\n",
       "    </tr>\n",
       "    <tr>\n",
       "      <th>46547</th>\n",
       "      <td>202405010107</td>\n",
       "      <td>15</td>\n",
       "      <td>8</td>\n",
       "      <td>15</td>\n",
       "      <td>テンプーシャオン</td>\n",
       "      <td>牡4</td>\n",
       "      <td>57.0</td>\n",
       "      <td>大野拓弥</td>\n",
       "      <td>1:30.4</td>\n",
       "      <td>7</td>\n",
       "    </tr>\n",
       "    <tr>\n",
       "      <th>46548</th>\n",
       "      <td>202405010107</td>\n",
       "      <td>16</td>\n",
       "      <td>2</td>\n",
       "      <td>3</td>\n",
       "      <td>トーセンニック</td>\n",
       "      <td>牡6</td>\n",
       "      <td>58.0</td>\n",
       "      <td>三浦皇成</td>\n",
       "      <td>1:31.4</td>\n",
       "      <td>6</td>\n",
       "    </tr>\n",
       "  </tbody>\n",
       "</table>\n",
       "<p>46127 rows × 10 columns</p>\n",
       "</div>"
      ],
      "text/plain": [
       "            race_id  着順  枠番  馬番         馬名  性齢    斤量    騎手     タイム     着差\n",
       "0      202408060405   1   8  10    エコロディノス  牡2  56.0   ムーア  2:00.9    NaN\n",
       "1      202408060405   2   5   5    トロワヴァレー  牡2  56.0  Ｃ．デム  2:01.5  3.1/2\n",
       "2      202408060405   3   1   1      コジオスコ  牡2  56.0  ルメール  2:01.9  2.1/2\n",
       "3      202408060405   4   7   8    アロマフェリス  牝2  55.0  鮫島克駿  2:02.4      3\n",
       "4      202408060405   5   8   9  サウスオブロンドン  牡2  55.0  泉谷楓真  2:02.7      2\n",
       "...             ...  ..  ..  ..        ...  ..   ...   ...     ...    ...\n",
       "46544  202405010107  12   3   5    グランヒマラヤ  牡4  57.0   石橋脩  1:29.1  2.1/2\n",
       "46545  202405010107  13   4   8        フエキ  牝5  56.0  嶋田純次  1:29.2     クビ\n",
       "46546  202405010107  14   6  12  ジャーニーメモリー  牡4  56.0   原優介  1:29.2     クビ\n",
       "46547  202405010107  15   8  15   テンプーシャオン  牡4  57.0  大野拓弥  1:30.4      7\n",
       "46548  202405010107  16   2   3    トーセンニック  牡6  58.0  三浦皇成  1:31.4      6\n",
       "\n",
       "[46127 rows x 10 columns]"
      ]
     },
     "execution_count": 34,
     "metadata": {},
     "output_type": "execute_result"
    }
   ],
   "source": [
    "# すべて表示すると見にくいため、表示するデータを絞る\n",
    "# iloc[行, 列]で指定できる。「:」はすべてを表す。\n",
    "# よって次の記述はcsvの全行かつ先頭から10列分を表示。\n",
    "df.iloc[:, 0:10]"
   ]
  },
  {
   "cell_type": "code",
   "execution_count": 8,
   "metadata": {},
   "outputs": [
    {
     "data": {
      "text/plain": [
       "0         1\n",
       "1         2\n",
       "2         3\n",
       "3         4\n",
       "4         5\n",
       "         ..\n",
       "46544    12\n",
       "46545    13\n",
       "46546    14\n",
       "46547    15\n",
       "46548    16\n",
       "Name: 着順, Length: 46549, dtype: object"
      ]
     },
     "execution_count": 8,
     "metadata": {},
     "output_type": "execute_result"
    }
   ],
   "source": [
    "# 着順列を取得\n",
    "df[\"着順\"]"
   ]
  },
  {
   "cell_type": "code",
   "execution_count": 9,
   "metadata": {},
   "outputs": [
    {
     "ename": "ValueError",
     "evalue": "invalid literal for int() with base 10: '中'",
     "output_type": "error",
     "traceback": [
      "\u001b[0;31m---------------------------------------------------------------------------\u001b[0m",
      "\u001b[0;31mValueError\u001b[0m                                Traceback (most recent call last)",
      "Cell \u001b[0;32mIn[9], line 4\u001b[0m\n\u001b[1;32m      1\u001b[0m \u001b[38;5;66;03m# 着順列のdtypeがobjectになっている\u001b[39;00m\n\u001b[1;32m      2\u001b[0m \u001b[38;5;66;03m# 機械学習モデルに入れるにはobjectだと入れられないため\u001b[39;00m\n\u001b[1;32m      3\u001b[0m \u001b[38;5;66;03m# 数値型に変換する\u001b[39;00m\n\u001b[0;32m----> 4\u001b[0m \u001b[43mdf\u001b[49m\u001b[43m[\u001b[49m\u001b[38;5;124;43m\"\u001b[39;49m\u001b[38;5;124;43m着順\u001b[39;49m\u001b[38;5;124;43m\"\u001b[39;49m\u001b[43m]\u001b[49m\u001b[38;5;241;43m.\u001b[39;49m\u001b[43mastype\u001b[49m\u001b[43m(\u001b[49m\u001b[38;5;28;43mint\u001b[39;49m\u001b[43m)\u001b[49m\n",
      "File \u001b[0;32m~/develop/python/keibaAI/keibavenv/lib/python3.9/site-packages/pandas/core/generic.py:6643\u001b[0m, in \u001b[0;36mNDFrame.astype\u001b[0;34m(self, dtype, copy, errors)\u001b[0m\n\u001b[1;32m   6637\u001b[0m     results \u001b[38;5;241m=\u001b[39m [\n\u001b[1;32m   6638\u001b[0m         ser\u001b[38;5;241m.\u001b[39mastype(dtype, copy\u001b[38;5;241m=\u001b[39mcopy, errors\u001b[38;5;241m=\u001b[39merrors) \u001b[38;5;28;01mfor\u001b[39;00m _, ser \u001b[38;5;129;01min\u001b[39;00m \u001b[38;5;28mself\u001b[39m\u001b[38;5;241m.\u001b[39mitems()\n\u001b[1;32m   6639\u001b[0m     ]\n\u001b[1;32m   6641\u001b[0m \u001b[38;5;28;01melse\u001b[39;00m:\n\u001b[1;32m   6642\u001b[0m     \u001b[38;5;66;03m# else, only a single dtype is given\u001b[39;00m\n\u001b[0;32m-> 6643\u001b[0m     new_data \u001b[38;5;241m=\u001b[39m \u001b[38;5;28;43mself\u001b[39;49m\u001b[38;5;241;43m.\u001b[39;49m\u001b[43m_mgr\u001b[49m\u001b[38;5;241;43m.\u001b[39;49m\u001b[43mastype\u001b[49m\u001b[43m(\u001b[49m\u001b[43mdtype\u001b[49m\u001b[38;5;241;43m=\u001b[39;49m\u001b[43mdtype\u001b[49m\u001b[43m,\u001b[49m\u001b[43m \u001b[49m\u001b[43mcopy\u001b[49m\u001b[38;5;241;43m=\u001b[39;49m\u001b[43mcopy\u001b[49m\u001b[43m,\u001b[49m\u001b[43m \u001b[49m\u001b[43merrors\u001b[49m\u001b[38;5;241;43m=\u001b[39;49m\u001b[43merrors\u001b[49m\u001b[43m)\u001b[49m\n\u001b[1;32m   6644\u001b[0m     res \u001b[38;5;241m=\u001b[39m \u001b[38;5;28mself\u001b[39m\u001b[38;5;241m.\u001b[39m_constructor_from_mgr(new_data, axes\u001b[38;5;241m=\u001b[39mnew_data\u001b[38;5;241m.\u001b[39maxes)\n\u001b[1;32m   6645\u001b[0m     \u001b[38;5;28;01mreturn\u001b[39;00m res\u001b[38;5;241m.\u001b[39m__finalize__(\u001b[38;5;28mself\u001b[39m, method\u001b[38;5;241m=\u001b[39m\u001b[38;5;124m\"\u001b[39m\u001b[38;5;124mastype\u001b[39m\u001b[38;5;124m\"\u001b[39m)\n",
      "File \u001b[0;32m~/develop/python/keibaAI/keibavenv/lib/python3.9/site-packages/pandas/core/internals/managers.py:430\u001b[0m, in \u001b[0;36mBaseBlockManager.astype\u001b[0;34m(self, dtype, copy, errors)\u001b[0m\n\u001b[1;32m    427\u001b[0m \u001b[38;5;28;01melif\u001b[39;00m using_copy_on_write():\n\u001b[1;32m    428\u001b[0m     copy \u001b[38;5;241m=\u001b[39m \u001b[38;5;28;01mFalse\u001b[39;00m\n\u001b[0;32m--> 430\u001b[0m \u001b[38;5;28;01mreturn\u001b[39;00m \u001b[38;5;28;43mself\u001b[39;49m\u001b[38;5;241;43m.\u001b[39;49m\u001b[43mapply\u001b[49m\u001b[43m(\u001b[49m\n\u001b[1;32m    431\u001b[0m \u001b[43m    \u001b[49m\u001b[38;5;124;43m\"\u001b[39;49m\u001b[38;5;124;43mastype\u001b[39;49m\u001b[38;5;124;43m\"\u001b[39;49m\u001b[43m,\u001b[49m\n\u001b[1;32m    432\u001b[0m \u001b[43m    \u001b[49m\u001b[43mdtype\u001b[49m\u001b[38;5;241;43m=\u001b[39;49m\u001b[43mdtype\u001b[49m\u001b[43m,\u001b[49m\n\u001b[1;32m    433\u001b[0m \u001b[43m    \u001b[49m\u001b[43mcopy\u001b[49m\u001b[38;5;241;43m=\u001b[39;49m\u001b[43mcopy\u001b[49m\u001b[43m,\u001b[49m\n\u001b[1;32m    434\u001b[0m \u001b[43m    \u001b[49m\u001b[43merrors\u001b[49m\u001b[38;5;241;43m=\u001b[39;49m\u001b[43merrors\u001b[49m\u001b[43m,\u001b[49m\n\u001b[1;32m    435\u001b[0m \u001b[43m    \u001b[49m\u001b[43musing_cow\u001b[49m\u001b[38;5;241;43m=\u001b[39;49m\u001b[43musing_copy_on_write\u001b[49m\u001b[43m(\u001b[49m\u001b[43m)\u001b[49m\u001b[43m,\u001b[49m\n\u001b[1;32m    436\u001b[0m \u001b[43m\u001b[49m\u001b[43m)\u001b[49m\n",
      "File \u001b[0;32m~/develop/python/keibaAI/keibavenv/lib/python3.9/site-packages/pandas/core/internals/managers.py:363\u001b[0m, in \u001b[0;36mBaseBlockManager.apply\u001b[0;34m(self, f, align_keys, **kwargs)\u001b[0m\n\u001b[1;32m    361\u001b[0m         applied \u001b[38;5;241m=\u001b[39m b\u001b[38;5;241m.\u001b[39mapply(f, \u001b[38;5;241m*\u001b[39m\u001b[38;5;241m*\u001b[39mkwargs)\n\u001b[1;32m    362\u001b[0m     \u001b[38;5;28;01melse\u001b[39;00m:\n\u001b[0;32m--> 363\u001b[0m         applied \u001b[38;5;241m=\u001b[39m \u001b[38;5;28;43mgetattr\u001b[39;49m\u001b[43m(\u001b[49m\u001b[43mb\u001b[49m\u001b[43m,\u001b[49m\u001b[43m \u001b[49m\u001b[43mf\u001b[49m\u001b[43m)\u001b[49m\u001b[43m(\u001b[49m\u001b[38;5;241;43m*\u001b[39;49m\u001b[38;5;241;43m*\u001b[39;49m\u001b[43mkwargs\u001b[49m\u001b[43m)\u001b[49m\n\u001b[1;32m    364\u001b[0m     result_blocks \u001b[38;5;241m=\u001b[39m extend_blocks(applied, result_blocks)\n\u001b[1;32m    366\u001b[0m out \u001b[38;5;241m=\u001b[39m \u001b[38;5;28mtype\u001b[39m(\u001b[38;5;28mself\u001b[39m)\u001b[38;5;241m.\u001b[39mfrom_blocks(result_blocks, \u001b[38;5;28mself\u001b[39m\u001b[38;5;241m.\u001b[39maxes)\n",
      "File \u001b[0;32m~/develop/python/keibaAI/keibavenv/lib/python3.9/site-packages/pandas/core/internals/blocks.py:758\u001b[0m, in \u001b[0;36mBlock.astype\u001b[0;34m(self, dtype, copy, errors, using_cow, squeeze)\u001b[0m\n\u001b[1;32m    755\u001b[0m         \u001b[38;5;28;01mraise\u001b[39;00m \u001b[38;5;167;01mValueError\u001b[39;00m(\u001b[38;5;124m\"\u001b[39m\u001b[38;5;124mCan not squeeze with more than one column.\u001b[39m\u001b[38;5;124m\"\u001b[39m)\n\u001b[1;32m    756\u001b[0m     values \u001b[38;5;241m=\u001b[39m values[\u001b[38;5;241m0\u001b[39m, :]  \u001b[38;5;66;03m# type: ignore[call-overload]\u001b[39;00m\n\u001b[0;32m--> 758\u001b[0m new_values \u001b[38;5;241m=\u001b[39m \u001b[43mastype_array_safe\u001b[49m\u001b[43m(\u001b[49m\u001b[43mvalues\u001b[49m\u001b[43m,\u001b[49m\u001b[43m \u001b[49m\u001b[43mdtype\u001b[49m\u001b[43m,\u001b[49m\u001b[43m \u001b[49m\u001b[43mcopy\u001b[49m\u001b[38;5;241;43m=\u001b[39;49m\u001b[43mcopy\u001b[49m\u001b[43m,\u001b[49m\u001b[43m \u001b[49m\u001b[43merrors\u001b[49m\u001b[38;5;241;43m=\u001b[39;49m\u001b[43merrors\u001b[49m\u001b[43m)\u001b[49m\n\u001b[1;32m    760\u001b[0m new_values \u001b[38;5;241m=\u001b[39m maybe_coerce_values(new_values)\n\u001b[1;32m    762\u001b[0m refs \u001b[38;5;241m=\u001b[39m \u001b[38;5;28;01mNone\u001b[39;00m\n",
      "File \u001b[0;32m~/develop/python/keibaAI/keibavenv/lib/python3.9/site-packages/pandas/core/dtypes/astype.py:237\u001b[0m, in \u001b[0;36mastype_array_safe\u001b[0;34m(values, dtype, copy, errors)\u001b[0m\n\u001b[1;32m    234\u001b[0m     dtype \u001b[38;5;241m=\u001b[39m dtype\u001b[38;5;241m.\u001b[39mnumpy_dtype\n\u001b[1;32m    236\u001b[0m \u001b[38;5;28;01mtry\u001b[39;00m:\n\u001b[0;32m--> 237\u001b[0m     new_values \u001b[38;5;241m=\u001b[39m \u001b[43mastype_array\u001b[49m\u001b[43m(\u001b[49m\u001b[43mvalues\u001b[49m\u001b[43m,\u001b[49m\u001b[43m \u001b[49m\u001b[43mdtype\u001b[49m\u001b[43m,\u001b[49m\u001b[43m \u001b[49m\u001b[43mcopy\u001b[49m\u001b[38;5;241;43m=\u001b[39;49m\u001b[43mcopy\u001b[49m\u001b[43m)\u001b[49m\n\u001b[1;32m    238\u001b[0m \u001b[38;5;28;01mexcept\u001b[39;00m (\u001b[38;5;167;01mValueError\u001b[39;00m, \u001b[38;5;167;01mTypeError\u001b[39;00m):\n\u001b[1;32m    239\u001b[0m     \u001b[38;5;66;03m# e.g. _astype_nansafe can fail on object-dtype of strings\u001b[39;00m\n\u001b[1;32m    240\u001b[0m     \u001b[38;5;66;03m#  trying to convert to float\u001b[39;00m\n\u001b[1;32m    241\u001b[0m     \u001b[38;5;28;01mif\u001b[39;00m errors \u001b[38;5;241m==\u001b[39m \u001b[38;5;124m\"\u001b[39m\u001b[38;5;124mignore\u001b[39m\u001b[38;5;124m\"\u001b[39m:\n",
      "File \u001b[0;32m~/develop/python/keibaAI/keibavenv/lib/python3.9/site-packages/pandas/core/dtypes/astype.py:182\u001b[0m, in \u001b[0;36mastype_array\u001b[0;34m(values, dtype, copy)\u001b[0m\n\u001b[1;32m    179\u001b[0m     values \u001b[38;5;241m=\u001b[39m values\u001b[38;5;241m.\u001b[39mastype(dtype, copy\u001b[38;5;241m=\u001b[39mcopy)\n\u001b[1;32m    181\u001b[0m \u001b[38;5;28;01melse\u001b[39;00m:\n\u001b[0;32m--> 182\u001b[0m     values \u001b[38;5;241m=\u001b[39m \u001b[43m_astype_nansafe\u001b[49m\u001b[43m(\u001b[49m\u001b[43mvalues\u001b[49m\u001b[43m,\u001b[49m\u001b[43m \u001b[49m\u001b[43mdtype\u001b[49m\u001b[43m,\u001b[49m\u001b[43m \u001b[49m\u001b[43mcopy\u001b[49m\u001b[38;5;241;43m=\u001b[39;49m\u001b[43mcopy\u001b[49m\u001b[43m)\u001b[49m\n\u001b[1;32m    184\u001b[0m \u001b[38;5;66;03m# in pandas we don't store numpy str dtypes, so convert to object\u001b[39;00m\n\u001b[1;32m    185\u001b[0m \u001b[38;5;28;01mif\u001b[39;00m \u001b[38;5;28misinstance\u001b[39m(dtype, np\u001b[38;5;241m.\u001b[39mdtype) \u001b[38;5;129;01mand\u001b[39;00m \u001b[38;5;28missubclass\u001b[39m(values\u001b[38;5;241m.\u001b[39mdtype\u001b[38;5;241m.\u001b[39mtype, \u001b[38;5;28mstr\u001b[39m):\n",
      "File \u001b[0;32m~/develop/python/keibaAI/keibavenv/lib/python3.9/site-packages/pandas/core/dtypes/astype.py:133\u001b[0m, in \u001b[0;36m_astype_nansafe\u001b[0;34m(arr, dtype, copy, skipna)\u001b[0m\n\u001b[1;32m    129\u001b[0m     \u001b[38;5;28;01mraise\u001b[39;00m \u001b[38;5;167;01mValueError\u001b[39;00m(msg)\n\u001b[1;32m    131\u001b[0m \u001b[38;5;28;01mif\u001b[39;00m copy \u001b[38;5;129;01mor\u001b[39;00m arr\u001b[38;5;241m.\u001b[39mdtype \u001b[38;5;241m==\u001b[39m \u001b[38;5;28mobject\u001b[39m \u001b[38;5;129;01mor\u001b[39;00m dtype \u001b[38;5;241m==\u001b[39m \u001b[38;5;28mobject\u001b[39m:\n\u001b[1;32m    132\u001b[0m     \u001b[38;5;66;03m# Explicit copy, or required since NumPy can't view from / to object.\u001b[39;00m\n\u001b[0;32m--> 133\u001b[0m     \u001b[38;5;28;01mreturn\u001b[39;00m \u001b[43marr\u001b[49m\u001b[38;5;241;43m.\u001b[39;49m\u001b[43mastype\u001b[49m\u001b[43m(\u001b[49m\u001b[43mdtype\u001b[49m\u001b[43m,\u001b[49m\u001b[43m \u001b[49m\u001b[43mcopy\u001b[49m\u001b[38;5;241;43m=\u001b[39;49m\u001b[38;5;28;43;01mTrue\u001b[39;49;00m\u001b[43m)\u001b[49m\n\u001b[1;32m    135\u001b[0m \u001b[38;5;28;01mreturn\u001b[39;00m arr\u001b[38;5;241m.\u001b[39mastype(dtype, copy\u001b[38;5;241m=\u001b[39mcopy)\n",
      "\u001b[0;31mValueError\u001b[0m: invalid literal for int() with base 10: '中'"
     ]
    }
   ],
   "source": [
    "# 着順列のdtypeがobjectになっている\n",
    "# 機械学習モデルに入れるにはobjectだと入れられないため\n",
    "# 数値型に変換する\n",
    "df[\"着順\"].astype(int)"
   ]
  },
  {
   "cell_type": "code",
   "execution_count": null,
   "metadata": {},
   "outputs": [
    {
     "data": {
      "text/plain": [
       "0         1.0\n",
       "1         2.0\n",
       "2         3.0\n",
       "3         4.0\n",
       "4         5.0\n",
       "         ... \n",
       "46544    12.0\n",
       "46545    13.0\n",
       "46546    14.0\n",
       "46547    15.0\n",
       "46548    16.0\n",
       "Name: 着順, Length: 46549, dtype: float64"
      ]
     },
     "execution_count": 10,
     "metadata": {},
     "output_type": "execute_result"
    }
   ],
   "source": [
    "# エラーになったのは着順列に、中止を表す「中」が含まれているためint変換できない\n",
    "# 数値でない値は省く\n",
    "# pandasのto_numericを使えば、エラー時の動きを指定できる\n",
    "# デフォルトはraiseでエラーを返す、coerceを指定すればエラーになるものは欠損値に変換する\n",
    "pd.to_numeric(df[\"着順\"], errors=\"coerce\")"
   ]
  },
  {
   "cell_type": "code",
   "execution_count": 11,
   "metadata": {},
   "outputs": [
    {
     "data": {
      "text/plain": [
       "rank\n",
       "1.0     3409\n",
       "3.0     3405\n",
       "2.0     3404\n",
       "4.0     3404\n",
       "5.0     3399\n",
       "6.0     3395\n",
       "7.0     3375\n",
       "8.0     3285\n",
       "9.0     3177\n",
       "10.0    3009\n",
       "11.0    2785\n",
       "12.0    2520\n",
       "13.0    2246\n",
       "14.0    1991\n",
       "15.0    1625\n",
       "16.0    1203\n",
       "NaN      422\n",
       "17.0     292\n",
       "18.0     203\n",
       "Name: count, dtype: int64"
      ]
     },
     "execution_count": 11,
     "metadata": {},
     "output_type": "execute_result"
    }
   ],
   "source": [
    "# 欠損値がどれくらいあるのか調べたい\n",
    "df[\"rank\"] = pd.to_numeric(df[\"着順\"], errors=\"coerce\")\n",
    "# value_countsはデフォルトでは欠損値が省かれるため、dropna=Falseを指定する\n",
    "df[\"rank\"].value_counts(dropna=False)"
   ]
  },
  {
   "cell_type": "code",
   "execution_count": 13,
   "metadata": {},
   "outputs": [],
   "source": [
    "# 目的変数でrankを求める際に、NaNのデータは不要なので省いてあげる\n",
    "# rankの中から欠損値を省く処理、inplace=Trueはdf自体に変更を加える\n",
    "df.dropna(subset=[\"rank\"], inplace=True)"
   ]
  },
  {
   "cell_type": "code",
   "execution_count": 14,
   "metadata": {},
   "outputs": [
    {
     "data": {
      "text/plain": [
       "rank\n",
       "1.0     3409\n",
       "3.0     3405\n",
       "2.0     3404\n",
       "4.0     3404\n",
       "5.0     3399\n",
       "6.0     3395\n",
       "7.0     3375\n",
       "8.0     3285\n",
       "9.0     3177\n",
       "10.0    3009\n",
       "11.0    2785\n",
       "12.0    2520\n",
       "13.0    2246\n",
       "14.0    1991\n",
       "15.0    1625\n",
       "16.0    1203\n",
       "17.0     292\n",
       "18.0     203\n",
       "Name: count, dtype: int64"
      ]
     },
     "execution_count": 14,
     "metadata": {},
     "output_type": "execute_result"
    }
   ],
   "source": [
    "df[\"rank\"].value_counts(dropna=False)"
   ]
  },
  {
   "cell_type": "code",
   "execution_count": 15,
   "metadata": {},
   "outputs": [
    {
     "data": {
      "text/plain": [
       "0        8\n",
       "1        5\n",
       "2        1\n",
       "3        7\n",
       "4        8\n",
       "        ..\n",
       "46544    3\n",
       "46545    4\n",
       "46546    6\n",
       "46547    8\n",
       "46548    2\n",
       "Name: 枠番, Length: 46127, dtype: int64"
      ]
     },
     "execution_count": 15,
     "metadata": {},
     "output_type": "execute_result"
    }
   ],
   "source": [
    "# 枠番、馬番\n",
    "df[\"枠番\"].astype(int)"
   ]
  },
  {
   "cell_type": "code",
   "execution_count": null,
   "metadata": {},
   "outputs": [
    {
     "data": {
      "text/plain": [
       "0        牡2\n",
       "1        牡2\n",
       "2        牡2\n",
       "3        牝2\n",
       "4        牡2\n",
       "         ..\n",
       "46544    牡4\n",
       "46545    牝5\n",
       "46546    牡4\n",
       "46547    牡4\n",
       "46548    牡6\n",
       "Name: 性齢, Length: 46127, dtype: object"
      ]
     },
     "execution_count": 17,
     "metadata": {},
     "output_type": "execute_result"
    }
   ],
   "source": [
    "# 性齢は、性別と年齢がくっついているので分けてあげる\n",
    "df[\"性齢\"]"
   ]
  },
  {
   "cell_type": "code",
   "execution_count": 5,
   "metadata": {},
   "outputs": [
    {
     "data": {
      "text/plain": [
       "性齢\n",
       "牡    25084\n",
       "牝    19300\n",
       "セ     2165\n",
       "Name: count, dtype: int64"
      ]
     },
     "execution_count": 5,
     "metadata": {},
     "output_type": "execute_result"
    }
   ],
   "source": [
    "# .str[0]で１文字を取得\n",
    "df[\"性齢\"].str[0].value_counts()"
   ]
  },
  {
   "cell_type": "markdown",
   "metadata": {},
   "source": [
    "ラベルエンコーディング：カテゴリ変数を整数にマッピングするデータ加工手法"
   ]
  },
  {
   "cell_type": "code",
   "execution_count": 7,
   "metadata": {},
   "outputs": [],
   "source": [
    "# 性別が文字なので数値にする必要がある\n",
    "# ラベルエンコーディングという手法を使う\n",
    "sex_mapping = {\"牡\": 0, \"牝\": 1, \"セ\": 2}"
   ]
  },
  {
   "cell_type": "code",
   "execution_count": 9,
   "metadata": {},
   "outputs": [
    {
     "data": {
      "text/plain": [
       "性齢\n",
       "0    25084\n",
       "1    19300\n",
       "2     2165\n",
       "Name: count, dtype: int64"
      ]
     },
     "execution_count": 9,
     "metadata": {},
     "output_type": "execute_result"
    }
   ],
   "source": [
    "# mapでマッピングできる\n",
    "df[\"性齢\"].str[0].map(sex_mapping).value_counts()"
   ]
  },
  {
   "cell_type": "code",
   "execution_count": 26,
   "metadata": {},
   "outputs": [
    {
     "data": {
      "text/plain": [
       "0        2\n",
       "1        2\n",
       "2        2\n",
       "3        2\n",
       "4        2\n",
       "        ..\n",
       "46544    4\n",
       "46545    5\n",
       "46546    4\n",
       "46547    4\n",
       "46548    6\n",
       "Name: 性齢, Length: 46127, dtype: int64"
      ]
     },
     "execution_count": 26,
     "metadata": {},
     "output_type": "execute_result"
    }
   ],
   "source": [
    "# 次は年齢を取り出す\n",
    "df[\"性齢\"].str[1:].astype(int)"
   ]
  },
  {
   "cell_type": "code",
   "execution_count": null,
   "metadata": {},
   "outputs": [
    {
     "data": {
      "text/plain": [
       "0        56.0\n",
       "1        56.0\n",
       "2        56.0\n",
       "3        55.0\n",
       "4        55.0\n",
       "         ... \n",
       "46544    57.0\n",
       "46545    56.0\n",
       "46546    56.0\n",
       "46547    57.0\n",
       "46548    58.0\n",
       "Name: 斤量, Length: 46127, dtype: float64"
      ]
     },
     "execution_count": 27,
     "metadata": {},
     "output_type": "execute_result"
    }
   ],
   "source": [
    "# 斤量はもともと数値型なので大丈夫\n",
    "df[\"斤量\"]"
   ]
  },
  {
   "cell_type": "code",
   "execution_count": 32,
   "metadata": {},
   "outputs": [
    {
     "data": {
      "text/html": [
       "<div>\n",
       "<style scoped>\n",
       "    .dataframe tbody tr th:only-of-type {\n",
       "        vertical-align: middle;\n",
       "    }\n",
       "\n",
       "    .dataframe tbody tr th {\n",
       "        vertical-align: top;\n",
       "    }\n",
       "\n",
       "    .dataframe thead th {\n",
       "        text-align: right;\n",
       "    }\n",
       "</style>\n",
       "<table border=\"1\" class=\"dataframe\">\n",
       "  <thead>\n",
       "    <tr style=\"text-align: right;\">\n",
       "      <th></th>\n",
       "      <th>単勝</th>\n",
       "      <th>人気</th>\n",
       "      <th>馬体重</th>\n",
       "      <th>調教師</th>\n",
       "      <th>horse_id</th>\n",
       "      <th>jockey_id</th>\n",
       "      <th>trainer_id</th>\n",
       "      <th>owner_id</th>\n",
       "      <th>rank</th>\n",
       "    </tr>\n",
       "  </thead>\n",
       "  <tbody>\n",
       "    <tr>\n",
       "      <th>0</th>\n",
       "      <td>2.3</td>\n",
       "      <td>1.0</td>\n",
       "      <td>472(0)</td>\n",
       "      <td>[西] 大久保龍</td>\n",
       "      <td>2022105073</td>\n",
       "      <td>5366</td>\n",
       "      <td>1058</td>\n",
       "      <td>783033</td>\n",
       "      <td>1.0</td>\n",
       "    </tr>\n",
       "    <tr>\n",
       "      <th>1</th>\n",
       "      <td>3.9</td>\n",
       "      <td>2.0</td>\n",
       "      <td>470(0)</td>\n",
       "      <td>[西] 吉岡辰弥</td>\n",
       "      <td>2022105169</td>\n",
       "      <td>5473</td>\n",
       "      <td>1176</td>\n",
       "      <td>486800</td>\n",
       "      <td>2.0</td>\n",
       "    </tr>\n",
       "    <tr>\n",
       "      <th>2</th>\n",
       "      <td>5.3</td>\n",
       "      <td>3.0</td>\n",
       "      <td>494(0)</td>\n",
       "      <td>[西] 武幸四郎</td>\n",
       "      <td>2022105091</td>\n",
       "      <td>5339</td>\n",
       "      <td>1160</td>\n",
       "      <td>133803</td>\n",
       "      <td>3.0</td>\n",
       "    </tr>\n",
       "    <tr>\n",
       "      <th>3</th>\n",
       "      <td>30.2</td>\n",
       "      <td>7.0</td>\n",
       "      <td>408(0)</td>\n",
       "      <td>[西] 辻野泰之</td>\n",
       "      <td>2022104624</td>\n",
       "      <td>1157</td>\n",
       "      <td>1183</td>\n",
       "      <td>486800</td>\n",
       "      <td>4.0</td>\n",
       "    </tr>\n",
       "    <tr>\n",
       "      <th>4</th>\n",
       "      <td>107.7</td>\n",
       "      <td>9.0</td>\n",
       "      <td>478(0)</td>\n",
       "      <td>[西] 松永幹夫</td>\n",
       "      <td>2022102413</td>\n",
       "      <td>1182</td>\n",
       "      <td>1092</td>\n",
       "      <td>208008</td>\n",
       "      <td>5.0</td>\n",
       "    </tr>\n",
       "    <tr>\n",
       "      <th>...</th>\n",
       "      <td>...</td>\n",
       "      <td>...</td>\n",
       "      <td>...</td>\n",
       "      <td>...</td>\n",
       "      <td>...</td>\n",
       "      <td>...</td>\n",
       "      <td>...</td>\n",
       "      <td>...</td>\n",
       "      <td>...</td>\n",
       "    </tr>\n",
       "    <tr>\n",
       "      <th>46544</th>\n",
       "      <td>6.7</td>\n",
       "      <td>3.0</td>\n",
       "      <td>504(+10)</td>\n",
       "      <td>[東] 松山将樹</td>\n",
       "      <td>2020100847</td>\n",
       "      <td>1077</td>\n",
       "      <td>1100</td>\n",
       "      <td>661030</td>\n",
       "      <td>12.0</td>\n",
       "    </tr>\n",
       "    <tr>\n",
       "      <th>46545</th>\n",
       "      <td>14.1</td>\n",
       "      <td>7.0</td>\n",
       "      <td>524(+10)</td>\n",
       "      <td>[東] 和田正一</td>\n",
       "      <td>2019102479</td>\n",
       "      <td>1134</td>\n",
       "      <td>1114</td>\n",
       "      <td>251800</td>\n",
       "      <td>13.0</td>\n",
       "    </tr>\n",
       "    <tr>\n",
       "      <th>46546</th>\n",
       "      <td>63.2</td>\n",
       "      <td>14.0</td>\n",
       "      <td>468(+10)</td>\n",
       "      <td>[東] 粕谷昌央</td>\n",
       "      <td>2020104437</td>\n",
       "      <td>1184</td>\n",
       "      <td>1096</td>\n",
       "      <td>457002</td>\n",
       "      <td>14.0</td>\n",
       "    </tr>\n",
       "    <tr>\n",
       "      <th>46547</th>\n",
       "      <td>51.7</td>\n",
       "      <td>13.0</td>\n",
       "      <td>450(+16)</td>\n",
       "      <td>[東] 和田勇介</td>\n",
       "      <td>2020102767</td>\n",
       "      <td>1096</td>\n",
       "      <td>1165</td>\n",
       "      <td>634033</td>\n",
       "      <td>15.0</td>\n",
       "    </tr>\n",
       "    <tr>\n",
       "      <th>46548</th>\n",
       "      <td>27.7</td>\n",
       "      <td>9.0</td>\n",
       "      <td>478(+6)</td>\n",
       "      <td>[東] 田村康仁</td>\n",
       "      <td>2018105647</td>\n",
       "      <td>1122</td>\n",
       "      <td>1027</td>\n",
       "      <td>270006</td>\n",
       "      <td>16.0</td>\n",
       "    </tr>\n",
       "  </tbody>\n",
       "</table>\n",
       "<p>46127 rows × 9 columns</p>\n",
       "</div>"
      ],
      "text/plain": [
       "          単勝    人気       馬体重       調教師    horse_id  jockey_id  trainer_id  \\\n",
       "0        2.3   1.0    472(0)  [西] 大久保龍  2022105073       5366        1058   \n",
       "1        3.9   2.0    470(0)  [西] 吉岡辰弥  2022105169       5473        1176   \n",
       "2        5.3   3.0    494(0)  [西] 武幸四郎  2022105091       5339        1160   \n",
       "3       30.2   7.0    408(0)  [西] 辻野泰之  2022104624       1157        1183   \n",
       "4      107.7   9.0    478(0)  [西] 松永幹夫  2022102413       1182        1092   \n",
       "...      ...   ...       ...       ...         ...        ...         ...   \n",
       "46544    6.7   3.0  504(+10)  [東] 松山将樹  2020100847       1077        1100   \n",
       "46545   14.1   7.0  524(+10)  [東] 和田正一  2019102479       1134        1114   \n",
       "46546   63.2  14.0  468(+10)  [東] 粕谷昌央  2020104437       1184        1096   \n",
       "46547   51.7  13.0  450(+16)  [東] 和田勇介  2020102767       1096        1165   \n",
       "46548   27.7   9.0   478(+6)  [東] 田村康仁  2018105647       1122        1027   \n",
       "\n",
       "       owner_id  rank  \n",
       "0        783033   1.0  \n",
       "1        486800   2.0  \n",
       "2        133803   3.0  \n",
       "3        486800   4.0  \n",
       "4        208008   5.0  \n",
       "...         ...   ...  \n",
       "46544    661030  12.0  \n",
       "46545    251800  13.0  \n",
       "46546    457002  14.0  \n",
       "46547    634033  15.0  \n",
       "46548    270006  16.0  \n",
       "\n",
       "[46127 rows x 9 columns]"
      ]
     },
     "execution_count": 32,
     "metadata": {},
     "output_type": "execute_result"
    }
   ],
   "source": [
    "# 次は10〜20列目\n",
    "df.iloc[:, 10:20]"
   ]
  },
  {
   "cell_type": "code",
   "execution_count": 36,
   "metadata": {},
   "outputs": [
    {
     "data": {
      "text/plain": [
       "0          2.3\n",
       "1          3.9\n",
       "2          5.3\n",
       "3         30.2\n",
       "4        107.7\n",
       "         ...  \n",
       "46544      6.7\n",
       "46545     14.1\n",
       "46546     63.2\n",
       "46547     51.7\n",
       "46548     27.7\n",
       "Name: 単勝, Length: 46127, dtype: float64"
      ]
     },
     "execution_count": 36,
     "metadata": {},
     "output_type": "execute_result"
    }
   ],
   "source": [
    "df[\"単勝\"].astype(float)"
   ]
  },
  {
   "cell_type": "code",
   "execution_count": 38,
   "metadata": {},
   "outputs": [
    {
     "data": {
      "text/plain": [
       "0         1\n",
       "1         2\n",
       "2         3\n",
       "3         7\n",
       "4         9\n",
       "         ..\n",
       "46544     3\n",
       "46545     7\n",
       "46546    14\n",
       "46547    13\n",
       "46548     9\n",
       "Name: 人気, Length: 46127, dtype: int64"
      ]
     },
     "execution_count": 38,
     "metadata": {},
     "output_type": "execute_result"
    }
   ],
   "source": [
    "df[\"人気\"].astype(int)"
   ]
  },
  {
   "cell_type": "code",
   "execution_count": 43,
   "metadata": {},
   "outputs": [
    {
     "data": {
      "text/plain": [
       "0          472(0)\n",
       "1          470(0)\n",
       "2          494(0)\n",
       "3          408(0)\n",
       "4          478(0)\n",
       "           ...   \n",
       "46544    504(+10)\n",
       "46545    524(+10)\n",
       "46546    468(+10)\n",
       "46547    450(+16)\n",
       "46548     478(+6)\n",
       "Name: 馬体重, Length: 46127, dtype: object"
      ]
     },
     "execution_count": 43,
     "metadata": {},
     "output_type": "execute_result"
    }
   ],
   "source": [
    "df[\"馬体重\"]"
   ]
  },
  {
   "cell_type": "code",
   "execution_count": 44,
   "metadata": {},
   "outputs": [
    {
     "data": {
      "text/plain": [
       "0        472\n",
       "1        470\n",
       "2        494\n",
       "3        408\n",
       "4        478\n",
       "        ... \n",
       "46544    504\n",
       "46545    524\n",
       "46546    468\n",
       "46547    450\n",
       "46548    478\n",
       "Name: weight, Length: 46127, dtype: int64"
      ]
     },
     "execution_count": 44,
     "metadata": {},
     "output_type": "execute_result"
    }
   ],
   "source": [
    "# extract（正規表現）で体重部分を抜き出す。\n",
    "# \\d+で数字の繰り返し部分のみ取り出す\n",
    "df[\"weight\"] = df[\"馬体重\"].str.extract(r\"(\\d+)\").astype(int)\n",
    "df[\"weight\"]"
   ]
  },
  {
   "cell_type": "code",
   "execution_count": 48,
   "metadata": {},
   "outputs": [
    {
     "data": {
      "text/plain": [
       "0         0\n",
       "1         0\n",
       "2         0\n",
       "3         0\n",
       "4         0\n",
       "         ..\n",
       "46544    10\n",
       "46545    10\n",
       "46546    10\n",
       "46547    16\n",
       "46548     6\n",
       "Name: weight_diff, Length: 46127, dtype: int64"
      ]
     },
     "execution_count": 48,
     "metadata": {},
     "output_type": "execute_result"
    }
   ],
   "source": [
    "# 体重の増減を抜き出す\n",
    "# ()の前に\\でエスケープさせて、取り出したい文字列は「(.+)」としている\n",
    "# .+で任意の文字列なので、()で囲われた任意の文字列が対象となる\n",
    "df[\"weight_diff\"] = df[\"馬体重\"].str.extract(r\"\\((.+)\\)\").astype(int)\n",
    "df[\"weight_diff\"]"
   ]
  },
  {
   "cell_type": "markdown",
   "metadata": {},
   "source": [
    "ここまでで、使いたい情報を加工できたので、preprocessing.pyに関数化する"
   ]
  },
  {
   "cell_type": "code",
   "execution_count": 17,
   "metadata": {},
   "outputs": [
    {
     "data": {
      "text/plain": [
       "0         2.0\n",
       "1         1.0\n",
       "2         1.0\n",
       "3         2.0\n",
       "4         1.0\n",
       "         ... \n",
       "146439    1.0\n",
       "146440    2.0\n",
       "146441    1.0\n",
       "146442    2.0\n",
       "146443    2.0\n",
       "Name: 天気, Length: 146444, dtype: float64"
      ]
     },
     "execution_count": 17,
     "metadata": {},
     "output_type": "execute_result"
    }
   ],
   "source": [
    "df = pd.read_csv(RAWDF_DIR / \"horse_results.csv\", sep=\"\\t\")\n",
    "\n",
    "# horse_results中の「天気」列や「馬場」列などは、数値データではなく\n",
    "# 「その行が特定のカテゴリに属する」ことを表す「カテゴリ変数」\n",
    "# カテゴリ変数の処理によく「ダミー変数化」が利用されるらしいが、デメリットがあるため\n",
    "# ラベルエンコーディングを行う（各カテゴリに対して一意の整数値を割り当てること）\n",
    "weather_mapping = {'小雨': 0, '晴': 1, '曇': 2, '雨': 3, '小雪': 4, '雪': 5}\n",
    "df[\"天気\"].map(weather_mapping)"
   ]
  },
  {
   "cell_type": "code",
   "execution_count": null,
   "metadata": {},
   "outputs": [
    {
     "data": {
      "text/plain": [
       "0           3歳未勝利\n",
       "1           3歳未勝利\n",
       "2           2歳未勝利\n",
       "3            2歳新馬\n",
       "4         凧あげ賞(B)\n",
       "           ...   \n",
       "146439       2歳新馬\n",
       "146440     3歳ー15組\n",
       "146441     3歳ー12組\n",
       "146442      3歳未勝利\n",
       "146443       2歳新馬\n",
       "Name: レース名, Length: 146444, dtype: object"
      ]
     },
     "execution_count": 18,
     "metadata": {},
     "output_type": "execute_result"
    }
   ],
   "source": [
    "# 競馬予想AI作成の肝は「相対評価をどうするか」にある\n",
    "# 着順を相対的に判断するため、一緒に走った馬がどの程度強かったかが\n",
    "# 重要な情報になる\n",
    "# レースを階級で判断してみる\n",
    "df[\"レース名\"]"
   ]
  },
  {
   "cell_type": "code",
   "execution_count": 19,
   "metadata": {},
   "outputs": [],
   "source": [
    "import json\n",
    "\n",
    "MAPPING_DIR = COMMON_DATA_DIR / \"mapping\"\n",
    "\n",
    "with open(MAPPING_DIR / \"race_class.json\", \"r\") as f:\n",
    "    race_class_mapping = json.load(f)"
   ]
  },
  {
   "cell_type": "code",
   "execution_count": 22,
   "metadata": {},
   "outputs": [
    {
     "data": {
      "text/plain": [
       "'新馬|未勝利|1勝クラス|2勝クラス|3勝クラス|オープン|G3|G2|G1|特別|500万下|1000万下|1600万下|OP'"
      ]
     },
     "execution_count": 22,
     "metadata": {},
     "output_type": "execute_result"
    }
   ],
   "source": [
    "# レース名には\"３歳以上１勝クラス\"のように、他の文字列がついている\n",
    "# まずは「レース名」列からrace_class_mappingに含まれる文字列のみ取り出す\n",
    "regex_race_class = \"|\".join(race_class_mapping)\n",
    "regex_race_class"
   ]
  },
  {
   "cell_type": "code",
   "execution_count": null,
   "metadata": {},
   "outputs": [
    {
     "data": {
      "text/plain": [
       "0         未勝利\n",
       "1         未勝利\n",
       "2         未勝利\n",
       "3          新馬\n",
       "4         NaN\n",
       "         ... \n",
       "146439     新馬\n",
       "146440    NaN\n",
       "146441    NaN\n",
       "146442    未勝利\n",
       "146443     新馬\n",
       "Name: race_class, Length: 146444, dtype: object"
      ]
     },
     "execution_count": 24,
     "metadata": {},
     "output_type": "execute_result"
    }
   ],
   "source": [
    "# .str.extracr()を行うことで、正規表現で「\"新馬\"または\"未勝利\"または..を取り出す」という処理になる\n",
    "df[\"race_class\"] = df[\"レース名\"].str.extract(rf\"({regex_race_class})\")\n",
    "df[\"race_class\"]"
   ]
  },
  {
   "cell_type": "markdown",
   "metadata": {},
   "source": [
    "## 馬の過去成績集計"
   ]
  },
  {
   "cell_type": "markdown",
   "metadata": {},
   "source": [
    "まずは「馬の過去成績テーブル」から直近nレースの着順や賞金の平均を集計し<br>\n",
    "「レース結果テーブル」に紐づける<br>\n",
    "<br>\n",
    "単純にするなら「レース結果テーブル」と「馬の過去成績テーブル」を<br>\n",
    "horse_idで紐づけ、新しい成績からnレース分集計すれば良いと思う。<br>\n",
    "ただし、上の紐付け方には問題がある。<br>\n",
    "馬の過去成績テーブルは「レース結果テーブルの出走日以前の成績」に絞らなければならない。<br>\n",
    "<br>\n",
    "例えば、出走日が2024年1月1日のレース結果に紐付ける場合<br>\n",
    "それより過去のデータに絞って「直近nレースの着順や賞金の平均」を集計する必要あり<br>\n",
    "なぜなら、2024年の全レース結果を取得してきているので「それより後の馬の過去成績」が<br>\n",
    "取得できてしまい、本来は2024年1月1日時点では存在しないデータとなる。<br>\n",
    "<br>\n",
    "本来取得できないデータを予測材料に使ってしまうことを、機械学習の用語で「リーク」という。<br>\n",
    "正解がわかっている状態なので予測にならず学習にもならない<br>\n",
    "やけに精度が高い場合はリークを疑う"
   ]
  }
 ],
 "metadata": {
  "kernelspec": {
   "display_name": "keibavenv",
   "language": "python",
   "name": "python3"
  },
  "language_info": {
   "codemirror_mode": {
    "name": "ipython",
    "version": 3
   },
   "file_extension": ".py",
   "mimetype": "text/x-python",
   "name": "python",
   "nbconvert_exporter": "python",
   "pygments_lexer": "ipython3",
   "version": "3.9.6"
  }
 },
 "nbformat": 4,
 "nbformat_minor": 2
}
