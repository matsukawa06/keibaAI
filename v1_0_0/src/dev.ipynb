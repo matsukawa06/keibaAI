{
 "cells": [
  {
   "cell_type": "markdown",
   "metadata": {},
   "source": [
    "# インポート"
   ]
  },
  {
   "cell_type": "code",
   "execution_count": 3,
   "metadata": {},
   "outputs": [],
   "source": [
    "import pandas as pd\n",
    "from pathlib import Path\n",
    "\n",
    "COMMON_DATA_DIR = Path(\"..\", \"..\", \"common\", \"data\")\n",
    "RAWDF_DIR = COMMON_DATA_DIR / \"rawdf\""
   ]
  },
  {
   "cell_type": "markdown",
   "metadata": {},
   "source": [
    "# データ加工"
   ]
  },
  {
   "cell_type": "markdown",
   "metadata": {},
   "source": [
    "## レース結果テーブルの加工"
   ]
  },
  {
   "cell_type": "code",
   "execution_count": 4,
   "metadata": {},
   "outputs": [],
   "source": [
    "# レース結果のCSVを読み込み\n",
    "df = pd.read_csv(RAWDF_DIR / \"results.csv\", sep=\"\\t\")"
   ]
  },
  {
   "cell_type": "code",
   "execution_count": 34,
   "metadata": {},
   "outputs": [
    {
     "data": {
      "text/html": [
       "<div>\n",
       "<style scoped>\n",
       "    .dataframe tbody tr th:only-of-type {\n",
       "        vertical-align: middle;\n",
       "    }\n",
       "\n",
       "    .dataframe tbody tr th {\n",
       "        vertical-align: top;\n",
       "    }\n",
       "\n",
       "    .dataframe thead th {\n",
       "        text-align: right;\n",
       "    }\n",
       "</style>\n",
       "<table border=\"1\" class=\"dataframe\">\n",
       "  <thead>\n",
       "    <tr style=\"text-align: right;\">\n",
       "      <th></th>\n",
       "      <th>race_id</th>\n",
       "      <th>着順</th>\n",
       "      <th>枠番</th>\n",
       "      <th>馬番</th>\n",
       "      <th>馬名</th>\n",
       "      <th>性齢</th>\n",
       "      <th>斤量</th>\n",
       "      <th>騎手</th>\n",
       "      <th>タイム</th>\n",
       "      <th>着差</th>\n",
       "    </tr>\n",
       "  </thead>\n",
       "  <tbody>\n",
       "    <tr>\n",
       "      <th>0</th>\n",
       "      <td>202408060405</td>\n",
       "      <td>1</td>\n",
       "      <td>8</td>\n",
       "      <td>10</td>\n",
       "      <td>エコロディノス</td>\n",
       "      <td>牡2</td>\n",
       "      <td>56.0</td>\n",
       "      <td>ムーア</td>\n",
       "      <td>2:00.9</td>\n",
       "      <td>NaN</td>\n",
       "    </tr>\n",
       "    <tr>\n",
       "      <th>1</th>\n",
       "      <td>202408060405</td>\n",
       "      <td>2</td>\n",
       "      <td>5</td>\n",
       "      <td>5</td>\n",
       "      <td>トロワヴァレー</td>\n",
       "      <td>牡2</td>\n",
       "      <td>56.0</td>\n",
       "      <td>Ｃ．デム</td>\n",
       "      <td>2:01.5</td>\n",
       "      <td>3.1/2</td>\n",
       "    </tr>\n",
       "    <tr>\n",
       "      <th>2</th>\n",
       "      <td>202408060405</td>\n",
       "      <td>3</td>\n",
       "      <td>1</td>\n",
       "      <td>1</td>\n",
       "      <td>コジオスコ</td>\n",
       "      <td>牡2</td>\n",
       "      <td>56.0</td>\n",
       "      <td>ルメール</td>\n",
       "      <td>2:01.9</td>\n",
       "      <td>2.1/2</td>\n",
       "    </tr>\n",
       "    <tr>\n",
       "      <th>3</th>\n",
       "      <td>202408060405</td>\n",
       "      <td>4</td>\n",
       "      <td>7</td>\n",
       "      <td>8</td>\n",
       "      <td>アロマフェリス</td>\n",
       "      <td>牝2</td>\n",
       "      <td>55.0</td>\n",
       "      <td>鮫島克駿</td>\n",
       "      <td>2:02.4</td>\n",
       "      <td>3</td>\n",
       "    </tr>\n",
       "    <tr>\n",
       "      <th>4</th>\n",
       "      <td>202408060405</td>\n",
       "      <td>5</td>\n",
       "      <td>8</td>\n",
       "      <td>9</td>\n",
       "      <td>サウスオブロンドン</td>\n",
       "      <td>牡2</td>\n",
       "      <td>55.0</td>\n",
       "      <td>泉谷楓真</td>\n",
       "      <td>2:02.7</td>\n",
       "      <td>2</td>\n",
       "    </tr>\n",
       "    <tr>\n",
       "      <th>...</th>\n",
       "      <td>...</td>\n",
       "      <td>...</td>\n",
       "      <td>...</td>\n",
       "      <td>...</td>\n",
       "      <td>...</td>\n",
       "      <td>...</td>\n",
       "      <td>...</td>\n",
       "      <td>...</td>\n",
       "      <td>...</td>\n",
       "      <td>...</td>\n",
       "    </tr>\n",
       "    <tr>\n",
       "      <th>46544</th>\n",
       "      <td>202405010107</td>\n",
       "      <td>12</td>\n",
       "      <td>3</td>\n",
       "      <td>5</td>\n",
       "      <td>グランヒマラヤ</td>\n",
       "      <td>牡4</td>\n",
       "      <td>57.0</td>\n",
       "      <td>石橋脩</td>\n",
       "      <td>1:29.1</td>\n",
       "      <td>2.1/2</td>\n",
       "    </tr>\n",
       "    <tr>\n",
       "      <th>46545</th>\n",
       "      <td>202405010107</td>\n",
       "      <td>13</td>\n",
       "      <td>4</td>\n",
       "      <td>8</td>\n",
       "      <td>フエキ</td>\n",
       "      <td>牝5</td>\n",
       "      <td>56.0</td>\n",
       "      <td>嶋田純次</td>\n",
       "      <td>1:29.2</td>\n",
       "      <td>クビ</td>\n",
       "    </tr>\n",
       "    <tr>\n",
       "      <th>46546</th>\n",
       "      <td>202405010107</td>\n",
       "      <td>14</td>\n",
       "      <td>6</td>\n",
       "      <td>12</td>\n",
       "      <td>ジャーニーメモリー</td>\n",
       "      <td>牡4</td>\n",
       "      <td>56.0</td>\n",
       "      <td>原優介</td>\n",
       "      <td>1:29.2</td>\n",
       "      <td>クビ</td>\n",
       "    </tr>\n",
       "    <tr>\n",
       "      <th>46547</th>\n",
       "      <td>202405010107</td>\n",
       "      <td>15</td>\n",
       "      <td>8</td>\n",
       "      <td>15</td>\n",
       "      <td>テンプーシャオン</td>\n",
       "      <td>牡4</td>\n",
       "      <td>57.0</td>\n",
       "      <td>大野拓弥</td>\n",
       "      <td>1:30.4</td>\n",
       "      <td>7</td>\n",
       "    </tr>\n",
       "    <tr>\n",
       "      <th>46548</th>\n",
       "      <td>202405010107</td>\n",
       "      <td>16</td>\n",
       "      <td>2</td>\n",
       "      <td>3</td>\n",
       "      <td>トーセンニック</td>\n",
       "      <td>牡6</td>\n",
       "      <td>58.0</td>\n",
       "      <td>三浦皇成</td>\n",
       "      <td>1:31.4</td>\n",
       "      <td>6</td>\n",
       "    </tr>\n",
       "  </tbody>\n",
       "</table>\n",
       "<p>46127 rows × 10 columns</p>\n",
       "</div>"
      ],
      "text/plain": [
       "            race_id  着順  枠番  馬番         馬名  性齢    斤量    騎手     タイム     着差\n",
       "0      202408060405   1   8  10    エコロディノス  牡2  56.0   ムーア  2:00.9    NaN\n",
       "1      202408060405   2   5   5    トロワヴァレー  牡2  56.0  Ｃ．デム  2:01.5  3.1/2\n",
       "2      202408060405   3   1   1      コジオスコ  牡2  56.0  ルメール  2:01.9  2.1/2\n",
       "3      202408060405   4   7   8    アロマフェリス  牝2  55.0  鮫島克駿  2:02.4      3\n",
       "4      202408060405   5   8   9  サウスオブロンドン  牡2  55.0  泉谷楓真  2:02.7      2\n",
       "...             ...  ..  ..  ..        ...  ..   ...   ...     ...    ...\n",
       "46544  202405010107  12   3   5    グランヒマラヤ  牡4  57.0   石橋脩  1:29.1  2.1/2\n",
       "46545  202405010107  13   4   8        フエキ  牝5  56.0  嶋田純次  1:29.2     クビ\n",
       "46546  202405010107  14   6  12  ジャーニーメモリー  牡4  56.0   原優介  1:29.2     クビ\n",
       "46547  202405010107  15   8  15   テンプーシャオン  牡4  57.0  大野拓弥  1:30.4      7\n",
       "46548  202405010107  16   2   3    トーセンニック  牡6  58.0  三浦皇成  1:31.4      6\n",
       "\n",
       "[46127 rows x 10 columns]"
      ]
     },
     "execution_count": 34,
     "metadata": {},
     "output_type": "execute_result"
    }
   ],
   "source": [
    "# すべて表示すると見にくいため、表示するデータを絞る\n",
    "# iloc[行, 列]で指定できる。「:」はすべてを表す。\n",
    "# よって次の記述はcsvの全行かつ先頭から10列分を表示。\n",
    "df.iloc[:, 0:10]"
   ]
  },
  {
   "cell_type": "code",
   "execution_count": 8,
   "metadata": {},
   "outputs": [
    {
     "data": {
      "text/plain": [
       "0         1\n",
       "1         2\n",
       "2         3\n",
       "3         4\n",
       "4         5\n",
       "         ..\n",
       "46544    12\n",
       "46545    13\n",
       "46546    14\n",
       "46547    15\n",
       "46548    16\n",
       "Name: 着順, Length: 46549, dtype: object"
      ]
     },
     "execution_count": 8,
     "metadata": {},
     "output_type": "execute_result"
    }
   ],
   "source": [
    "# 着順列を取得\n",
    "df[\"着順\"]"
   ]
  },
  {
   "cell_type": "code",
   "execution_count": 9,
   "metadata": {},
   "outputs": [
    {
     "ename": "ValueError",
     "evalue": "invalid literal for int() with base 10: '中'",
     "output_type": "error",
     "traceback": [
      "\u001b[0;31m---------------------------------------------------------------------------\u001b[0m",
      "\u001b[0;31mValueError\u001b[0m                                Traceback (most recent call last)",
      "Cell \u001b[0;32mIn[9], line 4\u001b[0m\n\u001b[1;32m      1\u001b[0m \u001b[38;5;66;03m# 着順列のdtypeがobjectになっている\u001b[39;00m\n\u001b[1;32m      2\u001b[0m \u001b[38;5;66;03m# 機械学習モデルに入れるにはobjectだと入れられないため\u001b[39;00m\n\u001b[1;32m      3\u001b[0m \u001b[38;5;66;03m# 数値型に変換する\u001b[39;00m\n\u001b[0;32m----> 4\u001b[0m \u001b[43mdf\u001b[49m\u001b[43m[\u001b[49m\u001b[38;5;124;43m\"\u001b[39;49m\u001b[38;5;124;43m着順\u001b[39;49m\u001b[38;5;124;43m\"\u001b[39;49m\u001b[43m]\u001b[49m\u001b[38;5;241;43m.\u001b[39;49m\u001b[43mastype\u001b[49m\u001b[43m(\u001b[49m\u001b[38;5;28;43mint\u001b[39;49m\u001b[43m)\u001b[49m\n",
      "File \u001b[0;32m~/develop/python/keibaAI/keibavenv/lib/python3.9/site-packages/pandas/core/generic.py:6643\u001b[0m, in \u001b[0;36mNDFrame.astype\u001b[0;34m(self, dtype, copy, errors)\u001b[0m\n\u001b[1;32m   6637\u001b[0m     results \u001b[38;5;241m=\u001b[39m [\n\u001b[1;32m   6638\u001b[0m         ser\u001b[38;5;241m.\u001b[39mastype(dtype, copy\u001b[38;5;241m=\u001b[39mcopy, errors\u001b[38;5;241m=\u001b[39merrors) \u001b[38;5;28;01mfor\u001b[39;00m _, ser \u001b[38;5;129;01min\u001b[39;00m \u001b[38;5;28mself\u001b[39m\u001b[38;5;241m.\u001b[39mitems()\n\u001b[1;32m   6639\u001b[0m     ]\n\u001b[1;32m   6641\u001b[0m \u001b[38;5;28;01melse\u001b[39;00m:\n\u001b[1;32m   6642\u001b[0m     \u001b[38;5;66;03m# else, only a single dtype is given\u001b[39;00m\n\u001b[0;32m-> 6643\u001b[0m     new_data \u001b[38;5;241m=\u001b[39m \u001b[38;5;28;43mself\u001b[39;49m\u001b[38;5;241;43m.\u001b[39;49m\u001b[43m_mgr\u001b[49m\u001b[38;5;241;43m.\u001b[39;49m\u001b[43mastype\u001b[49m\u001b[43m(\u001b[49m\u001b[43mdtype\u001b[49m\u001b[38;5;241;43m=\u001b[39;49m\u001b[43mdtype\u001b[49m\u001b[43m,\u001b[49m\u001b[43m \u001b[49m\u001b[43mcopy\u001b[49m\u001b[38;5;241;43m=\u001b[39;49m\u001b[43mcopy\u001b[49m\u001b[43m,\u001b[49m\u001b[43m \u001b[49m\u001b[43merrors\u001b[49m\u001b[38;5;241;43m=\u001b[39;49m\u001b[43merrors\u001b[49m\u001b[43m)\u001b[49m\n\u001b[1;32m   6644\u001b[0m     res \u001b[38;5;241m=\u001b[39m \u001b[38;5;28mself\u001b[39m\u001b[38;5;241m.\u001b[39m_constructor_from_mgr(new_data, axes\u001b[38;5;241m=\u001b[39mnew_data\u001b[38;5;241m.\u001b[39maxes)\n\u001b[1;32m   6645\u001b[0m     \u001b[38;5;28;01mreturn\u001b[39;00m res\u001b[38;5;241m.\u001b[39m__finalize__(\u001b[38;5;28mself\u001b[39m, method\u001b[38;5;241m=\u001b[39m\u001b[38;5;124m\"\u001b[39m\u001b[38;5;124mastype\u001b[39m\u001b[38;5;124m\"\u001b[39m)\n",
      "File \u001b[0;32m~/develop/python/keibaAI/keibavenv/lib/python3.9/site-packages/pandas/core/internals/managers.py:430\u001b[0m, in \u001b[0;36mBaseBlockManager.astype\u001b[0;34m(self, dtype, copy, errors)\u001b[0m\n\u001b[1;32m    427\u001b[0m \u001b[38;5;28;01melif\u001b[39;00m using_copy_on_write():\n\u001b[1;32m    428\u001b[0m     copy \u001b[38;5;241m=\u001b[39m \u001b[38;5;28;01mFalse\u001b[39;00m\n\u001b[0;32m--> 430\u001b[0m \u001b[38;5;28;01mreturn\u001b[39;00m \u001b[38;5;28;43mself\u001b[39;49m\u001b[38;5;241;43m.\u001b[39;49m\u001b[43mapply\u001b[49m\u001b[43m(\u001b[49m\n\u001b[1;32m    431\u001b[0m \u001b[43m    \u001b[49m\u001b[38;5;124;43m\"\u001b[39;49m\u001b[38;5;124;43mastype\u001b[39;49m\u001b[38;5;124;43m\"\u001b[39;49m\u001b[43m,\u001b[49m\n\u001b[1;32m    432\u001b[0m \u001b[43m    \u001b[49m\u001b[43mdtype\u001b[49m\u001b[38;5;241;43m=\u001b[39;49m\u001b[43mdtype\u001b[49m\u001b[43m,\u001b[49m\n\u001b[1;32m    433\u001b[0m \u001b[43m    \u001b[49m\u001b[43mcopy\u001b[49m\u001b[38;5;241;43m=\u001b[39;49m\u001b[43mcopy\u001b[49m\u001b[43m,\u001b[49m\n\u001b[1;32m    434\u001b[0m \u001b[43m    \u001b[49m\u001b[43merrors\u001b[49m\u001b[38;5;241;43m=\u001b[39;49m\u001b[43merrors\u001b[49m\u001b[43m,\u001b[49m\n\u001b[1;32m    435\u001b[0m \u001b[43m    \u001b[49m\u001b[43musing_cow\u001b[49m\u001b[38;5;241;43m=\u001b[39;49m\u001b[43musing_copy_on_write\u001b[49m\u001b[43m(\u001b[49m\u001b[43m)\u001b[49m\u001b[43m,\u001b[49m\n\u001b[1;32m    436\u001b[0m \u001b[43m\u001b[49m\u001b[43m)\u001b[49m\n",
      "File \u001b[0;32m~/develop/python/keibaAI/keibavenv/lib/python3.9/site-packages/pandas/core/internals/managers.py:363\u001b[0m, in \u001b[0;36mBaseBlockManager.apply\u001b[0;34m(self, f, align_keys, **kwargs)\u001b[0m\n\u001b[1;32m    361\u001b[0m         applied \u001b[38;5;241m=\u001b[39m b\u001b[38;5;241m.\u001b[39mapply(f, \u001b[38;5;241m*\u001b[39m\u001b[38;5;241m*\u001b[39mkwargs)\n\u001b[1;32m    362\u001b[0m     \u001b[38;5;28;01melse\u001b[39;00m:\n\u001b[0;32m--> 363\u001b[0m         applied \u001b[38;5;241m=\u001b[39m \u001b[38;5;28;43mgetattr\u001b[39;49m\u001b[43m(\u001b[49m\u001b[43mb\u001b[49m\u001b[43m,\u001b[49m\u001b[43m \u001b[49m\u001b[43mf\u001b[49m\u001b[43m)\u001b[49m\u001b[43m(\u001b[49m\u001b[38;5;241;43m*\u001b[39;49m\u001b[38;5;241;43m*\u001b[39;49m\u001b[43mkwargs\u001b[49m\u001b[43m)\u001b[49m\n\u001b[1;32m    364\u001b[0m     result_blocks \u001b[38;5;241m=\u001b[39m extend_blocks(applied, result_blocks)\n\u001b[1;32m    366\u001b[0m out \u001b[38;5;241m=\u001b[39m \u001b[38;5;28mtype\u001b[39m(\u001b[38;5;28mself\u001b[39m)\u001b[38;5;241m.\u001b[39mfrom_blocks(result_blocks, \u001b[38;5;28mself\u001b[39m\u001b[38;5;241m.\u001b[39maxes)\n",
      "File \u001b[0;32m~/develop/python/keibaAI/keibavenv/lib/python3.9/site-packages/pandas/core/internals/blocks.py:758\u001b[0m, in \u001b[0;36mBlock.astype\u001b[0;34m(self, dtype, copy, errors, using_cow, squeeze)\u001b[0m\n\u001b[1;32m    755\u001b[0m         \u001b[38;5;28;01mraise\u001b[39;00m \u001b[38;5;167;01mValueError\u001b[39;00m(\u001b[38;5;124m\"\u001b[39m\u001b[38;5;124mCan not squeeze with more than one column.\u001b[39m\u001b[38;5;124m\"\u001b[39m)\n\u001b[1;32m    756\u001b[0m     values \u001b[38;5;241m=\u001b[39m values[\u001b[38;5;241m0\u001b[39m, :]  \u001b[38;5;66;03m# type: ignore[call-overload]\u001b[39;00m\n\u001b[0;32m--> 758\u001b[0m new_values \u001b[38;5;241m=\u001b[39m \u001b[43mastype_array_safe\u001b[49m\u001b[43m(\u001b[49m\u001b[43mvalues\u001b[49m\u001b[43m,\u001b[49m\u001b[43m \u001b[49m\u001b[43mdtype\u001b[49m\u001b[43m,\u001b[49m\u001b[43m \u001b[49m\u001b[43mcopy\u001b[49m\u001b[38;5;241;43m=\u001b[39;49m\u001b[43mcopy\u001b[49m\u001b[43m,\u001b[49m\u001b[43m \u001b[49m\u001b[43merrors\u001b[49m\u001b[38;5;241;43m=\u001b[39;49m\u001b[43merrors\u001b[49m\u001b[43m)\u001b[49m\n\u001b[1;32m    760\u001b[0m new_values \u001b[38;5;241m=\u001b[39m maybe_coerce_values(new_values)\n\u001b[1;32m    762\u001b[0m refs \u001b[38;5;241m=\u001b[39m \u001b[38;5;28;01mNone\u001b[39;00m\n",
      "File \u001b[0;32m~/develop/python/keibaAI/keibavenv/lib/python3.9/site-packages/pandas/core/dtypes/astype.py:237\u001b[0m, in \u001b[0;36mastype_array_safe\u001b[0;34m(values, dtype, copy, errors)\u001b[0m\n\u001b[1;32m    234\u001b[0m     dtype \u001b[38;5;241m=\u001b[39m dtype\u001b[38;5;241m.\u001b[39mnumpy_dtype\n\u001b[1;32m    236\u001b[0m \u001b[38;5;28;01mtry\u001b[39;00m:\n\u001b[0;32m--> 237\u001b[0m     new_values \u001b[38;5;241m=\u001b[39m \u001b[43mastype_array\u001b[49m\u001b[43m(\u001b[49m\u001b[43mvalues\u001b[49m\u001b[43m,\u001b[49m\u001b[43m \u001b[49m\u001b[43mdtype\u001b[49m\u001b[43m,\u001b[49m\u001b[43m \u001b[49m\u001b[43mcopy\u001b[49m\u001b[38;5;241;43m=\u001b[39;49m\u001b[43mcopy\u001b[49m\u001b[43m)\u001b[49m\n\u001b[1;32m    238\u001b[0m \u001b[38;5;28;01mexcept\u001b[39;00m (\u001b[38;5;167;01mValueError\u001b[39;00m, \u001b[38;5;167;01mTypeError\u001b[39;00m):\n\u001b[1;32m    239\u001b[0m     \u001b[38;5;66;03m# e.g. _astype_nansafe can fail on object-dtype of strings\u001b[39;00m\n\u001b[1;32m    240\u001b[0m     \u001b[38;5;66;03m#  trying to convert to float\u001b[39;00m\n\u001b[1;32m    241\u001b[0m     \u001b[38;5;28;01mif\u001b[39;00m errors \u001b[38;5;241m==\u001b[39m \u001b[38;5;124m\"\u001b[39m\u001b[38;5;124mignore\u001b[39m\u001b[38;5;124m\"\u001b[39m:\n",
      "File \u001b[0;32m~/develop/python/keibaAI/keibavenv/lib/python3.9/site-packages/pandas/core/dtypes/astype.py:182\u001b[0m, in \u001b[0;36mastype_array\u001b[0;34m(values, dtype, copy)\u001b[0m\n\u001b[1;32m    179\u001b[0m     values \u001b[38;5;241m=\u001b[39m values\u001b[38;5;241m.\u001b[39mastype(dtype, copy\u001b[38;5;241m=\u001b[39mcopy)\n\u001b[1;32m    181\u001b[0m \u001b[38;5;28;01melse\u001b[39;00m:\n\u001b[0;32m--> 182\u001b[0m     values \u001b[38;5;241m=\u001b[39m \u001b[43m_astype_nansafe\u001b[49m\u001b[43m(\u001b[49m\u001b[43mvalues\u001b[49m\u001b[43m,\u001b[49m\u001b[43m \u001b[49m\u001b[43mdtype\u001b[49m\u001b[43m,\u001b[49m\u001b[43m \u001b[49m\u001b[43mcopy\u001b[49m\u001b[38;5;241;43m=\u001b[39;49m\u001b[43mcopy\u001b[49m\u001b[43m)\u001b[49m\n\u001b[1;32m    184\u001b[0m \u001b[38;5;66;03m# in pandas we don't store numpy str dtypes, so convert to object\u001b[39;00m\n\u001b[1;32m    185\u001b[0m \u001b[38;5;28;01mif\u001b[39;00m \u001b[38;5;28misinstance\u001b[39m(dtype, np\u001b[38;5;241m.\u001b[39mdtype) \u001b[38;5;129;01mand\u001b[39;00m \u001b[38;5;28missubclass\u001b[39m(values\u001b[38;5;241m.\u001b[39mdtype\u001b[38;5;241m.\u001b[39mtype, \u001b[38;5;28mstr\u001b[39m):\n",
      "File \u001b[0;32m~/develop/python/keibaAI/keibavenv/lib/python3.9/site-packages/pandas/core/dtypes/astype.py:133\u001b[0m, in \u001b[0;36m_astype_nansafe\u001b[0;34m(arr, dtype, copy, skipna)\u001b[0m\n\u001b[1;32m    129\u001b[0m     \u001b[38;5;28;01mraise\u001b[39;00m \u001b[38;5;167;01mValueError\u001b[39;00m(msg)\n\u001b[1;32m    131\u001b[0m \u001b[38;5;28;01mif\u001b[39;00m copy \u001b[38;5;129;01mor\u001b[39;00m arr\u001b[38;5;241m.\u001b[39mdtype \u001b[38;5;241m==\u001b[39m \u001b[38;5;28mobject\u001b[39m \u001b[38;5;129;01mor\u001b[39;00m dtype \u001b[38;5;241m==\u001b[39m \u001b[38;5;28mobject\u001b[39m:\n\u001b[1;32m    132\u001b[0m     \u001b[38;5;66;03m# Explicit copy, or required since NumPy can't view from / to object.\u001b[39;00m\n\u001b[0;32m--> 133\u001b[0m     \u001b[38;5;28;01mreturn\u001b[39;00m \u001b[43marr\u001b[49m\u001b[38;5;241;43m.\u001b[39;49m\u001b[43mastype\u001b[49m\u001b[43m(\u001b[49m\u001b[43mdtype\u001b[49m\u001b[43m,\u001b[49m\u001b[43m \u001b[49m\u001b[43mcopy\u001b[49m\u001b[38;5;241;43m=\u001b[39;49m\u001b[38;5;28;43;01mTrue\u001b[39;49;00m\u001b[43m)\u001b[49m\n\u001b[1;32m    135\u001b[0m \u001b[38;5;28;01mreturn\u001b[39;00m arr\u001b[38;5;241m.\u001b[39mastype(dtype, copy\u001b[38;5;241m=\u001b[39mcopy)\n",
      "\u001b[0;31mValueError\u001b[0m: invalid literal for int() with base 10: '中'"
     ]
    }
   ],
   "source": [
    "# 着順列のdtypeがobjectになっている\n",
    "# 機械学習モデルに入れるにはobjectだと入れられないため\n",
    "# 数値型に変換する\n",
    "df[\"着順\"].astype(int)"
   ]
  },
  {
   "cell_type": "code",
   "execution_count": null,
   "metadata": {},
   "outputs": [
    {
     "data": {
      "text/plain": [
       "0         1.0\n",
       "1         2.0\n",
       "2         3.0\n",
       "3         4.0\n",
       "4         5.0\n",
       "         ... \n",
       "46544    12.0\n",
       "46545    13.0\n",
       "46546    14.0\n",
       "46547    15.0\n",
       "46548    16.0\n",
       "Name: 着順, Length: 46549, dtype: float64"
      ]
     },
     "execution_count": 10,
     "metadata": {},
     "output_type": "execute_result"
    }
   ],
   "source": [
    "# エラーになったのは着順列に、中止を表す「中」が含まれているためint変換できない\n",
    "# 数値でない値は省く\n",
    "# pandasのto_numericを使えば、エラー時の動きを指定できる\n",
    "# デフォルトはraiseでエラーを返す、coerceを指定すればエラーになるものは欠損値に変換する\n",
    "pd.to_numeric(df[\"着順\"], errors=\"coerce\")"
   ]
  },
  {
   "cell_type": "code",
   "execution_count": 11,
   "metadata": {},
   "outputs": [
    {
     "data": {
      "text/plain": [
       "rank\n",
       "1.0     3409\n",
       "3.0     3405\n",
       "2.0     3404\n",
       "4.0     3404\n",
       "5.0     3399\n",
       "6.0     3395\n",
       "7.0     3375\n",
       "8.0     3285\n",
       "9.0     3177\n",
       "10.0    3009\n",
       "11.0    2785\n",
       "12.0    2520\n",
       "13.0    2246\n",
       "14.0    1991\n",
       "15.0    1625\n",
       "16.0    1203\n",
       "NaN      422\n",
       "17.0     292\n",
       "18.0     203\n",
       "Name: count, dtype: int64"
      ]
     },
     "execution_count": 11,
     "metadata": {},
     "output_type": "execute_result"
    }
   ],
   "source": [
    "# 欠損値がどれくらいあるのか調べたい\n",
    "df[\"rank\"] = pd.to_numeric(df[\"着順\"], errors=\"coerce\")\n",
    "# value_countsはデフォルトでは欠損値が省かれるため、dropna=Falseを指定する\n",
    "df[\"rank\"].value_counts(dropna=False)"
   ]
  },
  {
   "cell_type": "code",
   "execution_count": 13,
   "metadata": {},
   "outputs": [],
   "source": [
    "# 目的変数でrankを求める際に、NaNのデータは不要なので省いてあげる\n",
    "# rankの中から欠損値を省く処理、inplace=Trueはdf自体に変更を加える\n",
    "df.dropna(subset=[\"rank\"], inplace=True)"
   ]
  },
  {
   "cell_type": "code",
   "execution_count": 14,
   "metadata": {},
   "outputs": [
    {
     "data": {
      "text/plain": [
       "rank\n",
       "1.0     3409\n",
       "3.0     3405\n",
       "2.0     3404\n",
       "4.0     3404\n",
       "5.0     3399\n",
       "6.0     3395\n",
       "7.0     3375\n",
       "8.0     3285\n",
       "9.0     3177\n",
       "10.0    3009\n",
       "11.0    2785\n",
       "12.0    2520\n",
       "13.0    2246\n",
       "14.0    1991\n",
       "15.0    1625\n",
       "16.0    1203\n",
       "17.0     292\n",
       "18.0     203\n",
       "Name: count, dtype: int64"
      ]
     },
     "execution_count": 14,
     "metadata": {},
     "output_type": "execute_result"
    }
   ],
   "source": [
    "df[\"rank\"].value_counts(dropna=False)"
   ]
  },
  {
   "cell_type": "code",
   "execution_count": 15,
   "metadata": {},
   "outputs": [
    {
     "data": {
      "text/plain": [
       "0        8\n",
       "1        5\n",
       "2        1\n",
       "3        7\n",
       "4        8\n",
       "        ..\n",
       "46544    3\n",
       "46545    4\n",
       "46546    6\n",
       "46547    8\n",
       "46548    2\n",
       "Name: 枠番, Length: 46127, dtype: int64"
      ]
     },
     "execution_count": 15,
     "metadata": {},
     "output_type": "execute_result"
    }
   ],
   "source": [
    "# 枠番、馬番\n",
    "df[\"枠番\"].astype(int)"
   ]
  },
  {
   "cell_type": "code",
   "execution_count": null,
   "metadata": {},
   "outputs": [
    {
     "data": {
      "text/plain": [
       "0        牡2\n",
       "1        牡2\n",
       "2        牡2\n",
       "3        牝2\n",
       "4        牡2\n",
       "         ..\n",
       "46544    牡4\n",
       "46545    牝5\n",
       "46546    牡4\n",
       "46547    牡4\n",
       "46548    牡6\n",
       "Name: 性齢, Length: 46127, dtype: object"
      ]
     },
     "execution_count": 17,
     "metadata": {},
     "output_type": "execute_result"
    }
   ],
   "source": [
    "# 性齢は、性別と年齢がくっついているので分けてあげる\n",
    "df[\"性齢\"]"
   ]
  },
  {
   "cell_type": "code",
   "execution_count": 5,
   "metadata": {},
   "outputs": [
    {
     "data": {
      "text/plain": [
       "性齢\n",
       "牡    25084\n",
       "牝    19300\n",
       "セ     2165\n",
       "Name: count, dtype: int64"
      ]
     },
     "execution_count": 5,
     "metadata": {},
     "output_type": "execute_result"
    }
   ],
   "source": [
    "# .str[0]で１文字を取得\n",
    "df[\"性齢\"].str[0].value_counts()"
   ]
  },
  {
   "cell_type": "markdown",
   "metadata": {},
   "source": [
    "ラベルエンコーディング：カテゴリ変数を整数にマッピングするデータ加工手法"
   ]
  },
  {
   "cell_type": "code",
   "execution_count": 7,
   "metadata": {},
   "outputs": [],
   "source": [
    "# 性別が文字なので数値にする必要がある\n",
    "# ラベルエンコーディングという手法を使う\n",
    "sex_mapping = {\"牡\": 0, \"牝\": 1, \"セ\": 2}"
   ]
  },
  {
   "cell_type": "code",
   "execution_count": 9,
   "metadata": {},
   "outputs": [
    {
     "data": {
      "text/plain": [
       "性齢\n",
       "0    25084\n",
       "1    19300\n",
       "2     2165\n",
       "Name: count, dtype: int64"
      ]
     },
     "execution_count": 9,
     "metadata": {},
     "output_type": "execute_result"
    }
   ],
   "source": [
    "# mapでマッピングできる\n",
    "df[\"性齢\"].str[0].map(sex_mapping).value_counts()"
   ]
  },
  {
   "cell_type": "code",
   "execution_count": 26,
   "metadata": {},
   "outputs": [
    {
     "data": {
      "text/plain": [
       "0        2\n",
       "1        2\n",
       "2        2\n",
       "3        2\n",
       "4        2\n",
       "        ..\n",
       "46544    4\n",
       "46545    5\n",
       "46546    4\n",
       "46547    4\n",
       "46548    6\n",
       "Name: 性齢, Length: 46127, dtype: int64"
      ]
     },
     "execution_count": 26,
     "metadata": {},
     "output_type": "execute_result"
    }
   ],
   "source": [
    "# 次は年齢を取り出す\n",
    "df[\"性齢\"].str[1:].astype(int)"
   ]
  },
  {
   "cell_type": "code",
   "execution_count": null,
   "metadata": {},
   "outputs": [
    {
     "data": {
      "text/plain": [
       "0        56.0\n",
       "1        56.0\n",
       "2        56.0\n",
       "3        55.0\n",
       "4        55.0\n",
       "         ... \n",
       "46544    57.0\n",
       "46545    56.0\n",
       "46546    56.0\n",
       "46547    57.0\n",
       "46548    58.0\n",
       "Name: 斤量, Length: 46127, dtype: float64"
      ]
     },
     "execution_count": 27,
     "metadata": {},
     "output_type": "execute_result"
    }
   ],
   "source": [
    "# 斤量はもともと数値型なので大丈夫\n",
    "df[\"斤量\"]"
   ]
  },
  {
   "cell_type": "code",
   "execution_count": 32,
   "metadata": {},
   "outputs": [
    {
     "data": {
      "text/html": [
       "<div>\n",
       "<style scoped>\n",
       "    .dataframe tbody tr th:only-of-type {\n",
       "        vertical-align: middle;\n",
       "    }\n",
       "\n",
       "    .dataframe tbody tr th {\n",
       "        vertical-align: top;\n",
       "    }\n",
       "\n",
       "    .dataframe thead th {\n",
       "        text-align: right;\n",
       "    }\n",
       "</style>\n",
       "<table border=\"1\" class=\"dataframe\">\n",
       "  <thead>\n",
       "    <tr style=\"text-align: right;\">\n",
       "      <th></th>\n",
       "      <th>単勝</th>\n",
       "      <th>人気</th>\n",
       "      <th>馬体重</th>\n",
       "      <th>調教師</th>\n",
       "      <th>horse_id</th>\n",
       "      <th>jockey_id</th>\n",
       "      <th>trainer_id</th>\n",
       "      <th>owner_id</th>\n",
       "      <th>rank</th>\n",
       "    </tr>\n",
       "  </thead>\n",
       "  <tbody>\n",
       "    <tr>\n",
       "      <th>0</th>\n",
       "      <td>2.3</td>\n",
       "      <td>1.0</td>\n",
       "      <td>472(0)</td>\n",
       "      <td>[西] 大久保龍</td>\n",
       "      <td>2022105073</td>\n",
       "      <td>5366</td>\n",
       "      <td>1058</td>\n",
       "      <td>783033</td>\n",
       "      <td>1.0</td>\n",
       "    </tr>\n",
       "    <tr>\n",
       "      <th>1</th>\n",
       "      <td>3.9</td>\n",
       "      <td>2.0</td>\n",
       "      <td>470(0)</td>\n",
       "      <td>[西] 吉岡辰弥</td>\n",
       "      <td>2022105169</td>\n",
       "      <td>5473</td>\n",
       "      <td>1176</td>\n",
       "      <td>486800</td>\n",
       "      <td>2.0</td>\n",
       "    </tr>\n",
       "    <tr>\n",
       "      <th>2</th>\n",
       "      <td>5.3</td>\n",
       "      <td>3.0</td>\n",
       "      <td>494(0)</td>\n",
       "      <td>[西] 武幸四郎</td>\n",
       "      <td>2022105091</td>\n",
       "      <td>5339</td>\n",
       "      <td>1160</td>\n",
       "      <td>133803</td>\n",
       "      <td>3.0</td>\n",
       "    </tr>\n",
       "    <tr>\n",
       "      <th>3</th>\n",
       "      <td>30.2</td>\n",
       "      <td>7.0</td>\n",
       "      <td>408(0)</td>\n",
       "      <td>[西] 辻野泰之</td>\n",
       "      <td>2022104624</td>\n",
       "      <td>1157</td>\n",
       "      <td>1183</td>\n",
       "      <td>486800</td>\n",
       "      <td>4.0</td>\n",
       "    </tr>\n",
       "    <tr>\n",
       "      <th>4</th>\n",
       "      <td>107.7</td>\n",
       "      <td>9.0</td>\n",
       "      <td>478(0)</td>\n",
       "      <td>[西] 松永幹夫</td>\n",
       "      <td>2022102413</td>\n",
       "      <td>1182</td>\n",
       "      <td>1092</td>\n",
       "      <td>208008</td>\n",
       "      <td>5.0</td>\n",
       "    </tr>\n",
       "    <tr>\n",
       "      <th>...</th>\n",
       "      <td>...</td>\n",
       "      <td>...</td>\n",
       "      <td>...</td>\n",
       "      <td>...</td>\n",
       "      <td>...</td>\n",
       "      <td>...</td>\n",
       "      <td>...</td>\n",
       "      <td>...</td>\n",
       "      <td>...</td>\n",
       "    </tr>\n",
       "    <tr>\n",
       "      <th>46544</th>\n",
       "      <td>6.7</td>\n",
       "      <td>3.0</td>\n",
       "      <td>504(+10)</td>\n",
       "      <td>[東] 松山将樹</td>\n",
       "      <td>2020100847</td>\n",
       "      <td>1077</td>\n",
       "      <td>1100</td>\n",
       "      <td>661030</td>\n",
       "      <td>12.0</td>\n",
       "    </tr>\n",
       "    <tr>\n",
       "      <th>46545</th>\n",
       "      <td>14.1</td>\n",
       "      <td>7.0</td>\n",
       "      <td>524(+10)</td>\n",
       "      <td>[東] 和田正一</td>\n",
       "      <td>2019102479</td>\n",
       "      <td>1134</td>\n",
       "      <td>1114</td>\n",
       "      <td>251800</td>\n",
       "      <td>13.0</td>\n",
       "    </tr>\n",
       "    <tr>\n",
       "      <th>46546</th>\n",
       "      <td>63.2</td>\n",
       "      <td>14.0</td>\n",
       "      <td>468(+10)</td>\n",
       "      <td>[東] 粕谷昌央</td>\n",
       "      <td>2020104437</td>\n",
       "      <td>1184</td>\n",
       "      <td>1096</td>\n",
       "      <td>457002</td>\n",
       "      <td>14.0</td>\n",
       "    </tr>\n",
       "    <tr>\n",
       "      <th>46547</th>\n",
       "      <td>51.7</td>\n",
       "      <td>13.0</td>\n",
       "      <td>450(+16)</td>\n",
       "      <td>[東] 和田勇介</td>\n",
       "      <td>2020102767</td>\n",
       "      <td>1096</td>\n",
       "      <td>1165</td>\n",
       "      <td>634033</td>\n",
       "      <td>15.0</td>\n",
       "    </tr>\n",
       "    <tr>\n",
       "      <th>46548</th>\n",
       "      <td>27.7</td>\n",
       "      <td>9.0</td>\n",
       "      <td>478(+6)</td>\n",
       "      <td>[東] 田村康仁</td>\n",
       "      <td>2018105647</td>\n",
       "      <td>1122</td>\n",
       "      <td>1027</td>\n",
       "      <td>270006</td>\n",
       "      <td>16.0</td>\n",
       "    </tr>\n",
       "  </tbody>\n",
       "</table>\n",
       "<p>46127 rows × 9 columns</p>\n",
       "</div>"
      ],
      "text/plain": [
       "          単勝    人気       馬体重       調教師    horse_id  jockey_id  trainer_id  \\\n",
       "0        2.3   1.0    472(0)  [西] 大久保龍  2022105073       5366        1058   \n",
       "1        3.9   2.0    470(0)  [西] 吉岡辰弥  2022105169       5473        1176   \n",
       "2        5.3   3.0    494(0)  [西] 武幸四郎  2022105091       5339        1160   \n",
       "3       30.2   7.0    408(0)  [西] 辻野泰之  2022104624       1157        1183   \n",
       "4      107.7   9.0    478(0)  [西] 松永幹夫  2022102413       1182        1092   \n",
       "...      ...   ...       ...       ...         ...        ...         ...   \n",
       "46544    6.7   3.0  504(+10)  [東] 松山将樹  2020100847       1077        1100   \n",
       "46545   14.1   7.0  524(+10)  [東] 和田正一  2019102479       1134        1114   \n",
       "46546   63.2  14.0  468(+10)  [東] 粕谷昌央  2020104437       1184        1096   \n",
       "46547   51.7  13.0  450(+16)  [東] 和田勇介  2020102767       1096        1165   \n",
       "46548   27.7   9.0   478(+6)  [東] 田村康仁  2018105647       1122        1027   \n",
       "\n",
       "       owner_id  rank  \n",
       "0        783033   1.0  \n",
       "1        486800   2.0  \n",
       "2        133803   3.0  \n",
       "3        486800   4.0  \n",
       "4        208008   5.0  \n",
       "...         ...   ...  \n",
       "46544    661030  12.0  \n",
       "46545    251800  13.0  \n",
       "46546    457002  14.0  \n",
       "46547    634033  15.0  \n",
       "46548    270006  16.0  \n",
       "\n",
       "[46127 rows x 9 columns]"
      ]
     },
     "execution_count": 32,
     "metadata": {},
     "output_type": "execute_result"
    }
   ],
   "source": [
    "# 次は10〜20列目\n",
    "df.iloc[:, 10:20]"
   ]
  },
  {
   "cell_type": "code",
   "execution_count": 36,
   "metadata": {},
   "outputs": [
    {
     "data": {
      "text/plain": [
       "0          2.3\n",
       "1          3.9\n",
       "2          5.3\n",
       "3         30.2\n",
       "4        107.7\n",
       "         ...  \n",
       "46544      6.7\n",
       "46545     14.1\n",
       "46546     63.2\n",
       "46547     51.7\n",
       "46548     27.7\n",
       "Name: 単勝, Length: 46127, dtype: float64"
      ]
     },
     "execution_count": 36,
     "metadata": {},
     "output_type": "execute_result"
    }
   ],
   "source": [
    "df[\"単勝\"].astype(float)"
   ]
  },
  {
   "cell_type": "code",
   "execution_count": 38,
   "metadata": {},
   "outputs": [
    {
     "data": {
      "text/plain": [
       "0         1\n",
       "1         2\n",
       "2         3\n",
       "3         7\n",
       "4         9\n",
       "         ..\n",
       "46544     3\n",
       "46545     7\n",
       "46546    14\n",
       "46547    13\n",
       "46548     9\n",
       "Name: 人気, Length: 46127, dtype: int64"
      ]
     },
     "execution_count": 38,
     "metadata": {},
     "output_type": "execute_result"
    }
   ],
   "source": [
    "df[\"人気\"].astype(int)"
   ]
  },
  {
   "cell_type": "code",
   "execution_count": 43,
   "metadata": {},
   "outputs": [
    {
     "data": {
      "text/plain": [
       "0          472(0)\n",
       "1          470(0)\n",
       "2          494(0)\n",
       "3          408(0)\n",
       "4          478(0)\n",
       "           ...   \n",
       "46544    504(+10)\n",
       "46545    524(+10)\n",
       "46546    468(+10)\n",
       "46547    450(+16)\n",
       "46548     478(+6)\n",
       "Name: 馬体重, Length: 46127, dtype: object"
      ]
     },
     "execution_count": 43,
     "metadata": {},
     "output_type": "execute_result"
    }
   ],
   "source": [
    "df[\"馬体重\"]"
   ]
  },
  {
   "cell_type": "code",
   "execution_count": 44,
   "metadata": {},
   "outputs": [
    {
     "data": {
      "text/plain": [
       "0        472\n",
       "1        470\n",
       "2        494\n",
       "3        408\n",
       "4        478\n",
       "        ... \n",
       "46544    504\n",
       "46545    524\n",
       "46546    468\n",
       "46547    450\n",
       "46548    478\n",
       "Name: weight, Length: 46127, dtype: int64"
      ]
     },
     "execution_count": 44,
     "metadata": {},
     "output_type": "execute_result"
    }
   ],
   "source": [
    "# extract（正規表現）で体重部分を抜き出す。\n",
    "# \\d+で数字の繰り返し部分のみ取り出す\n",
    "df[\"weight\"] = df[\"馬体重\"].str.extract(r\"(\\d+)\").astype(int)\n",
    "df[\"weight\"]"
   ]
  },
  {
   "cell_type": "code",
   "execution_count": 48,
   "metadata": {},
   "outputs": [
    {
     "data": {
      "text/plain": [
       "0         0\n",
       "1         0\n",
       "2         0\n",
       "3         0\n",
       "4         0\n",
       "         ..\n",
       "46544    10\n",
       "46545    10\n",
       "46546    10\n",
       "46547    16\n",
       "46548     6\n",
       "Name: weight_diff, Length: 46127, dtype: int64"
      ]
     },
     "execution_count": 48,
     "metadata": {},
     "output_type": "execute_result"
    }
   ],
   "source": [
    "# 体重の増減を抜き出す\n",
    "# ()の前に\\でエスケープさせて、取り出したい文字列は「(.+)」としている\n",
    "# .+で任意の文字列なので、()で囲われた任意の文字列が対象となる\n",
    "df[\"weight_diff\"] = df[\"馬体重\"].str.extract(r\"\\((.+)\\)\").astype(int)\n",
    "df[\"weight_diff\"]"
   ]
  },
  {
   "cell_type": "markdown",
   "metadata": {},
   "source": [
    "ここまでで、使いたい情報を加工できたので、preprocessing.pyに関数化する"
   ]
  },
  {
   "cell_type": "code",
   "execution_count": 17,
   "metadata": {},
   "outputs": [
    {
     "data": {
      "text/plain": [
       "0         2.0\n",
       "1         1.0\n",
       "2         1.0\n",
       "3         2.0\n",
       "4         1.0\n",
       "         ... \n",
       "146439    1.0\n",
       "146440    2.0\n",
       "146441    1.0\n",
       "146442    2.0\n",
       "146443    2.0\n",
       "Name: 天気, Length: 146444, dtype: float64"
      ]
     },
     "execution_count": 17,
     "metadata": {},
     "output_type": "execute_result"
    }
   ],
   "source": [
    "df = pd.read_csv(RAWDF_DIR / \"horse_results.csv\", sep=\"\\t\")\n",
    "\n",
    "# horse_results中の「天気」列や「馬場」列などは、数値データではなく\n",
    "# 「その行が特定のカテゴリに属する」ことを表す「カテゴリ変数」\n",
    "# カテゴリ変数の処理によく「ダミー変数化」が利用されるらしいが、デメリットがあるため\n",
    "# ラベルエンコーディングを行う（各カテゴリに対して一意の整数値を割り当てること）\n",
    "weather_mapping = {'小雨': 0, '晴': 1, '曇': 2, '雨': 3, '小雪': 4, '雪': 5}\n",
    "df[\"天気\"].map(weather_mapping)"
   ]
  },
  {
   "cell_type": "code",
   "execution_count": null,
   "metadata": {},
   "outputs": [
    {
     "data": {
      "text/plain": [
       "0           3歳未勝利\n",
       "1           3歳未勝利\n",
       "2           2歳未勝利\n",
       "3            2歳新馬\n",
       "4         凧あげ賞(B)\n",
       "           ...   \n",
       "146439       2歳新馬\n",
       "146440     3歳ー15組\n",
       "146441     3歳ー12組\n",
       "146442      3歳未勝利\n",
       "146443       2歳新馬\n",
       "Name: レース名, Length: 146444, dtype: object"
      ]
     },
     "execution_count": 18,
     "metadata": {},
     "output_type": "execute_result"
    }
   ],
   "source": [
    "# 競馬予想AI作成の肝は「相対評価をどうするか」にある\n",
    "# 着順を相対的に判断するため、一緒に走った馬がどの程度強かったかが\n",
    "# 重要な情報になる\n",
    "# レースを階級で判断してみる\n",
    "df[\"レース名\"]"
   ]
  },
  {
   "cell_type": "code",
   "execution_count": 19,
   "metadata": {},
   "outputs": [],
   "source": [
    "import json\n",
    "\n",
    "MAPPING_DIR = COMMON_DATA_DIR / \"mapping\"\n",
    "\n",
    "with open(MAPPING_DIR / \"race_class.json\", \"r\") as f:\n",
    "    race_class_mapping = json.load(f)"
   ]
  },
  {
   "cell_type": "code",
   "execution_count": 22,
   "metadata": {},
   "outputs": [
    {
     "data": {
      "text/plain": [
       "'新馬|未勝利|1勝クラス|2勝クラス|3勝クラス|オープン|G3|G2|G1|特別|500万下|1000万下|1600万下|OP'"
      ]
     },
     "execution_count": 22,
     "metadata": {},
     "output_type": "execute_result"
    }
   ],
   "source": [
    "# レース名には\"３歳以上１勝クラス\"のように、他の文字列がついている\n",
    "# まずは「レース名」列からrace_class_mappingに含まれる文字列のみ取り出す\n",
    "regex_race_class = \"|\".join(race_class_mapping)\n",
    "regex_race_class"
   ]
  },
  {
   "cell_type": "code",
   "execution_count": null,
   "metadata": {},
   "outputs": [
    {
     "data": {
      "text/plain": [
       "0         未勝利\n",
       "1         未勝利\n",
       "2         未勝利\n",
       "3          新馬\n",
       "4         NaN\n",
       "         ... \n",
       "146439     新馬\n",
       "146440    NaN\n",
       "146441    NaN\n",
       "146442    未勝利\n",
       "146443     新馬\n",
       "Name: race_class, Length: 146444, dtype: object"
      ]
     },
     "execution_count": 24,
     "metadata": {},
     "output_type": "execute_result"
    }
   ],
   "source": [
    "# .str.extracr()を行うことで、正規表現で「\"新馬\"または\"未勝利\"または..を取り出す」という処理になる\n",
    "df[\"race_class\"] = df[\"レース名\"].str.extract(rf\"({regex_race_class})\")\n",
    "df[\"race_class\"]"
   ]
  },
  {
   "cell_type": "markdown",
   "metadata": {},
   "source": [
    "## 馬の過去成績集計"
   ]
  },
  {
   "cell_type": "markdown",
   "metadata": {},
   "source": [
    "まずは「馬の過去成績テーブル」から直近nレースの着順や賞金の平均を集計し<br>\n",
    "「レース結果テーブル」に紐づける<br>\n",
    "<br>\n",
    "単純にするなら「レース結果テーブル」と「馬の過去成績テーブル」を<br>\n",
    "horse_idで紐づけ、新しい成績からnレース分集計すれば良いと思う。<br>\n",
    "ただし、上の紐付け方には問題がある。<br>\n",
    "馬の過去成績テーブルは「レース結果テーブルの出走日以前の成績」に絞らなければならない。<br>\n",
    "<br>\n",
    "例えば、出走日が2024年1月1日のレース結果に紐付ける場合<br>\n",
    "それより過去のデータに絞って「直近nレースの着順や賞金の平均」を集計する必要あり<br>\n",
    "なぜなら、2024年の全レース結果を取得してきているので「それより後の馬の過去成績」が<br>\n",
    "取得できてしまい、本来は2024年1月1日時点では存在しないデータとなる。<br>\n",
    "<br>\n",
    "本来取得できないデータを予測材料に使ってしまうことを、機械学習の用語で「リーク」という。<br>\n",
    "正解がわかっている状態なので予測にならず学習にもならない<br>\n",
    "やけに精度が高い場合はリークを疑う"
   ]
  },
  {
   "cell_type": "code",
   "execution_count": null,
   "metadata": {},
   "outputs": [],
   "source": [
    "# 出走日でデータを抽出したいため、出走日を取得する\n",
    "# keiba.comのレース情報は非構造化データになっているため\n",
    "# 工夫してDataFrameとして保存する\n"
   ]
  },
  {
   "cell_type": "markdown",
   "metadata": {},
   "source": [
    "## 機械学習モデルの作成"
   ]
  },
  {
   "cell_type": "code",
   "execution_count": 1,
   "metadata": {},
   "outputs": [],
   "source": [
    "# まずは作成した特徴量を読み込む\n",
    "import pandas as pd\n",
    "from pathlib import Path\n",
    "\n",
    "INPUT_DIR = Path(\"..\", \"data\", \"02_features\")\n",
    "features = pd.read_csv(INPUT_DIR / \"features.csv\", sep=\"\\t\")"
   ]
  },
  {
   "cell_type": "code",
   "execution_count": 2,
   "metadata": {},
   "outputs": [],
   "source": [
    "# 機械学習では何を「学習」させるのか、簡潔に言うと「目的変数と説明変数の対応関係」を学習させる\n",
    "# 目的変数：rank列（を、「1着かどうか」の0or1データにしたもの）\n",
    "# 説明変数：以下のfeature_cols列\n",
    "feature_cols = [\n",
    "    'horse_id',\n",
    "    'jockey_id',\n",
    "    'trainer_id',\n",
    "    'umaban',\n",
    "    'wakuban',\n",
    "    'tansho_odds',\n",
    "    'popularity',\n",
    "    'impost',\n",
    "    'sex',\n",
    "    'age',\n",
    "    'weight',\n",
    "    'weight_diff',\n",
    "    'race_type',\n",
    "    'around',\n",
    "    'course_len',\n",
    "    'weather',\n",
    "    'ground_state',\n",
    "    'race_class',\n",
    "    'place',\n",
    "    'rank_3races',\n",
    "    'prize_3races',\n",
    "    'rank_5races',\n",
    "    'prize_5races',\n",
    "    'rank_10races',\n",
    "    'prize_10races',\n",
    "    'rank_1000races',\n",
    "    'prize_1000races'\n",
    "]"
   ]
  },
  {
   "cell_type": "code",
   "execution_count": 3,
   "metadata": {},
   "outputs": [],
   "source": [
    "# この対応関係を学習させることで、「説明変数をインプットすると、目的変数を予測する」\n",
    "# 機械学習モデルが完成する仕組み。\n",
    "# 今回は単勝予測モデルを作成するので、「1着なら1,そうでないなら0」というデータをもった\n",
    "# target列を作成する。\n",
    "features[\"target\"] = (features[\"rank\"] == 1).astype(int)"
   ]
  },
  {
   "cell_type": "code",
   "execution_count": 4,
   "metadata": {},
   "outputs": [],
   "source": [
    "# 学習させる際は、データを学習データと検証（テスト）データに分け、\n",
    "# 学習データのみを学習させる。\n",
    "# こうすることで「未知のデータがやってきた時の精度がどれくらいなのか」を\n",
    "# 検証データで検証できる。\n",
    "# また、この時必ず学習データは検証データより時系列的に過去のデータを使うこともポイント。\n",
    "train_df = features.query(\"date < '2024-10-01'\")\n",
    "test_df = features.query(\"date >= '2024-10-01'\")"
   ]
  },
  {
   "cell_type": "code",
   "execution_count": null,
   "metadata": {},
   "outputs": [],
   "source": [
    "#pip install lightgbm"
   ]
  },
  {
   "cell_type": "code",
   "execution_count": 5,
   "metadata": {},
   "outputs": [
    {
     "name": "stdout",
     "output_type": "stream",
     "text": [
      "[LightGBM] [Info] Number of positive: 2593, number of negative: 32457\n",
      "[LightGBM] [Info] Auto-choosing row-wise multi-threading, the overhead of testing was 0.000612 seconds.\n",
      "You can set `force_row_wise=true` to remove the overhead.\n",
      "And if memory is not enough, you can set `force_col_wise=true`.\n",
      "[LightGBM] [Info] Total Bins 2921\n",
      "[LightGBM] [Info] Number of data points in the train set: 35050, number of used features: 27\n",
      "[LightGBM] [Info] [binary:BoostFromScore]: pavg=0.073980 -> initscore=-2.527101\n",
      "[LightGBM] [Info] Start training from score -2.527101\n",
      "[1]\ttraining's binary_logloss: 0.247522\tvalid_1's binary_logloss: 0.248105\n",
      "[2]\ttraining's binary_logloss: 0.237734\tvalid_1's binary_logloss: 0.239944\n",
      "[3]\ttraining's binary_logloss: 0.23037\tvalid_1's binary_logloss: 0.233582\n",
      "[4]\ttraining's binary_logloss: 0.2245\tvalid_1's binary_logloss: 0.228711\n",
      "[5]\ttraining's binary_logloss: 0.219672\tvalid_1's binary_logloss: 0.224621\n",
      "[6]\ttraining's binary_logloss: 0.215554\tvalid_1's binary_logloss: 0.221408\n",
      "[7]\ttraining's binary_logloss: 0.212138\tvalid_1's binary_logloss: 0.218727\n",
      "[8]\ttraining's binary_logloss: 0.209228\tvalid_1's binary_logloss: 0.216494\n",
      "[9]\ttraining's binary_logloss: 0.206759\tvalid_1's binary_logloss: 0.214666\n",
      "[10]\ttraining's binary_logloss: 0.204564\tvalid_1's binary_logloss: 0.213146\n",
      "[11]\ttraining's binary_logloss: 0.20254\tvalid_1's binary_logloss: 0.211835\n",
      "[12]\ttraining's binary_logloss: 0.200804\tvalid_1's binary_logloss: 0.210689\n",
      "[13]\ttraining's binary_logloss: 0.199313\tvalid_1's binary_logloss: 0.209678\n",
      "[14]\ttraining's binary_logloss: 0.197735\tvalid_1's binary_logloss: 0.208928\n",
      "[15]\ttraining's binary_logloss: 0.196377\tvalid_1's binary_logloss: 0.208292\n",
      "[16]\ttraining's binary_logloss: 0.195143\tvalid_1's binary_logloss: 0.207653\n",
      "[17]\ttraining's binary_logloss: 0.193963\tvalid_1's binary_logloss: 0.20717\n",
      "[18]\ttraining's binary_logloss: 0.192898\tvalid_1's binary_logloss: 0.206733\n",
      "[19]\ttraining's binary_logloss: 0.191965\tvalid_1's binary_logloss: 0.206418\n",
      "[20]\ttraining's binary_logloss: 0.190876\tvalid_1's binary_logloss: 0.206031\n",
      "[21]\ttraining's binary_logloss: 0.189796\tvalid_1's binary_logloss: 0.205881\n",
      "[22]\ttraining's binary_logloss: 0.189108\tvalid_1's binary_logloss: 0.205741\n",
      "[23]\ttraining's binary_logloss: 0.188235\tvalid_1's binary_logloss: 0.205583\n",
      "[24]\ttraining's binary_logloss: 0.187215\tvalid_1's binary_logloss: 0.205441\n",
      "[25]\ttraining's binary_logloss: 0.186449\tvalid_1's binary_logloss: 0.205379\n",
      "[26]\ttraining's binary_logloss: 0.185483\tvalid_1's binary_logloss: 0.205397\n",
      "[27]\ttraining's binary_logloss: 0.184726\tvalid_1's binary_logloss: 0.205314\n",
      "[28]\ttraining's binary_logloss: 0.183637\tvalid_1's binary_logloss: 0.205276\n",
      "[29]\ttraining's binary_logloss: 0.182855\tvalid_1's binary_logloss: 0.205237\n",
      "[30]\ttraining's binary_logloss: 0.182217\tvalid_1's binary_logloss: 0.205091\n",
      "[31]\ttraining's binary_logloss: 0.181491\tvalid_1's binary_logloss: 0.205029\n",
      "[32]\ttraining's binary_logloss: 0.180869\tvalid_1's binary_logloss: 0.205016\n",
      "[33]\ttraining's binary_logloss: 0.180249\tvalid_1's binary_logloss: 0.204757\n",
      "[34]\ttraining's binary_logloss: 0.179545\tvalid_1's binary_logloss: 0.204868\n",
      "[35]\ttraining's binary_logloss: 0.17891\tvalid_1's binary_logloss: 0.204901\n",
      "[36]\ttraining's binary_logloss: 0.178208\tvalid_1's binary_logloss: 0.204918\n",
      "[37]\ttraining's binary_logloss: 0.177677\tvalid_1's binary_logloss: 0.204899\n",
      "[38]\ttraining's binary_logloss: 0.177137\tvalid_1's binary_logloss: 0.204808\n",
      "[39]\ttraining's binary_logloss: 0.176337\tvalid_1's binary_logloss: 0.204858\n",
      "[40]\ttraining's binary_logloss: 0.175635\tvalid_1's binary_logloss: 0.204921\n",
      "[41]\ttraining's binary_logloss: 0.175124\tvalid_1's binary_logloss: 0.204993\n",
      "[42]\ttraining's binary_logloss: 0.17449\tvalid_1's binary_logloss: 0.205001\n",
      "[43]\ttraining's binary_logloss: 0.174053\tvalid_1's binary_logloss: 0.204934\n",
      "[44]\ttraining's binary_logloss: 0.173516\tvalid_1's binary_logloss: 0.205033\n",
      "[45]\ttraining's binary_logloss: 0.172962\tvalid_1's binary_logloss: 0.205039\n",
      "[46]\ttraining's binary_logloss: 0.17245\tvalid_1's binary_logloss: 0.205053\n",
      "[47]\ttraining's binary_logloss: 0.172026\tvalid_1's binary_logloss: 0.205204\n",
      "[48]\ttraining's binary_logloss: 0.171616\tvalid_1's binary_logloss: 0.205209\n",
      "[49]\ttraining's binary_logloss: 0.171228\tvalid_1's binary_logloss: 0.205141\n",
      "[50]\ttraining's binary_logloss: 0.170728\tvalid_1's binary_logloss: 0.205169\n",
      "[51]\ttraining's binary_logloss: 0.170231\tvalid_1's binary_logloss: 0.205246\n",
      "[52]\ttraining's binary_logloss: 0.16977\tvalid_1's binary_logloss: 0.205166\n",
      "[53]\ttraining's binary_logloss: 0.169293\tvalid_1's binary_logloss: 0.205272\n",
      "[54]\ttraining's binary_logloss: 0.168857\tvalid_1's binary_logloss: 0.205343\n",
      "[55]\ttraining's binary_logloss: 0.168327\tvalid_1's binary_logloss: 0.205413\n",
      "[56]\ttraining's binary_logloss: 0.167929\tvalid_1's binary_logloss: 0.205494\n",
      "[57]\ttraining's binary_logloss: 0.167493\tvalid_1's binary_logloss: 0.205565\n",
      "[58]\ttraining's binary_logloss: 0.167043\tvalid_1's binary_logloss: 0.205663\n",
      "[59]\ttraining's binary_logloss: 0.166528\tvalid_1's binary_logloss: 0.205733\n",
      "[60]\ttraining's binary_logloss: 0.165938\tvalid_1's binary_logloss: 0.205798\n",
      "[61]\ttraining's binary_logloss: 0.165568\tvalid_1's binary_logloss: 0.205872\n",
      "[62]\ttraining's binary_logloss: 0.165139\tvalid_1's binary_logloss: 0.20596\n",
      "[63]\ttraining's binary_logloss: 0.164683\tvalid_1's binary_logloss: 0.206024\n",
      "[64]\ttraining's binary_logloss: 0.164306\tvalid_1's binary_logloss: 0.205966\n",
      "[65]\ttraining's binary_logloss: 0.163856\tvalid_1's binary_logloss: 0.206035\n",
      "[66]\ttraining's binary_logloss: 0.163473\tvalid_1's binary_logloss: 0.206099\n",
      "[67]\ttraining's binary_logloss: 0.163048\tvalid_1's binary_logloss: 0.206137\n",
      "[68]\ttraining's binary_logloss: 0.162652\tvalid_1's binary_logloss: 0.206231\n",
      "[69]\ttraining's binary_logloss: 0.16229\tvalid_1's binary_logloss: 0.206172\n",
      "[70]\ttraining's binary_logloss: 0.161869\tvalid_1's binary_logloss: 0.206242\n",
      "[71]\ttraining's binary_logloss: 0.161495\tvalid_1's binary_logloss: 0.206272\n",
      "[72]\ttraining's binary_logloss: 0.16104\tvalid_1's binary_logloss: 0.206367\n",
      "[73]\ttraining's binary_logloss: 0.160723\tvalid_1's binary_logloss: 0.206342\n",
      "[74]\ttraining's binary_logloss: 0.16012\tvalid_1's binary_logloss: 0.206224\n",
      "[75]\ttraining's binary_logloss: 0.159847\tvalid_1's binary_logloss: 0.206268\n",
      "[76]\ttraining's binary_logloss: 0.159304\tvalid_1's binary_logloss: 0.206301\n",
      "[77]\ttraining's binary_logloss: 0.158853\tvalid_1's binary_logloss: 0.20622\n",
      "[78]\ttraining's binary_logloss: 0.158313\tvalid_1's binary_logloss: 0.206308\n",
      "[79]\ttraining's binary_logloss: 0.15799\tvalid_1's binary_logloss: 0.206343\n",
      "[80]\ttraining's binary_logloss: 0.157656\tvalid_1's binary_logloss: 0.206455\n",
      "[81]\ttraining's binary_logloss: 0.157281\tvalid_1's binary_logloss: 0.206448\n",
      "[82]\ttraining's binary_logloss: 0.156568\tvalid_1's binary_logloss: 0.206478\n",
      "[83]\ttraining's binary_logloss: 0.156228\tvalid_1's binary_logloss: 0.206533\n",
      "[84]\ttraining's binary_logloss: 0.155959\tvalid_1's binary_logloss: 0.206426\n",
      "[85]\ttraining's binary_logloss: 0.155649\tvalid_1's binary_logloss: 0.2064\n",
      "[86]\ttraining's binary_logloss: 0.15516\tvalid_1's binary_logloss: 0.206504\n",
      "[87]\ttraining's binary_logloss: 0.154746\tvalid_1's binary_logloss: 0.206592\n",
      "[88]\ttraining's binary_logloss: 0.154358\tvalid_1's binary_logloss: 0.206616\n",
      "[89]\ttraining's binary_logloss: 0.154002\tvalid_1's binary_logloss: 0.206647\n",
      "[90]\ttraining's binary_logloss: 0.153473\tvalid_1's binary_logloss: 0.2067\n",
      "[91]\ttraining's binary_logloss: 0.153194\tvalid_1's binary_logloss: 0.206737\n",
      "[92]\ttraining's binary_logloss: 0.152818\tvalid_1's binary_logloss: 0.206835\n",
      "[93]\ttraining's binary_logloss: 0.152496\tvalid_1's binary_logloss: 0.206855\n",
      "[94]\ttraining's binary_logloss: 0.152238\tvalid_1's binary_logloss: 0.206917\n",
      "[95]\ttraining's binary_logloss: 0.151777\tvalid_1's binary_logloss: 0.206929\n",
      "[96]\ttraining's binary_logloss: 0.151439\tvalid_1's binary_logloss: 0.20692\n",
      "[97]\ttraining's binary_logloss: 0.150926\tvalid_1's binary_logloss: 0.206957\n",
      "[98]\ttraining's binary_logloss: 0.150521\tvalid_1's binary_logloss: 0.206982\n",
      "[99]\ttraining's binary_logloss: 0.150206\tvalid_1's binary_logloss: 0.207049\n",
      "[100]\ttraining's binary_logloss: 0.149886\tvalid_1's binary_logloss: 0.207065\n"
     ]
    }
   ],
   "source": [
    "# データが分割できたら、LightGBMに学習させる\n",
    "import lightgbm as lgb\n",
    "\n",
    "# データセットの作成\n",
    "lgb_train = lgb.Dataset(\n",
    "    train_df[feature_cols], train_df[\"target\"]\n",
    ")\n",
    "lgb_test = lgb.Dataset(\n",
    "    test_df[feature_cols], test_df[\"target\"]\n",
    ")\n",
    "# パラメータの設定\n",
    "params = {\n",
    "    \"objective\": \"binary\",  # 二値分類\n",
    "    \"metric\": \"binary_logloss\", # 予測誤差\n",
    "    \"random_state\": 100,    # 実行ごとに同じ結果を得るための設定\n",
    "}\n",
    "# 学習の実行\n",
    "model = lgb.train(\n",
    "    params=params,\n",
    "    train_set=lgb_train,\n",
    "    valid_sets=[lgb_train, lgb_test],\n",
    "    callbacks=[lgb.log_evaluation()],\n",
    ")"
   ]
  },
  {
   "cell_type": "code",
   "execution_count": 6,
   "metadata": {},
   "outputs": [
    {
     "data": {
      "text/plain": [
       "array([0.00854581, 0.00655834, 0.00450167, ..., 0.00592743, 0.07620167,\n",
       "       0.09146778])"
      ]
     },
     "execution_count": 6,
     "metadata": {},
     "output_type": "execute_result"
    }
   ],
   "source": [
    "# テストデータに対して予測をしてみる\n",
    "model.predict(test_df[feature_cols])"
   ]
  },
  {
   "cell_type": "code",
   "execution_count": 7,
   "metadata": {},
   "outputs": [],
   "source": [
    "# 上記を使って、検証用DataFrameを作成する\n",
    "evaluation_df = test_df[\n",
    "    [\n",
    "        \"race_id\",\n",
    "        \"horse_id\",\n",
    "        \"target\",\n",
    "        \"rank\",\n",
    "        \"tansho_odds\",\n",
    "        \"popularity\",\n",
    "    ]\n",
    "].copy()\n",
    "evaluation_df[\"pred\"] = model.predict(test_df[feature_cols])"
   ]
  },
  {
   "cell_type": "code",
   "execution_count": 8,
   "metadata": {},
   "outputs": [
    {
     "data": {
      "text/html": [
       "<div>\n",
       "<style scoped>\n",
       "    .dataframe tbody tr th:only-of-type {\n",
       "        vertical-align: middle;\n",
       "    }\n",
       "\n",
       "    .dataframe tbody tr th {\n",
       "        vertical-align: top;\n",
       "    }\n",
       "\n",
       "    .dataframe thead th {\n",
       "        text-align: right;\n",
       "    }\n",
       "</style>\n",
       "<table border=\"1\" class=\"dataframe\">\n",
       "  <thead>\n",
       "    <tr style=\"text-align: right;\">\n",
       "      <th></th>\n",
       "      <th>race_id</th>\n",
       "      <th>horse_id</th>\n",
       "      <th>target</th>\n",
       "      <th>rank</th>\n",
       "      <th>tansho_odds</th>\n",
       "      <th>popularity</th>\n",
       "      <th>pred</th>\n",
       "    </tr>\n",
       "  </thead>\n",
       "  <tbody>\n",
       "    <tr>\n",
       "      <th>6149</th>\n",
       "      <td>202403030101</td>\n",
       "      <td>2022104140</td>\n",
       "      <td>0</td>\n",
       "      <td>9</td>\n",
       "      <td>47.2</td>\n",
       "      <td>9</td>\n",
       "      <td>0.008546</td>\n",
       "    </tr>\n",
       "    <tr>\n",
       "      <th>6150</th>\n",
       "      <td>202403030101</td>\n",
       "      <td>2022101893</td>\n",
       "      <td>0</td>\n",
       "      <td>15</td>\n",
       "      <td>167.6</td>\n",
       "      <td>12</td>\n",
       "      <td>0.006558</td>\n",
       "    </tr>\n",
       "    <tr>\n",
       "      <th>6151</th>\n",
       "      <td>202403030101</td>\n",
       "      <td>2022104708</td>\n",
       "      <td>0</td>\n",
       "      <td>12</td>\n",
       "      <td>168.6</td>\n",
       "      <td>13</td>\n",
       "      <td>0.004502</td>\n",
       "    </tr>\n",
       "    <tr>\n",
       "      <th>6152</th>\n",
       "      <td>202403030101</td>\n",
       "      <td>2022106567</td>\n",
       "      <td>0</td>\n",
       "      <td>6</td>\n",
       "      <td>9.2</td>\n",
       "      <td>5</td>\n",
       "      <td>0.073428</td>\n",
       "    </tr>\n",
       "    <tr>\n",
       "      <th>6153</th>\n",
       "      <td>202403030101</td>\n",
       "      <td>2022103703</td>\n",
       "      <td>0</td>\n",
       "      <td>2</td>\n",
       "      <td>6.0</td>\n",
       "      <td>2</td>\n",
       "      <td>0.160950</td>\n",
       "    </tr>\n",
       "    <tr>\n",
       "      <th>...</th>\n",
       "      <td>...</td>\n",
       "      <td>...</td>\n",
       "      <td>...</td>\n",
       "      <td>...</td>\n",
       "      <td>...</td>\n",
       "      <td>...</td>\n",
       "      <td>...</td>\n",
       "    </tr>\n",
       "    <tr>\n",
       "      <th>39760</th>\n",
       "      <td>202408070912</td>\n",
       "      <td>2021100130</td>\n",
       "      <td>1</td>\n",
       "      <td>1</td>\n",
       "      <td>1.9</td>\n",
       "      <td>1</td>\n",
       "      <td>0.377480</td>\n",
       "    </tr>\n",
       "    <tr>\n",
       "      <th>39761</th>\n",
       "      <td>202408070912</td>\n",
       "      <td>2020110133</td>\n",
       "      <td>0</td>\n",
       "      <td>11</td>\n",
       "      <td>43.1</td>\n",
       "      <td>10</td>\n",
       "      <td>0.016322</td>\n",
       "    </tr>\n",
       "    <tr>\n",
       "      <th>39762</th>\n",
       "      <td>202408070912</td>\n",
       "      <td>2019102786</td>\n",
       "      <td>0</td>\n",
       "      <td>3</td>\n",
       "      <td>105.4</td>\n",
       "      <td>14</td>\n",
       "      <td>0.005927</td>\n",
       "    </tr>\n",
       "    <tr>\n",
       "      <th>39763</th>\n",
       "      <td>202408070912</td>\n",
       "      <td>2021102888</td>\n",
       "      <td>0</td>\n",
       "      <td>7</td>\n",
       "      <td>10.6</td>\n",
       "      <td>5</td>\n",
       "      <td>0.076202</td>\n",
       "    </tr>\n",
       "    <tr>\n",
       "      <th>39764</th>\n",
       "      <td>202408070912</td>\n",
       "      <td>2021101598</td>\n",
       "      <td>0</td>\n",
       "      <td>4</td>\n",
       "      <td>5.4</td>\n",
       "      <td>2</td>\n",
       "      <td>0.091468</td>\n",
       "    </tr>\n",
       "  </tbody>\n",
       "</table>\n",
       "<p>11077 rows × 7 columns</p>\n",
       "</div>"
      ],
      "text/plain": [
       "            race_id    horse_id  target  rank  tansho_odds  popularity  \\\n",
       "6149   202403030101  2022104140       0     9         47.2           9   \n",
       "6150   202403030101  2022101893       0    15        167.6          12   \n",
       "6151   202403030101  2022104708       0    12        168.6          13   \n",
       "6152   202403030101  2022106567       0     6          9.2           5   \n",
       "6153   202403030101  2022103703       0     2          6.0           2   \n",
       "...             ...         ...     ...   ...          ...         ...   \n",
       "39760  202408070912  2021100130       1     1          1.9           1   \n",
       "39761  202408070912  2020110133       0    11         43.1          10   \n",
       "39762  202408070912  2019102786       0     3        105.4          14   \n",
       "39763  202408070912  2021102888       0     7         10.6           5   \n",
       "39764  202408070912  2021101598       0     4          5.4           2   \n",
       "\n",
       "           pred  \n",
       "6149   0.008546  \n",
       "6150   0.006558  \n",
       "6151   0.004502  \n",
       "6152   0.073428  \n",
       "6153   0.160950  \n",
       "...         ...  \n",
       "39760  0.377480  \n",
       "39761  0.016322  \n",
       "39762  0.005927  \n",
       "39763  0.076202  \n",
       "39764  0.091468  \n",
       "\n",
       "[11077 rows x 7 columns]"
      ]
     },
     "execution_count": 8,
     "metadata": {},
     "output_type": "execute_result"
    }
   ],
   "source": [
    "evaluation_df"
   ]
  },
  {
   "cell_type": "code",
   "execution_count": 9,
   "metadata": {},
   "outputs": [],
   "source": [
    "# 各レース、predの値が一番高いものに単勝馬券で賭ける場合を考える\n",
    "bet_df = (\n",
    "    evaluation_df\n",
    "    .sort_values(\"pred\", ascending=False)\n",
    "    .groupby(\"race_id\")\n",
    "    .head(1)\n",
    ")"
   ]
  },
  {
   "cell_type": "code",
   "execution_count": 10,
   "metadata": {},
   "outputs": [
    {
     "data": {
      "text/html": [
       "<div>\n",
       "<style scoped>\n",
       "    .dataframe tbody tr th:only-of-type {\n",
       "        vertical-align: middle;\n",
       "    }\n",
       "\n",
       "    .dataframe tbody tr th {\n",
       "        vertical-align: top;\n",
       "    }\n",
       "\n",
       "    .dataframe thead th {\n",
       "        text-align: right;\n",
       "    }\n",
       "</style>\n",
       "<table border=\"1\" class=\"dataframe\">\n",
       "  <thead>\n",
       "    <tr style=\"text-align: right;\">\n",
       "      <th></th>\n",
       "      <th>race_id</th>\n",
       "      <th>horse_id</th>\n",
       "      <th>target</th>\n",
       "      <th>rank</th>\n",
       "      <th>tansho_odds</th>\n",
       "      <th>popularity</th>\n",
       "      <th>pred</th>\n",
       "    </tr>\n",
       "  </thead>\n",
       "  <tbody>\n",
       "    <tr>\n",
       "      <th>36828</th>\n",
       "      <td>202408050609</td>\n",
       "      <td>2021106449</td>\n",
       "      <td>1</td>\n",
       "      <td>1</td>\n",
       "      <td>1.4</td>\n",
       "      <td>1</td>\n",
       "      <td>0.896121</td>\n",
       "    </tr>\n",
       "    <tr>\n",
       "      <th>17344</th>\n",
       "      <td>202405040709</td>\n",
       "      <td>2021104844</td>\n",
       "      <td>1</td>\n",
       "      <td>1</td>\n",
       "      <td>1.4</td>\n",
       "      <td>1</td>\n",
       "      <td>0.848708</td>\n",
       "    </tr>\n",
       "    <tr>\n",
       "      <th>17292</th>\n",
       "      <td>202405040705</td>\n",
       "      <td>2022104635</td>\n",
       "      <td>0</td>\n",
       "      <td>4</td>\n",
       "      <td>1.4</td>\n",
       "      <td>1</td>\n",
       "      <td>0.825920</td>\n",
       "    </tr>\n",
       "    <tr>\n",
       "      <th>11053</th>\n",
       "      <td>202404040503</td>\n",
       "      <td>2022102819</td>\n",
       "      <td>1</td>\n",
       "      <td>1</td>\n",
       "      <td>1.3</td>\n",
       "      <td>1</td>\n",
       "      <td>0.822293</td>\n",
       "    </tr>\n",
       "    <tr>\n",
       "      <th>30277</th>\n",
       "      <td>202407040605</td>\n",
       "      <td>2022104732</td>\n",
       "      <td>0</td>\n",
       "      <td>2</td>\n",
       "      <td>1.3</td>\n",
       "      <td>1</td>\n",
       "      <td>0.812081</td>\n",
       "    </tr>\n",
       "    <tr>\n",
       "      <th>...</th>\n",
       "      <td>...</td>\n",
       "      <td>...</td>\n",
       "      <td>...</td>\n",
       "      <td>...</td>\n",
       "      <td>...</td>\n",
       "      <td>...</td>\n",
       "      <td>...</td>\n",
       "    </tr>\n",
       "    <tr>\n",
       "      <th>11269</th>\n",
       "      <td>202404040610</td>\n",
       "      <td>2021106307</td>\n",
       "      <td>0</td>\n",
       "      <td>13</td>\n",
       "      <td>4.1</td>\n",
       "      <td>1</td>\n",
       "      <td>0.137193</td>\n",
       "    </tr>\n",
       "    <tr>\n",
       "      <th>18122</th>\n",
       "      <td>202405050411</td>\n",
       "      <td>2020103063</td>\n",
       "      <td>0</td>\n",
       "      <td>3</td>\n",
       "      <td>7.3</td>\n",
       "      <td>4</td>\n",
       "      <td>0.132217</td>\n",
       "    </tr>\n",
       "    <tr>\n",
       "      <th>38536</th>\n",
       "      <td>202408070207</td>\n",
       "      <td>2021102754</td>\n",
       "      <td>0</td>\n",
       "      <td>5</td>\n",
       "      <td>3.9</td>\n",
       "      <td>1</td>\n",
       "      <td>0.127382</td>\n",
       "    </tr>\n",
       "    <tr>\n",
       "      <th>6384</th>\n",
       "      <td>202403030207</td>\n",
       "      <td>2018102170</td>\n",
       "      <td>0</td>\n",
       "      <td>12</td>\n",
       "      <td>4.2</td>\n",
       "      <td>1</td>\n",
       "      <td>0.126503</td>\n",
       "    </tr>\n",
       "    <tr>\n",
       "      <th>29886</th>\n",
       "      <td>202407040403</td>\n",
       "      <td>2021106983</td>\n",
       "      <td>1</td>\n",
       "      <td>1</td>\n",
       "      <td>7.3</td>\n",
       "      <td>2</td>\n",
       "      <td>0.111364</td>\n",
       "    </tr>\n",
       "  </tbody>\n",
       "</table>\n",
       "<p>815 rows × 7 columns</p>\n",
       "</div>"
      ],
      "text/plain": [
       "            race_id    horse_id  target  rank  tansho_odds  popularity  \\\n",
       "36828  202408050609  2021106449       1     1          1.4           1   \n",
       "17344  202405040709  2021104844       1     1          1.4           1   \n",
       "17292  202405040705  2022104635       0     4          1.4           1   \n",
       "11053  202404040503  2022102819       1     1          1.3           1   \n",
       "30277  202407040605  2022104732       0     2          1.3           1   \n",
       "...             ...         ...     ...   ...          ...         ...   \n",
       "11269  202404040610  2021106307       0    13          4.1           1   \n",
       "18122  202405050411  2020103063       0     3          7.3           4   \n",
       "38536  202408070207  2021102754       0     5          3.9           1   \n",
       "6384   202403030207  2018102170       0    12          4.2           1   \n",
       "29886  202407040403  2021106983       1     1          7.3           2   \n",
       "\n",
       "           pred  \n",
       "36828  0.896121  \n",
       "17344  0.848708  \n",
       "17292  0.825920  \n",
       "11053  0.822293  \n",
       "30277  0.812081  \n",
       "...         ...  \n",
       "11269  0.137193  \n",
       "18122  0.132217  \n",
       "38536  0.127382  \n",
       "6384   0.126503  \n",
       "29886  0.111364  \n",
       "\n",
       "[815 rows x 7 columns]"
      ]
     },
     "execution_count": 10,
     "metadata": {},
     "output_type": "execute_result"
    }
   ],
   "source": [
    "bet_df"
   ]
  },
  {
   "cell_type": "code",
   "execution_count": 11,
   "metadata": {},
   "outputs": [
    {
     "data": {
      "text/plain": [
       "np.float64(0.3374233128834356)"
      ]
     },
     "execution_count": 11,
     "metadata": {},
     "output_type": "execute_result"
    }
   ],
   "source": [
    "# 的中率\n",
    "bet_df[\"target\"].mean()"
   ]
  },
  {
   "cell_type": "code",
   "execution_count": 12,
   "metadata": {},
   "outputs": [
    {
     "data": {
      "text/plain": [
       "np.float64(0.8505521472392639)"
      ]
     },
     "execution_count": 12,
     "metadata": {},
     "output_type": "execute_result"
    }
   ],
   "source": [
    "# 回収率\n",
    "return_ = ((bet_df[\"target\"] == 1) * bet_df[\"tansho_odds\"]).sum()\n",
    "cost = len(bet_df)\n",
    "return_ / cost"
   ]
  },
  {
   "cell_type": "code",
   "execution_count": 13,
   "metadata": {},
   "outputs": [
    {
     "data": {
      "text/plain": [
       "np.float64(0.3619631901840491)"
      ]
     },
     "execution_count": 13,
     "metadata": {},
     "output_type": "execute_result"
    }
   ],
   "source": [
    "# 回収率が85%となったので、これを１番人気に賭け続けた場合と比較してみる\n",
    "bet_df = (\n",
    "    evaluation_df\n",
    "    .sort_values(\"popularity\")\n",
    "    .groupby(\"race_id\")\n",
    "    .head(1)\n",
    ")\n",
    "# 的中率\n",
    "bet_df[\"target\"].mean()"
   ]
  },
  {
   "cell_type": "code",
   "execution_count": 14,
   "metadata": {},
   "outputs": [
    {
     "data": {
      "text/plain": [
       "np.float64(0.8796319018404909)"
      ]
     },
     "execution_count": 14,
     "metadata": {},
     "output_type": "execute_result"
    }
   ],
   "source": [
    "# 回収率\n",
    "return_ = ((bet_df[\"target\"] == 1) * bet_df[\"tansho_odds\"]).sum()\n",
    "cost = len(bet_df)\n",
    "return_ / cost"
   ]
  },
  {
   "cell_type": "code",
   "execution_count": 15,
   "metadata": {},
   "outputs": [],
   "source": [
    "# 今回の機械学習モデルは的中率も回収率も１番人気に賭け続けたモデルに負けていることになる。\n",
    "# また、機械学習で１着と判定された馬と一番人気が食い違っているデータに絞って\n",
    "# 的中率・回収率を見てみる\n",
    "\n",
    "# 一番人気とモデルの一着判定が違う馬\n",
    "bet_df = (\n",
    "    evaluation_df\n",
    "    .sort_values(\"pred\", ascending=False)\n",
    "    .groupby(\"race_id\")\n",
    "    .head(1)\n",
    "    .query(\"popularity != 1\")\n",
    ")"
   ]
  },
  {
   "cell_type": "code",
   "execution_count": 16,
   "metadata": {},
   "outputs": [
    {
     "data": {
      "text/plain": [
       "np.float64(0.18518518518518517)"
      ]
     },
     "execution_count": 16,
     "metadata": {},
     "output_type": "execute_result"
    }
   ],
   "source": [
    "# 的中率\n",
    "bet_df[\"target\"].mean()"
   ]
  },
  {
   "cell_type": "code",
   "execution_count": 17,
   "metadata": {},
   "outputs": [
    {
     "data": {
      "text/plain": [
       "np.float64(0.7697530864197532)"
      ]
     },
     "execution_count": 17,
     "metadata": {},
     "output_type": "execute_result"
    }
   ],
   "source": [
    "# 回収率\n",
    "return_ = ((bet_df[\"target\"] == 1) * bet_df[\"tansho_odds\"]).sum()\n",
    "cost = len(bet_df)\n",
    "return_ / cost"
   ]
  },
  {
   "cell_type": "code",
   "execution_count": null,
   "metadata": {},
   "outputs": [],
   "source": [
    "#pip install matplotlib"
   ]
  },
  {
   "cell_type": "code",
   "execution_count": 18,
   "metadata": {},
   "outputs": [
    {
     "name": "stderr",
     "output_type": "stream",
     "text": [
      "Matplotlib is building the font cache; this may take a moment.\n"
     ]
    },
    {
     "data": {
      "text/plain": [
       "<Axes: title={'center': 'Feature importance'}, xlabel='Feature importance', ylabel='Features'>"
      ]
     },
     "execution_count": 18,
     "metadata": {},
     "output_type": "execute_result"
    },
    {
     "data": {
      "image/png": "[encoded data removed]",
      "text/plain": [
       "<Figure size 640x480 with 1 Axes>"
      ]
     },
     "metadata": {},
     "output_type": "display_data"
    }
   ],
   "source": [
    "lgb.plot_importance(model)"
   ]
  },
  {
   "cell_type": "code",
   "execution_count": 19,
   "metadata": {},
   "outputs": [
    {
     "data": {
      "text/plain": [
       "<Axes: title={'center': 'Feature importance'}, xlabel='Feature importance', ylabel='Features'>"
      ]
     },
     "execution_count": 19,
     "metadata": {},
     "output_type": "execute_result"
    },
    {
     "data": {
      "image/png": "[encoded data removed]",
      "text/plain": [
       "<Figure size 640x480 with 1 Axes>"
      ]
     },
     "metadata": {},
     "output_type": "display_data"
    }
   ],
   "source": [
    "lgb.plot_importance(model, importance_type=\"gain\")"
   ]
  },
  {
   "cell_type": "markdown",
   "metadata": {},
   "source": [
    "# 予測処理"
   ]
  }
 ],
 "metadata": {
  "kernelspec": {
   "display_name": "keibavenv",
   "language": "python",
   "name": "python3"
  },
  "language_info": {
   "codemirror_mode": {
    "name": "ipython",
    "version": 3
   },
   "file_extension": ".py",
   "mimetype": "text/x-python",
   "name": "python",
   "nbconvert_exporter": "python",
   "pygments_lexer": "ipython3",
   "version": "3.9.6"
  }
 },
 "nbformat": 4,
 "nbformat_minor": 2
}
