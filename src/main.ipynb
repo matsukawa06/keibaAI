{
 "cells": [
  {
   "cell_type": "code",
   "execution_count": 2,
   "metadata": {},
   "outputs": [],
   "source": [
    "import scraping"
   ]
  },
  {
   "cell_type": "markdown",
   "metadata": {},
   "source": [
    "# データ取得"
   ]
  },
  {
   "cell_type": "markdown",
   "metadata": {},
   "source": [
    "## 開催日一覧を取得"
   ]
  },
  {
   "cell_type": "code",
   "execution_count": 2,
   "metadata": {},
   "outputs": [
    {
     "data": {
      "application/vnd.jupyter.widget-view+json": {
       "model_id": "33512cea008948a9b3a0c238b5bc1e24",
       "version_major": 2,
       "version_minor": 0
      },
      "text/plain": [
       "  0%|          | 0/12 [00:00<?, ?it/s]"
      ]
     },
     "metadata": {},
     "output_type": "display_data"
    },
    {
     "name": "stderr",
     "output_type": "stream",
     "text": [
      "/Users/matsukawanaoya/develop/python/keibaAI/src/scraping.py:22: GuessedAtParserWarning: No parser was explicitly specified, so I'm using the best available HTML parser for this system (\"lxml\"). This usually isn't a problem, but if you run this code on another system, or in a different virtual environment, it may use a different parser and behave differently.\n",
      "\n",
      "The code that caused this warning is on line 22 of the file /Users/matsukawanaoya/develop/python/keibaAI/src/scraping.py. To get rid of this warning, pass the additional argument 'features=\"lxml\"' to the BeautifulSoup constructor.\n",
      "\n",
      "  soup = BeautifulSoup(html)\n"
     ]
    },
    {
     "data": {
      "text/plain": [
       "['20240106',\n",
       " '20240107',\n",
       " '20240108',\n",
       " '20240113',\n",
       " '20240114',\n",
       " '20240120',\n",
       " '20240121',\n",
       " '20240127',\n",
       " '20240128',\n",
       " '20240203',\n",
       " '20240204',\n",
       " '20240210',\n",
       " '20240211',\n",
       " '20240217',\n",
       " '20240218',\n",
       " '20240224',\n",
       " '20240225',\n",
       " '20240302',\n",
       " '20240303',\n",
       " '20240309',\n",
       " '20240310',\n",
       " '20240316',\n",
       " '20240317',\n",
       " '20240323',\n",
       " '20240324',\n",
       " '20240330',\n",
       " '20240331',\n",
       " '20240406',\n",
       " '20240407',\n",
       " '20240413',\n",
       " '20240414',\n",
       " '20240420',\n",
       " '20240421',\n",
       " '20240427',\n",
       " '20240428',\n",
       " '20240504',\n",
       " '20240505',\n",
       " '20240511',\n",
       " '20240512',\n",
       " '20240518',\n",
       " '20240519',\n",
       " '20240525',\n",
       " '20240526',\n",
       " '20240601',\n",
       " '20240602',\n",
       " '20240608',\n",
       " '20240609',\n",
       " '20240615',\n",
       " '20240616',\n",
       " '20240622',\n",
       " '20240623',\n",
       " '20240629',\n",
       " '20240630',\n",
       " '20240706',\n",
       " '20240707',\n",
       " '20240713',\n",
       " '20240714',\n",
       " '20240720',\n",
       " '20240721',\n",
       " '20240727',\n",
       " '20240728',\n",
       " '20240803',\n",
       " '20240804',\n",
       " '20240810',\n",
       " '20240811',\n",
       " '20240817',\n",
       " '20240818',\n",
       " '20240824',\n",
       " '20240825',\n",
       " '20240831',\n",
       " '20240901',\n",
       " '20240907',\n",
       " '20240908',\n",
       " '20240914',\n",
       " '20240915',\n",
       " '20240916',\n",
       " '20240921',\n",
       " '20240922',\n",
       " '20240928',\n",
       " '20240929',\n",
       " '20241005',\n",
       " '20241006',\n",
       " '20241012',\n",
       " '20241013',\n",
       " '20241014',\n",
       " '20241019',\n",
       " '20241020',\n",
       " '20241026',\n",
       " '20241027',\n",
       " '20241102',\n",
       " '20241103',\n",
       " '20241109',\n",
       " '20241110',\n",
       " '20241116',\n",
       " '20241117',\n",
       " '20241123',\n",
       " '20241124',\n",
       " '20241130',\n",
       " '20241201',\n",
       " '20241207',\n",
       " '20241208',\n",
       " '20241214',\n",
       " '20241215',\n",
       " '20241221',\n",
       " '20241222',\n",
       " '20241228']"
      ]
     },
     "execution_count": 2,
     "metadata": {},
     "output_type": "execute_result"
    }
   ],
   "source": [
    "scraping.scrape_kaisai_date(from_=\"2024-01\", to_=\"2024-12\")"
   ]
  }
 ],
 "metadata": {
  "kernelspec": {
   "display_name": "keibavenv",
   "language": "python",
   "name": "python3"
  },
  "language_info": {
   "codemirror_mode": {
    "name": "ipython",
    "version": 3
   },
   "file_extension": ".py",
   "mimetype": "text/x-python",
   "name": "python",
   "nbconvert_exporter": "python",
   "pygments_lexer": "ipython3",
   "version": "3.9.6"
  }
 },
 "nbformat": 4,
 "nbformat_minor": 2
}
