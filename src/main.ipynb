{
 "cells": [
  {
   "cell_type": "code",
   "execution_count": 15,
   "metadata": {},
   "outputs": [
    {
     "name": "stdout",
     "output_type": "stream",
     "text": [
      "The autoreload extension is already loaded. To reload it, use:\n",
      "  %reload_ext autoreload\n"
     ]
    }
   ],
   "source": [
    "import scraping\n",
    "import pickle\n",
    "import create_rawdf\n",
    "%load_ext autoreload"
   ]
  },
  {
   "cell_type": "code",
   "execution_count": 23,
   "metadata": {},
   "outputs": [],
   "source": [
    "%autoreload"
   ]
  },
  {
   "cell_type": "markdown",
   "metadata": {},
   "source": [
    "# データ取得"
   ]
  },
  {
   "cell_type": "markdown",
   "metadata": {},
   "source": [
    "## 開催日一覧を取得"
   ]
  },
  {
   "cell_type": "code",
   "execution_count": 2,
   "metadata": {},
   "outputs": [
    {
     "data": {
      "application/vnd.jupyter.widget-view+json": {
       "model_id": "aec70808dd5a488c99970b88351988bb",
       "version_major": 2,
       "version_minor": 0
      },
      "text/plain": [
       "  0%|          | 0/12 [00:00<?, ?it/s]"
      ]
     },
     "metadata": {},
     "output_type": "display_data"
    }
   ],
   "source": [
    "kaisai_date_list = scraping.scrape_kaisai_date(from_=\"2024-01\", to_=\"2024-12\")"
   ]
  },
  {
   "cell_type": "code",
   "execution_count": 5,
   "metadata": {},
   "outputs": [
    {
     "data": {
      "application/vnd.jupyter.widget-view+json": {
       "model_id": "bffe0f8deb38492bb0257a00b3cce234",
       "version_major": 2,
       "version_minor": 0
      },
      "text/plain": [
       "  0%|          | 0/106 [00:00<?, ?it/s]"
      ]
     },
     "metadata": {},
     "output_type": "display_data"
    }
   ],
   "source": [
    "race_id_list = scraping.scrape_race_id_list(kaisai_date_list)"
   ]
  },
  {
   "cell_type": "markdown",
   "metadata": {},
   "source": [
    "レースidリストの読み込みにすごく時間がかかったので<br>\n",
    "ファイルに保存しておく"
   ]
  },
  {
   "cell_type": "code",
   "execution_count": 9,
   "metadata": {},
   "outputs": [],
   "source": [
    "# wbはwrite bynariの略\n",
    "with open(\"race_id_list.pickle\", \"wb\") as f:\n",
    "    pickle.dump(race_id_list, f)"
   ]
  },
  {
   "cell_type": "markdown",
   "metadata": {},
   "source": [
    "## raceページの取得"
   ]
  },
  {
   "cell_type": "code",
   "execution_count": 3,
   "metadata": {},
   "outputs": [],
   "source": [
    "with open(\"race_id_list.pickle\", \"rb\") as f:\n",
    "    race_id_list = pickle.load(f)"
   ]
  },
  {
   "cell_type": "code",
   "execution_count": null,
   "metadata": {},
   "outputs": [],
   "source": [
    "html_paths_race = scraping.scrape_html_race(race_id_list=race_id_list)"
   ]
  },
  {
   "cell_type": "code",
   "execution_count": 24,
   "metadata": {},
   "outputs": [],
   "source": [
    "# html_paths_raceが失われた場合はファイルから読み込む\n",
    "if \"html_paths_race\" not in locals():\n",
    "    html_paths_race = list(scraping.HTML_RACE_DIR.glob(\"*.bin\"))"
   ]
  },
  {
   "cell_type": "code",
   "execution_count": 25,
   "metadata": {},
   "outputs": [
    {
     "data": {
      "application/vnd.jupyter.widget-view+json": {
       "model_id": "21292a23e84f4268984a9c6c89a7c461",
       "version_major": 2,
       "version_minor": 0
      },
      "text/plain": [
       "  0%|          | 0/3454 [00:00<?, ?it/s]"
      ]
     },
     "metadata": {},
     "output_type": "display_data"
    },
    {
     "name": "stdout",
     "output_type": "stream",
     "text": [
      "table not found at 202408070602\n",
      "table not found at 202404040602\n",
      "table not found at 202406040906\n",
      "table not found at 202408050707\n",
      "table not found at 202407030501\n",
      "table not found at 202408060202\n",
      "table not found at 202408060606\n",
      "table not found at 202410030709\n",
      "table not found at 202408060604\n",
      "table not found at 202407020506\n",
      "table not found at 202403030208\n",
      "table not found at 202404040406\n",
      "table not found at 202408050304\n",
      "table not found at 202407030103\n",
      "table not found at 202408060402\n",
      "table not found at 202407020501\n",
      "table not found at 202407020105\n",
      "table not found at 202408070305\n",
      "table not found at 202407030601\n",
      "table not found at 202408060506\n",
      "table not found at 202408050605\n",
      "table not found at 202405050412\n",
      "table not found at 202408050404\n",
      "table not found at 202404040101\n",
      "table not found at 202410020804\n",
      "table not found at 202408040202\n",
      "table not found at 202405040203\n",
      "table not found at 202401020809\n",
      "table not found at 202408050601\n",
      "table not found at 202408050402\n",
      "table not found at 202410030601\n",
      "table not found at 202404030601\n",
      "table not found at 202407020801\n",
      "table not found at 202403020501\n",
      "table not found at 202403030104\n",
      "table not found at 202406040407\n",
      "table not found at 202403020504\n",
      "table not found at 202403030411\n",
      "table not found at 202403030203\n",
      "table not found at 202405030211\n",
      "table not found at 202406040503\n",
      "table not found at 202410020705\n",
      "table not found at 202404010605\n",
      "table not found at 202404030701\n",
      "table not found at 202404010604\n",
      "table not found at 202410020704\n",
      "table not found at 202405040108\n",
      "table not found at 202404030704\n",
      "table not found at 202403020808\n",
      "table not found at 202406040704\n",
      "table not found at 202403030603\n"
     ]
    }
   ],
   "source": [
    "results = create_rawdf.create_results(html_path_list=html_paths_race)"
   ]
  },
  {
   "cell_type": "code",
   "execution_count": 27,
   "metadata": {},
   "outputs": [
    {
     "data": {
      "text/plain": [
       "着順               0\n",
       "枠番               0\n",
       "馬番               0\n",
       "馬名               0\n",
       "性齢               0\n",
       "斤量               0\n",
       "騎手               0\n",
       "タイム            422\n",
       "着差            3825\n",
       "単勝               0\n",
       "人気             186\n",
       "馬体重              0\n",
       "調教師              0\n",
       "horse_id         0\n",
       "jockey_id        0\n",
       "trainer_id       0\n",
       "owner_id         0\n",
       "dtype: int64"
      ]
     },
     "execution_count": 27,
     "metadata": {},
     "output_type": "execute_result"
    }
   ],
   "source": [
    "# 欠損チェック\n",
    "results.isnull().sum()"
   ]
  },
  {
   "cell_type": "code",
   "execution_count": 29,
   "metadata": {},
   "outputs": [
    {
     "data": {
      "text/plain": [
       "np.int64(0)"
      ]
     },
     "execution_count": 29,
     "metadata": {},
     "output_type": "execute_result"
    }
   ],
   "source": [
    "# 重複チェック\n",
    "# race_idとhorse_idが同じ行が存在する場合Trueになるのでその件数を確認\n",
    "results.reset_index()[[\"race_id\", \"horse_id\"]].duplicated().sum()"
   ]
  },
  {
   "cell_type": "markdown",
   "metadata": {},
   "source": [
    "## horseページからのデータ取得"
   ]
  },
  {
   "cell_type": "code",
   "execution_count": 30,
   "metadata": {},
   "outputs": [
    {
     "data": {
      "text/plain": [
       "11730"
      ]
     },
     "execution_count": 30,
     "metadata": {},
     "output_type": "execute_result"
    }
   ],
   "source": [
    "horse_id_list = results[\"horse_id\"].unique()\n",
    "len(horse_id_list)"
   ]
  },
  {
   "cell_type": "code",
   "execution_count": 31,
   "metadata": {},
   "outputs": [
    {
     "data": {
      "application/vnd.jupyter.widget-view+json": {
       "model_id": "d9493093af1a4cd3a085171e5b2c63be",
       "version_major": 2,
       "version_minor": 0
      },
      "text/plain": [
       "  0%|          | 0/11730 [00:00<?, ?it/s]"
      ]
     },
     "metadata": {},
     "output_type": "display_data"
    },
    {
     "name": "stdout",
     "output_type": "stream",
     "text": [
      "skipped: 2022105102\n",
      "skipped: 2022101420\n",
      "skipped: 2022105991\n",
      "skipped: 2022104720\n",
      "skipped: 2022110054\n",
      "skipped: 2022104715\n",
      "skipped: 2022104859\n",
      "skipped: 2022100540\n",
      "skipped: 2022107202\n"
     ]
    }
   ],
   "source": [
    "html_paths_horse = scraping.scrape_html_horse(horse_id_list=horse_id_list)"
   ]
  }
 ],
 "metadata": {
  "kernelspec": {
   "display_name": "keibavenv",
   "language": "python",
   "name": "python3"
  },
  "language_info": {
   "codemirror_mode": {
    "name": "ipython",
    "version": 3
   },
   "file_extension": ".py",
   "mimetype": "text/x-python",
   "name": "python",
   "nbconvert_exporter": "python",
   "pygments_lexer": "ipython3",
   "version": "3.9.6"
  }
 },
 "nbformat": 4,
 "nbformat_minor": 2
}
